{
 "cells": [
  {
   "cell_type": "markdown",
   "id": "d70ff404",
   "metadata": {},
   "source": [
    "# using *Sklearn*"
   ]
  },
  {
   "cell_type": "code",
   "execution_count": 5,
   "id": "4281fdc8",
   "metadata": {},
   "outputs": [],
   "source": [
    "import numpy as np\n",
    "import pandas as pd\n",
    "import matplotlib.pyplot as plt\n",
    "from sklearn.model_selection import train_test_split\n",
    "from sklearn.datasets import make_regression\n",
    "from sklearn.metrics import r2_score\n",
    "from sklearn.linear_model import Lasso"
   ]
  },
  {
   "cell_type": "code",
   "execution_count": 6,
   "id": "f09b0dab",
   "metadata": {},
   "outputs": [],
   "source": [
    "X , y = make_regression(n_samples=100, n_features=1, n_informative=1, n_targets=1, random_state=13, noise=20)"
   ]
  },
  {
   "cell_type": "code",
   "execution_count": 7,
   "id": "fd889f8a",
   "metadata": {},
   "outputs": [],
   "source": [
    "X_train, X_test, y_train, y_test = train_test_split(X,y,test_size=0.2, random_state=2)"
   ]
  },
  {
   "cell_type": "code",
   "execution_count": 8,
   "id": "4a18131a",
   "metadata": {},
   "outputs": [],
   "source": [
    "def lassochecker(alpha_val):\n",
    "    lr = Lasso(alpha_val)\n",
    "    lr.fit(X_train,y_train)\n",
    "    y_pred = lr.predict(X_test)\n",
    "    print('-----using scikit learn-----')\n",
    "    print('alpha === ',alpha_val)\n",
    "    print('r2_score ::: ',r2_score(y_test,y_pred)*100)  \n",
    "    print('slope ::: ',lr.coef_)\n",
    "    print('intercept :::',lr.intercept_)"
   ]
  },
  {
   "cell_type": "code",
   "execution_count": 9,
   "id": "e31bba98",
   "metadata": {},
   "outputs": [
    {
     "name": "stdout",
     "output_type": "stream",
     "text": [
      "-----using scikit learn-----\n",
      "alpha ===  0.1\n",
      "r2_score :::  63.49767367590987\n",
      "slope :::  [28.0202589]\n",
      "intercept ::: -2.265660332929844\n"
     ]
    }
   ],
   "source": [
    "lassochecker(0.1)"
   ]
  },
  {
   "cell_type": "markdown",
   "id": "35645713",
   "metadata": {},
   "source": [
    "# using *Formulation*"
   ]
  },
  {
   "cell_type": "code",
   "execution_count": 11,
   "id": "fd019d71",
   "metadata": {},
   "outputs": [],
   "source": [
    "class LassoRegression:\n",
    "    \n",
    "    def __init__(self,alpha):\n",
    "        self.alp = alpha\n",
    "        self.m = 1\n",
    "        self.b = 0\n",
    "    \n",
    "    def fit(self, X_train, y_train):\n",
    "        num = 0\n",
    "        den = 0\n",
    "        X_bar = np.mean(X_train)\n",
    "        y_bar = np.mean(y_train)\n",
    "        for i in range(X_train.shape[0]):\n",
    "            num = num + ((X_train[i] - X_bar) * (y_train[i] - y_bar))\n",
    "            den = den + ((X_train[i] - X_bar) * (X_train[i] - X_bar))\n",
    "        \n",
    "        if(self.m > 0):\n",
    "            self.m = ( num - self.alp ) / den\n",
    "        else :\n",
    "            self.m = ( num + self.alp ) / den\n",
    "        self.b = y_bar - (self.m * X_bar)\n",
    "        \n",
    "    def predict(self, X_test):\n",
    "        y_pred = (self.m * X_test) + self.b\n",
    "        return y_pred"
   ]
  },
  {
   "cell_type": "code",
   "execution_count": 12,
   "id": "7382186d",
   "metadata": {},
   "outputs": [],
   "source": [
    "def lassochecker2(alpha_val):\n",
    "    lrf = LassoRegression(alpha_val)\n",
    "    lrf.fit(X_train, y_train)\n",
    "    y_pred = lrf.predict(X_test)\n",
    "    print('-----using formulation-----')\n",
    "    print('alpha === ',alpha_val)\n",
    "    print('r2_score ::: ',r2_score(y_test,y_pred)*100)  \n",
    "    print('slope ::: ',lrf.m)\n",
    "    print('intercept :::',lrf.b)"
   ]
  },
  {
   "cell_type": "code",
   "execution_count": 14,
   "id": "cb7b6cb5",
   "metadata": {},
   "outputs": [
    {
     "name": "stdout",
     "output_type": "stream",
     "text": [
      "-----using formulation-----\n",
      "alpha ===  0.1\n",
      "r2_score :::  63.452177176139514\n",
      "slope :::  [28.12465188]\n",
      "intercept ::: [-2.2709475]\n",
      "-----using scikit learn-----\n",
      "alpha ===  0.1\n",
      "r2_score :::  63.49767367590987\n",
      "slope :::  [28.0202589]\n",
      "intercept ::: -2.265660332929844\n"
     ]
    }
   ],
   "source": [
    "lassochecker2(0.1)\n",
    "lassochecker(0.1)"
   ]
  },
  {
   "cell_type": "code",
   "execution_count": null,
   "id": "01ba541f",
   "metadata": {},
   "outputs": [],
   "source": []
  }
 ],
 "metadata": {
  "kernelspec": {
   "display_name": "Python 3 (ipykernel)",
   "language": "python",
   "name": "python3"
  },
  "language_info": {
   "codemirror_mode": {
    "name": "ipython",
    "version": 3
   },
   "file_extension": ".py",
   "mimetype": "text/x-python",
   "name": "python",
   "nbconvert_exporter": "python",
   "pygments_lexer": "ipython3",
   "version": "3.9.7"
  }
 },
 "nbformat": 4,
 "nbformat_minor": 5
}
