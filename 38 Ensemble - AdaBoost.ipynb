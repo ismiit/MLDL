{
 "cells": [
  {
   "cell_type": "code",
   "execution_count": 1,
   "id": "347d480a",
   "metadata": {},
   "outputs": [],
   "source": [
    "import numpy as np\n",
    "import pandas as pd\n",
    "import matplotlib.pyplot as plt\n",
    "import seaborn as sns\n",
    "\n",
    "from sklearn.linear_model import LogisticRegression\n",
    "from sklearn.tree import DecisionTreeClassifier\n",
    "from sklearn.neighbors import KNeighborsClassifier\n",
    "from sklearn.naive_bayes import GaussianNB, MultinomialNB, BernoulliNB\n",
    "from sklearn.svm import SVC\n",
    "from sklearn.ensemble import RandomForestClassifier\n",
    "from sklearn.ensemble import VotingClassifier\n",
    "from sklearn.ensemble import BaggingClassifier\n",
    "from sklearn.ensemble import AdaBoostClassifier\n",
    "\n",
    "from sklearn.model_selection import train_test_split\n",
    "from sklearn.model_selection import cross_val_score\n",
    "from sklearn.metrics import classification_report\n",
    "from sklearn.preprocessing import StandardScaler"
   ]
  },
  {
   "cell_type": "code",
   "execution_count": 2,
   "id": "d17f1611",
   "metadata": {},
   "outputs": [
    {
     "data": {
      "text/html": [
       "<div>\n",
       "<style scoped>\n",
       "    .dataframe tbody tr th:only-of-type {\n",
       "        vertical-align: middle;\n",
       "    }\n",
       "\n",
       "    .dataframe tbody tr th {\n",
       "        vertical-align: top;\n",
       "    }\n",
       "\n",
       "    .dataframe thead th {\n",
       "        text-align: right;\n",
       "    }\n",
       "</style>\n",
       "<table border=\"1\" class=\"dataframe\">\n",
       "  <thead>\n",
       "    <tr style=\"text-align: right;\">\n",
       "      <th></th>\n",
       "      <th>Gender</th>\n",
       "      <th>Age</th>\n",
       "      <th>EstimatedSalary</th>\n",
       "      <th>Purchased</th>\n",
       "    </tr>\n",
       "  </thead>\n",
       "  <tbody>\n",
       "    <tr>\n",
       "      <th>0</th>\n",
       "      <td>Male</td>\n",
       "      <td>19</td>\n",
       "      <td>19000</td>\n",
       "      <td>0</td>\n",
       "    </tr>\n",
       "    <tr>\n",
       "      <th>1</th>\n",
       "      <td>Male</td>\n",
       "      <td>35</td>\n",
       "      <td>20000</td>\n",
       "      <td>0</td>\n",
       "    </tr>\n",
       "    <tr>\n",
       "      <th>2</th>\n",
       "      <td>Female</td>\n",
       "      <td>26</td>\n",
       "      <td>43000</td>\n",
       "      <td>0</td>\n",
       "    </tr>\n",
       "    <tr>\n",
       "      <th>3</th>\n",
       "      <td>Female</td>\n",
       "      <td>27</td>\n",
       "      <td>57000</td>\n",
       "      <td>0</td>\n",
       "    </tr>\n",
       "    <tr>\n",
       "      <th>4</th>\n",
       "      <td>Male</td>\n",
       "      <td>19</td>\n",
       "      <td>76000</td>\n",
       "      <td>0</td>\n",
       "    </tr>\n",
       "  </tbody>\n",
       "</table>\n",
       "</div>"
      ],
      "text/plain": [
       "   Gender  Age  EstimatedSalary  Purchased\n",
       "0    Male   19            19000          0\n",
       "1    Male   35            20000          0\n",
       "2  Female   26            43000          0\n",
       "3  Female   27            57000          0\n",
       "4    Male   19            76000          0"
      ]
     },
     "execution_count": 2,
     "metadata": {},
     "output_type": "execute_result"
    }
   ],
   "source": [
    "data = pd.read_csv('data/Social_Network_Ads.csv')\n",
    "data.drop('User ID',axis=1,inplace=True)\n",
    "data.head()"
   ]
  },
  {
   "cell_type": "code",
   "execution_count": 3,
   "id": "66d2da22",
   "metadata": {},
   "outputs": [
    {
     "name": "stderr",
     "output_type": "stream",
     "text": [
      "C:\\Users\\91700\\AppData\\Local\\Temp/ipykernel_12712/2937971491.py:3: SettingWithCopyWarning: \n",
      "A value is trying to be set on a copy of a slice from a DataFrame\n",
      "\n",
      "See the caveats in the documentation: https://pandas.pydata.org/pandas-docs/stable/user_guide/indexing.html#returning-a-view-versus-a-copy\n",
      "  data['Gender'][i] = 1\n",
      "C:\\Users\\91700\\AppData\\Local\\Temp/ipykernel_12712/2937971491.py:5: SettingWithCopyWarning: \n",
      "A value is trying to be set on a copy of a slice from a DataFrame\n",
      "\n",
      "See the caveats in the documentation: https://pandas.pydata.org/pandas-docs/stable/user_guide/indexing.html#returning-a-view-versus-a-copy\n",
      "  data['Gender'][i] = 0\n"
     ]
    },
    {
     "data": {
      "text/html": [
       "<div>\n",
       "<style scoped>\n",
       "    .dataframe tbody tr th:only-of-type {\n",
       "        vertical-align: middle;\n",
       "    }\n",
       "\n",
       "    .dataframe tbody tr th {\n",
       "        vertical-align: top;\n",
       "    }\n",
       "\n",
       "    .dataframe thead th {\n",
       "        text-align: right;\n",
       "    }\n",
       "</style>\n",
       "<table border=\"1\" class=\"dataframe\">\n",
       "  <thead>\n",
       "    <tr style=\"text-align: right;\">\n",
       "      <th></th>\n",
       "      <th>Gender</th>\n",
       "      <th>Age</th>\n",
       "      <th>EstimatedSalary</th>\n",
       "      <th>Purchased</th>\n",
       "    </tr>\n",
       "  </thead>\n",
       "  <tbody>\n",
       "    <tr>\n",
       "      <th>0</th>\n",
       "      <td>1</td>\n",
       "      <td>19</td>\n",
       "      <td>19000</td>\n",
       "      <td>0</td>\n",
       "    </tr>\n",
       "    <tr>\n",
       "      <th>1</th>\n",
       "      <td>1</td>\n",
       "      <td>35</td>\n",
       "      <td>20000</td>\n",
       "      <td>0</td>\n",
       "    </tr>\n",
       "    <tr>\n",
       "      <th>2</th>\n",
       "      <td>0</td>\n",
       "      <td>26</td>\n",
       "      <td>43000</td>\n",
       "      <td>0</td>\n",
       "    </tr>\n",
       "    <tr>\n",
       "      <th>3</th>\n",
       "      <td>0</td>\n",
       "      <td>27</td>\n",
       "      <td>57000</td>\n",
       "      <td>0</td>\n",
       "    </tr>\n",
       "    <tr>\n",
       "      <th>4</th>\n",
       "      <td>1</td>\n",
       "      <td>19</td>\n",
       "      <td>76000</td>\n",
       "      <td>0</td>\n",
       "    </tr>\n",
       "  </tbody>\n",
       "</table>\n",
       "</div>"
      ],
      "text/plain": [
       "  Gender  Age  EstimatedSalary  Purchased\n",
       "0      1   19            19000          0\n",
       "1      1   35            20000          0\n",
       "2      0   26            43000          0\n",
       "3      0   27            57000          0\n",
       "4      1   19            76000          0"
      ]
     },
     "execution_count": 3,
     "metadata": {},
     "output_type": "execute_result"
    }
   ],
   "source": [
    "for i in range(data.shape[0]):\n",
    "    if(data['Gender'][i]=='Male'):\n",
    "        data['Gender'][i] = 1\n",
    "    else:\n",
    "        data['Gender'][i] = 0\n",
    "\n",
    "data.head()"
   ]
  },
  {
   "cell_type": "code",
   "execution_count": 4,
   "id": "2d4383d3",
   "metadata": {},
   "outputs": [],
   "source": [
    "X = data.drop('Purchased',axis=1)\n",
    "y = data['Purchased']\n",
    "X_train, X_test, y_train, y_test = train_test_split(X,y,test_size = 0.2, random_state = 2) "
   ]
  },
  {
   "cell_type": "code",
   "execution_count": 5,
   "id": "a238abba",
   "metadata": {},
   "outputs": [],
   "source": [
    "scaler = StandardScaler()\n",
    "X_train2 = scaler.fit_transform(X_train)\n",
    "X_test2 = scaler.transform(X_test)\n",
    "X2 = scaler.fit_transform(X)"
   ]
  },
  {
   "cell_type": "code",
   "execution_count": 6,
   "id": "6d05a192",
   "metadata": {},
   "outputs": [],
   "source": [
    "lr = LogisticRegression()\n",
    "dt = DecisionTreeClassifier()\n",
    "knn = KNeighborsClassifier()\n",
    "gnb = GaussianNB()\n",
    "svm = SVC(probability=True)\n",
    "rf = RandomForestClassifier()\n",
    "adab = AdaBoostClassifier()"
   ]
  },
  {
   "cell_type": "code",
   "execution_count": 7,
   "id": "3384f90e",
   "metadata": {},
   "outputs": [],
   "source": [
    "estimator_list = [('lr',lr),('dt',dt),('knn',knn),('gnb',gnb),('svm',svm)]"
   ]
  },
  {
   "cell_type": "code",
   "execution_count": 8,
   "id": "ff8446e9",
   "metadata": {},
   "outputs": [],
   "source": [
    "vt_clf_hard = VotingClassifier(estimators=estimator_list, voting='hard' )\n",
    "vt_clf_soft = VotingClassifier(estimators=estimator_list, voting='soft' )"
   ]
  },
  {
   "cell_type": "code",
   "execution_count": 9,
   "id": "7eda00d2",
   "metadata": {},
   "outputs": [],
   "source": [
    "bag = BaggingClassifier(base_estimator=dt,n_estimators=100,max_samples=0.3,bootstrap=True,n_jobs=-1)\n",
    "past = BaggingClassifier(base_estimator=dt,n_estimators=100,max_samples=1,bootstrap=False,n_jobs=-1)\n",
    "subspace = BaggingClassifier(base_estimator=dt,n_estimators=100,max_samples=1,bootstrap=False,max_features=0.5,bootstrap_features=True,n_jobs=-1)\n",
    "patch = BaggingClassifier(base_estimator=dt,n_estimators=100,max_samples=0.3,bootstrap=True,max_features=0.5,bootstrap_features=True,n_jobs=-1)"
   ]
  },
  {
   "cell_type": "code",
   "execution_count": 10,
   "id": "6a3ef667",
   "metadata": {},
   "outputs": [],
   "source": [
    "model_list = [lr,dt,knn,gnb,svm,vt_clf_hard,vt_clf_soft,bag,past,subspace,patch,rf,adab]"
   ]
  },
  {
   "cell_type": "code",
   "execution_count": 11,
   "id": "91b685ea",
   "metadata": {},
   "outputs": [],
   "source": [
    "def cross_validate(model,X,y):\n",
    "    cv_score = cross_val_score(model,X,y,cv=10,scoring='accuracy')\n",
    "    print('model ::::::   ', model)\n",
    "    print('cross validated score === ',cv_score.mean()*100)"
   ]
  },
  {
   "cell_type": "code",
   "execution_count": 12,
   "id": "fc56ff70",
   "metadata": {},
   "outputs": [
    {
     "name": "stdout",
     "output_type": "stream",
     "text": [
      "model ::::::    LogisticRegression()\n",
      "cross validated score ===  82.25\n",
      "model ::::::    DecisionTreeClassifier()\n",
      "cross validated score ===  83.5\n",
      "model ::::::    KNeighborsClassifier()\n",
      "cross validated score ===  90.75\n",
      "model ::::::    GaussianNB()\n",
      "cross validated score ===  87.5\n",
      "model ::::::    SVC(probability=True)\n",
      "cross validated score ===  90.5\n",
      "model ::::::    VotingClassifier(estimators=[('lr', LogisticRegression()),\n",
      "                             ('dt', DecisionTreeClassifier()),\n",
      "                             ('knn', KNeighborsClassifier()),\n",
      "                             ('gnb', GaussianNB()),\n",
      "                             ('svm', SVC(probability=True))])\n",
      "cross validated score ===  88.00000000000001\n",
      "model ::::::    VotingClassifier(estimators=[('lr', LogisticRegression()),\n",
      "                             ('dt', DecisionTreeClassifier()),\n",
      "                             ('knn', KNeighborsClassifier()),\n",
      "                             ('gnb', GaussianNB()),\n",
      "                             ('svm', SVC(probability=True))],\n",
      "                 voting='soft')\n",
      "cross validated score ===  88.25\n",
      "model ::::::    BaggingClassifier(base_estimator=DecisionTreeClassifier(), max_samples=0.3,\n",
      "                  n_estimators=100, n_jobs=-1)\n",
      "cross validated score ===  90.24999999999999\n",
      "model ::::::    BaggingClassifier(base_estimator=DecisionTreeClassifier(), bootstrap=False,\n",
      "                  max_samples=1, n_estimators=100, n_jobs=-1)\n",
      "cross validated score ===  64.25\n",
      "model ::::::    BaggingClassifier(base_estimator=DecisionTreeClassifier(), bootstrap=False,\n",
      "                  bootstrap_features=True, max_features=0.5, max_samples=1,\n",
      "                  n_estimators=100, n_jobs=-1)\n",
      "cross validated score ===  64.25\n",
      "model ::::::    BaggingClassifier(base_estimator=DecisionTreeClassifier(),\n",
      "                  bootstrap_features=True, max_features=0.5, max_samples=0.3,\n",
      "                  n_estimators=100, n_jobs=-1)\n",
      "cross validated score ===  79.25000000000001\n",
      "model ::::::    RandomForestClassifier()\n",
      "cross validated score ===  87.5\n",
      "model ::::::    AdaBoostClassifier()\n",
      "cross validated score ===  86.99999999999999\n"
     ]
    }
   ],
   "source": [
    "for model in model_list:\n",
    "    cross_validate(model,X2,y)"
   ]
  },
  {
   "cell_type": "code",
   "execution_count": null,
   "id": "e4b5fd81",
   "metadata": {},
   "outputs": [],
   "source": []
  }
 ],
 "metadata": {
  "kernelspec": {
   "display_name": "Python 3 (ipykernel)",
   "language": "python",
   "name": "python3"
  },
  "language_info": {
   "codemirror_mode": {
    "name": "ipython",
    "version": 3
   },
   "file_extension": ".py",
   "mimetype": "text/x-python",
   "name": "python",
   "nbconvert_exporter": "python",
   "pygments_lexer": "ipython3",
   "version": "3.9.7"
  }
 },
 "nbformat": 4,
 "nbformat_minor": 5
}
