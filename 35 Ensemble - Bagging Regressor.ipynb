{
 "cells": [
  {
   "cell_type": "code",
   "execution_count": 18,
   "id": "23262a2d",
   "metadata": {},
   "outputs": [],
   "source": [
    "import numpy as np\n",
    "import pandas as pd\n",
    "import matplotlib.pyplot as plt\n",
    "import seaborn as sns\n",
    "\n",
    "from sklearn.linear_model import LinearRegression\n",
    "from sklearn.linear_model import Ridge\n",
    "from sklearn.linear_model import Lasso\n",
    "from sklearn.tree import DecisionTreeRegressor\n",
    "from sklearn.neighbors import KNeighborsRegressor\n",
    "from sklearn.svm import SVR\n",
    "from sklearn.ensemble import RandomForestRegressor\n",
    "from sklearn.ensemble import VotingRegressor\n",
    "from sklearn.ensemble import BaggingRegressor\n",
    "\n",
    "from sklearn.model_selection import train_test_split\n",
    "from sklearn.model_selection import cross_val_score\n",
    "from sklearn.metrics import r2_score\n",
    "from sklearn.preprocessing import StandardScaler\n"
   ]
  },
  {
   "cell_type": "code",
   "execution_count": 19,
   "id": "21a07bee",
   "metadata": {},
   "outputs": [
    {
     "data": {
      "text/html": [
       "<div>\n",
       "<style scoped>\n",
       "    .dataframe tbody tr th:only-of-type {\n",
       "        vertical-align: middle;\n",
       "    }\n",
       "\n",
       "    .dataframe tbody tr th {\n",
       "        vertical-align: top;\n",
       "    }\n",
       "\n",
       "    .dataframe thead th {\n",
       "        text-align: right;\n",
       "    }\n",
       "</style>\n",
       "<table border=\"1\" class=\"dataframe\">\n",
       "  <thead>\n",
       "    <tr style=\"text-align: right;\">\n",
       "      <th></th>\n",
       "      <th>CRIM</th>\n",
       "      <th>ZN</th>\n",
       "      <th>INDUS</th>\n",
       "      <th>CHAS</th>\n",
       "      <th>NOX</th>\n",
       "      <th>RM</th>\n",
       "      <th>AGE</th>\n",
       "      <th>DIS</th>\n",
       "      <th>RAD</th>\n",
       "      <th>TAX</th>\n",
       "      <th>PTRATIO</th>\n",
       "      <th>B</th>\n",
       "      <th>LSTAT</th>\n",
       "      <th>MEDV</th>\n",
       "    </tr>\n",
       "  </thead>\n",
       "  <tbody>\n",
       "    <tr>\n",
       "      <th>0</th>\n",
       "      <td>0.00632</td>\n",
       "      <td>18.0</td>\n",
       "      <td>2.31</td>\n",
       "      <td>0.0</td>\n",
       "      <td>0.538</td>\n",
       "      <td>6.575</td>\n",
       "      <td>65.2</td>\n",
       "      <td>4.0900</td>\n",
       "      <td>1.0</td>\n",
       "      <td>296.0</td>\n",
       "      <td>15.3</td>\n",
       "      <td>396.90</td>\n",
       "      <td>4.98</td>\n",
       "      <td>24.0</td>\n",
       "    </tr>\n",
       "    <tr>\n",
       "      <th>1</th>\n",
       "      <td>0.02731</td>\n",
       "      <td>0.0</td>\n",
       "      <td>7.07</td>\n",
       "      <td>0.0</td>\n",
       "      <td>0.469</td>\n",
       "      <td>6.421</td>\n",
       "      <td>78.9</td>\n",
       "      <td>4.9671</td>\n",
       "      <td>2.0</td>\n",
       "      <td>242.0</td>\n",
       "      <td>17.8</td>\n",
       "      <td>396.90</td>\n",
       "      <td>9.14</td>\n",
       "      <td>21.6</td>\n",
       "    </tr>\n",
       "    <tr>\n",
       "      <th>2</th>\n",
       "      <td>0.02729</td>\n",
       "      <td>0.0</td>\n",
       "      <td>7.07</td>\n",
       "      <td>0.0</td>\n",
       "      <td>0.469</td>\n",
       "      <td>7.185</td>\n",
       "      <td>61.1</td>\n",
       "      <td>4.9671</td>\n",
       "      <td>2.0</td>\n",
       "      <td>242.0</td>\n",
       "      <td>17.8</td>\n",
       "      <td>392.83</td>\n",
       "      <td>4.03</td>\n",
       "      <td>34.7</td>\n",
       "    </tr>\n",
       "    <tr>\n",
       "      <th>3</th>\n",
       "      <td>0.03237</td>\n",
       "      <td>0.0</td>\n",
       "      <td>2.18</td>\n",
       "      <td>0.0</td>\n",
       "      <td>0.458</td>\n",
       "      <td>6.998</td>\n",
       "      <td>45.8</td>\n",
       "      <td>6.0622</td>\n",
       "      <td>3.0</td>\n",
       "      <td>222.0</td>\n",
       "      <td>18.7</td>\n",
       "      <td>394.63</td>\n",
       "      <td>2.94</td>\n",
       "      <td>33.4</td>\n",
       "    </tr>\n",
       "    <tr>\n",
       "      <th>4</th>\n",
       "      <td>0.06905</td>\n",
       "      <td>0.0</td>\n",
       "      <td>2.18</td>\n",
       "      <td>0.0</td>\n",
       "      <td>0.458</td>\n",
       "      <td>7.147</td>\n",
       "      <td>54.2</td>\n",
       "      <td>6.0622</td>\n",
       "      <td>3.0</td>\n",
       "      <td>222.0</td>\n",
       "      <td>18.7</td>\n",
       "      <td>396.90</td>\n",
       "      <td>5.33</td>\n",
       "      <td>36.2</td>\n",
       "    </tr>\n",
       "  </tbody>\n",
       "</table>\n",
       "</div>"
      ],
      "text/plain": [
       "      CRIM    ZN  INDUS  CHAS    NOX     RM   AGE     DIS  RAD    TAX  \\\n",
       "0  0.00632  18.0   2.31   0.0  0.538  6.575  65.2  4.0900  1.0  296.0   \n",
       "1  0.02731   0.0   7.07   0.0  0.469  6.421  78.9  4.9671  2.0  242.0   \n",
       "2  0.02729   0.0   7.07   0.0  0.469  7.185  61.1  4.9671  2.0  242.0   \n",
       "3  0.03237   0.0   2.18   0.0  0.458  6.998  45.8  6.0622  3.0  222.0   \n",
       "4  0.06905   0.0   2.18   0.0  0.458  7.147  54.2  6.0622  3.0  222.0   \n",
       "\n",
       "   PTRATIO       B  LSTAT  MEDV  \n",
       "0     15.3  396.90   4.98  24.0  \n",
       "1     17.8  396.90   9.14  21.6  \n",
       "2     17.8  392.83   4.03  34.7  \n",
       "3     18.7  394.63   2.94  33.4  \n",
       "4     18.7  396.90   5.33  36.2  "
      ]
     },
     "execution_count": 19,
     "metadata": {},
     "output_type": "execute_result"
    }
   ],
   "source": [
    "data = pd.read_csv('data/boston_housing.csv')\n",
    "data.head()"
   ]
  },
  {
   "cell_type": "code",
   "execution_count": 20,
   "id": "253344aa",
   "metadata": {},
   "outputs": [],
   "source": [
    "X = data.drop('MEDV',axis=1)\n",
    "y = data['MEDV']"
   ]
  },
  {
   "cell_type": "code",
   "execution_count": 21,
   "id": "e1ef7554",
   "metadata": {},
   "outputs": [],
   "source": [
    "X_train, X_test, y_train, y_test = train_test_split(X,y,test_size=0.2,random_state=2)"
   ]
  },
  {
   "cell_type": "code",
   "execution_count": 34,
   "id": "ae9ddc76",
   "metadata": {},
   "outputs": [],
   "source": [
    "scaler = StandardScaler()\n",
    "X_train2 = scaler.fit_transform(X_train)\n",
    "X_test2 = scaler.transform(X_test)\n",
    "X2 = scaler.fit_transform(X)"
   ]
  },
  {
   "cell_type": "code",
   "execution_count": 35,
   "id": "82365d28",
   "metadata": {},
   "outputs": [],
   "source": [
    "lr = LinearRegression()\n",
    "rid = Ridge()\n",
    "las = Lasso()\n",
    "dt = DecisionTreeRegressor()\n",
    "knn = KNeighborsRegressor()\n",
    "svm = SVR()"
   ]
  },
  {
   "cell_type": "code",
   "execution_count": 36,
   "id": "61422965",
   "metadata": {},
   "outputs": [],
   "source": [
    "estimator_list = [('lr',lr),('dt',dt),('knn',knn),('rid',rid),('las',las),('svm',svm)]"
   ]
  },
  {
   "cell_type": "code",
   "execution_count": 37,
   "id": "2b4315cd",
   "metadata": {},
   "outputs": [],
   "source": [
    "vt_reg = VotingRegressor(estimators=estimator_list )"
   ]
  },
  {
   "cell_type": "markdown",
   "id": "b3398101",
   "metadata": {},
   "source": [
    "# Bagging \n",
    " * row sampling with replacement "
   ]
  },
  {
   "cell_type": "code",
   "execution_count": 38,
   "id": "9cdbe457",
   "metadata": {},
   "outputs": [],
   "source": [
    "bag = BaggingRegressor(base_estimator=dt,n_estimators=100,max_samples=0.3,bootstrap=True,n_jobs=-1)"
   ]
  },
  {
   "cell_type": "markdown",
   "id": "261dcdf6",
   "metadata": {},
   "source": [
    "# Pasting\n",
    " * row sampling without replacement\n"
   ]
  },
  {
   "cell_type": "code",
   "execution_count": 39,
   "id": "d3e2dbe1",
   "metadata": {},
   "outputs": [],
   "source": [
    "past = BaggingRegressor(base_estimator=dt,n_estimators=100,max_samples=1,bootstrap=False,n_jobs=-1)"
   ]
  },
  {
   "cell_type": "markdown",
   "id": "b5ce1966",
   "metadata": {},
   "source": [
    "# Random Subspaces\n",
    " * Column Sampling with or without replacement\n",
    " * No row Sampling"
   ]
  },
  {
   "cell_type": "code",
   "execution_count": 40,
   "id": "34d50655",
   "metadata": {},
   "outputs": [],
   "source": [
    "subspace = BaggingRegressor(base_estimator=dt,n_estimators=100,max_samples=1,bootstrap=False,max_features=0.5,bootstrap_features=True,n_jobs=-1)\n"
   ]
  },
  {
   "cell_type": "markdown",
   "id": "a319733c",
   "metadata": {},
   "source": [
    "# Random Patches\n",
    " * Row Sampling with replacements\n",
    " * Column Sampling with or without replacements"
   ]
  },
  {
   "cell_type": "code",
   "execution_count": 41,
   "id": "19c1e4d5",
   "metadata": {},
   "outputs": [],
   "source": [
    "patch = BaggingRegressor(base_estimator=dt,n_estimators=100,max_samples=0.3,bootstrap=True,max_features=0.5,bootstrap_features=True,n_jobs=-1)"
   ]
  },
  {
   "cell_type": "code",
   "execution_count": 42,
   "id": "a2a358bd",
   "metadata": {},
   "outputs": [],
   "source": [
    "model_list = [lr,las,rid,dt,knn,svm,vt_reg,bag,past,subspace,patch]"
   ]
  },
  {
   "cell_type": "code",
   "execution_count": 45,
   "id": "734bcaac",
   "metadata": {},
   "outputs": [],
   "source": [
    "def cross_validate(model,X,y):\n",
    "    cv_score = cross_val_score(model,X,y,cv=10,scoring='r2')\n",
    "    print('model ::::::   ', model)\n",
    "    print('cross validated score === ',cv_score.mean()*100)"
   ]
  },
  {
   "cell_type": "code",
   "execution_count": 46,
   "id": "bd7c9009",
   "metadata": {},
   "outputs": [
    {
     "name": "stdout",
     "output_type": "stream",
     "text": [
      "model ::::::    LinearRegression()\n",
      "cross validated score ===  20.25289900605654\n",
      "model ::::::    Lasso()\n",
      "cross validated score ===  18.08549037728676\n",
      "model ::::::    Ridge()\n",
      "cross validated score ===  20.87462813450241\n",
      "model ::::::    DecisionTreeRegressor()\n",
      "cross validated score ===  -12.388508385644101\n",
      "model ::::::    KNeighborsRegressor()\n",
      "cross validated score ===  38.11080442810903\n",
      "model ::::::    SVR()\n",
      "cross validated score ===  24.474341283386664\n",
      "model ::::::    VotingRegressor(estimators=[('lr', LinearRegression()),\n",
      "                            ('dt', DecisionTreeRegressor()),\n",
      "                            ('knn', KNeighborsRegressor()), ('rid', Ridge()),\n",
      "                            ('las', Lasso()), ('svm', SVR())])\n",
      "cross validated score ===  47.116621717564314\n",
      "model ::::::    BaggingRegressor(base_estimator=DecisionTreeRegressor(), max_samples=0.3,\n",
      "                 n_estimators=100, n_jobs=-1)\n",
      "cross validated score ===  53.50331485661377\n",
      "model ::::::    BaggingRegressor(base_estimator=DecisionTreeRegressor(), bootstrap=False,\n",
      "                 max_samples=1, n_estimators=100, n_jobs=-1)\n",
      "cross validated score ===  -150.67062429622476\n",
      "model ::::::    BaggingRegressor(base_estimator=DecisionTreeRegressor(), bootstrap=False,\n",
      "                 bootstrap_features=True, max_features=0.5, max_samples=1,\n",
      "                 n_estimators=100, n_jobs=-1)\n",
      "cross validated score ===  -101.97775796356754\n",
      "model ::::::    BaggingRegressor(base_estimator=DecisionTreeRegressor(),\n",
      "                 bootstrap_features=True, max_features=0.5, max_samples=0.3,\n",
      "                 n_estimators=100, n_jobs=-1)\n",
      "cross validated score ===  30.64371941337963\n"
     ]
    }
   ],
   "source": [
    "for model in model_list:\n",
    "    cross_validate(model,X2,y)"
   ]
  },
  {
   "cell_type": "code",
   "execution_count": null,
   "id": "d63132b8",
   "metadata": {},
   "outputs": [],
   "source": []
  }
 ],
 "metadata": {
  "kernelspec": {
   "display_name": "Python 3 (ipykernel)",
   "language": "python",
   "name": "python3"
  },
  "language_info": {
   "codemirror_mode": {
    "name": "ipython",
    "version": 3
   },
   "file_extension": ".py",
   "mimetype": "text/x-python",
   "name": "python",
   "nbconvert_exporter": "python",
   "pygments_lexer": "ipython3",
   "version": "3.9.7"
  }
 },
 "nbformat": 4,
 "nbformat_minor": 5
}
