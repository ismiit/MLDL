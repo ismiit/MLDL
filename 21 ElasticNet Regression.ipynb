{
 "cells": [
  {
   "cell_type": "code",
   "execution_count": 1,
   "id": "c72c1f53",
   "metadata": {},
   "outputs": [
    {
     "name": "stdout",
     "output_type": "stream",
     "text": [
      "-----using scikit learn-----\n",
      "alpha ===  0.005\n",
      "r2_score :::  63.460300744398026\n",
      "slope :::  [28.10635993]\n",
      "intercept ::: -2.270021071622506\n"
     ]
    }
   ],
   "source": [
    "# using *Sklearn*\n",
    "\n",
    "import numpy as np\n",
    "import pandas as pd\n",
    "import matplotlib.pyplot as plt\n",
    "from sklearn.model_selection import train_test_split\n",
    "from sklearn.datasets import make_regression\n",
    "from sklearn.metrics import r2_score\n",
    "from sklearn.linear_model import ElasticNet\n",
    "\n",
    "X , y = make_regression(n_samples=100, n_features=1, n_informative=1, n_targets=1, random_state=13, noise=20)\n",
    "\n",
    "X_train, X_test, y_train, y_test = train_test_split(X,y,test_size=0.2, random_state=2)\n",
    "\n",
    "def elasticnetchecker(alpha_val,lratio):\n",
    "    lr = ElasticNet(alpha = alpha_val, l1_ratio=lratio)\n",
    "    lr.fit(X_train,y_train)\n",
    "    y_pred = lr.predict(X_test)\n",
    "    print('-----using scikit learn-----')\n",
    "    print('alpha === ',alpha_val)\n",
    "    print('r2_score ::: ',r2_score(y_test,y_pred)*100)  \n",
    "    print('slope ::: ',lr.coef_)\n",
    "    print('intercept :::',lr.intercept_)\n",
    "\n",
    "elasticnetchecker(0.005,0.9)"
   ]
  },
  {
   "cell_type": "code",
   "execution_count": null,
   "id": "3c53e726",
   "metadata": {},
   "outputs": [],
   "source": []
  }
 ],
 "metadata": {
  "kernelspec": {
   "display_name": "Python 3 (ipykernel)",
   "language": "python",
   "name": "python3"
  },
  "language_info": {
   "codemirror_mode": {
    "name": "ipython",
    "version": 3
   },
   "file_extension": ".py",
   "mimetype": "text/x-python",
   "name": "python",
   "nbconvert_exporter": "python",
   "pygments_lexer": "ipython3",
   "version": "3.9.7"
  }
 },
 "nbformat": 4,
 "nbformat_minor": 5
}
