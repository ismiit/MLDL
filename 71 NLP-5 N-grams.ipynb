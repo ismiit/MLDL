{
 "cells": [
  {
   "cell_type": "code",
   "execution_count": 119,
   "id": "20fdf54a",
   "metadata": {},
   "outputs": [],
   "source": [
    "import pandas as pd\n",
    "import numpy as np\n",
    "from nltk import word_tokenize\n",
    "from nltk.stem import WordNetLemmatizer"
   ]
  },
  {
   "cell_type": "code",
   "execution_count": 120,
   "id": "f1cdc8e2",
   "metadata": {},
   "outputs": [],
   "source": [
    "sentence = ['people watching campusx', 'campusx watching campusx', 'people writing comment', 'campusx writing comment']\n",
    "value  = [1,1,0,0]\n",
    "dic = {'sentences':sentence,\n",
    "       'values':value}\n",
    "data = pd.DataFrame(dic)\n",
    "data2 = data.copy()"
   ]
  },
  {
   "cell_type": "code",
   "execution_count": 121,
   "id": "fa9e6863",
   "metadata": {},
   "outputs": [],
   "source": [
    "def tokenize(text):\n",
    "    words = word_tokenize(text)\n",
    "    return words\n",
    "\n",
    "def lemmatizer(token_list):\n",
    "    wnl = WordNetLemmatizer()\n",
    "    return ([wnl.lemmatize(word,'v') for word in token_list])\n",
    "\n",
    "data['sentences'] = data['sentences'].apply(tokenize)\n",
    "data['sentences'] = data['sentences'].apply(lemmatizer)"
   ]
  },
  {
   "cell_type": "code",
   "execution_count": 122,
   "id": "266dcfec",
   "metadata": {},
   "outputs": [
    {
     "data": {
      "text/html": [
       "<div>\n",
       "<style scoped>\n",
       "    .dataframe tbody tr th:only-of-type {\n",
       "        vertical-align: middle;\n",
       "    }\n",
       "\n",
       "    .dataframe tbody tr th {\n",
       "        vertical-align: top;\n",
       "    }\n",
       "\n",
       "    .dataframe thead th {\n",
       "        text-align: right;\n",
       "    }\n",
       "</style>\n",
       "<table border=\"1\" class=\"dataframe\">\n",
       "  <thead>\n",
       "    <tr style=\"text-align: right;\">\n",
       "      <th></th>\n",
       "      <th>sentences</th>\n",
       "      <th>values</th>\n",
       "    </tr>\n",
       "  </thead>\n",
       "  <tbody>\n",
       "    <tr>\n",
       "      <th>0</th>\n",
       "      <td>[people, watch, campusx]</td>\n",
       "      <td>1</td>\n",
       "    </tr>\n",
       "    <tr>\n",
       "      <th>1</th>\n",
       "      <td>[campusx, watch, campusx]</td>\n",
       "      <td>1</td>\n",
       "    </tr>\n",
       "    <tr>\n",
       "      <th>2</th>\n",
       "      <td>[people, write, comment]</td>\n",
       "      <td>0</td>\n",
       "    </tr>\n",
       "    <tr>\n",
       "      <th>3</th>\n",
       "      <td>[campusx, write, comment]</td>\n",
       "      <td>0</td>\n",
       "    </tr>\n",
       "  </tbody>\n",
       "</table>\n",
       "</div>"
      ],
      "text/plain": [
       "                   sentences  values\n",
       "0   [people, watch, campusx]       1\n",
       "1  [campusx, watch, campusx]       1\n",
       "2   [people, write, comment]       0\n",
       "3  [campusx, write, comment]       0"
      ]
     },
     "execution_count": 122,
     "metadata": {},
     "output_type": "execute_result"
    }
   ],
   "source": [
    "data"
   ]
  },
  {
   "cell_type": "code",
   "execution_count": 123,
   "id": "a74b21fb",
   "metadata": {},
   "outputs": [
    {
     "data": {
      "text/plain": [
       "['people', 'watch', 'campusx']"
      ]
     },
     "execution_count": 123,
     "metadata": {},
     "output_type": "execute_result"
    }
   ],
   "source": [
    "data['sentences'][0]"
   ]
  },
  {
   "cell_type": "code",
   "execution_count": 124,
   "id": "4df53842",
   "metadata": {},
   "outputs": [],
   "source": [
    "corpus = []\n",
    "for i in range(data.shape[0]):\n",
    "    corpus.append(data['sentences'][i])"
   ]
  },
  {
   "cell_type": "code",
   "execution_count": 125,
   "id": "4c43d632",
   "metadata": {},
   "outputs": [
    {
     "data": {
      "text/plain": [
       "[['people', 'watch', 'campusx'],\n",
       " ['campusx', 'watch', 'campusx'],\n",
       " ['people', 'write', 'comment'],\n",
       " ['campusx', 'write', 'comment']]"
      ]
     },
     "execution_count": 125,
     "metadata": {},
     "output_type": "execute_result"
    }
   ],
   "source": [
    "corpus"
   ]
  },
  {
   "cell_type": "code",
   "execution_count": 126,
   "id": "6f89ecf1",
   "metadata": {},
   "outputs": [],
   "source": [
    "vocab = []\n",
    "for row in corpus:\n",
    "    res = list(map(list, zip(row, row[1:])))\n",
    "    vocab.append(res)"
   ]
  },
  {
   "cell_type": "code",
   "execution_count": 127,
   "id": "6b063dfb",
   "metadata": {},
   "outputs": [],
   "source": [
    "vocabulary = []\n",
    "for i in range(len(vocab)):\n",
    "    for j in range(2):\n",
    "        vocabulary.append(vocab[i][j])    "
   ]
  },
  {
   "cell_type": "code",
   "execution_count": 129,
   "id": "d4d1bdaf",
   "metadata": {},
   "outputs": [],
   "source": [
    "for i in range(len(vocabulary)-1):\n",
    "    for j in range((i+1),len(vocabulary)):\n",
    "        if vocabulary[i]==vocabulary[j]:\n",
    "            vocabulary.remove(vocabulary[j])"
   ]
  },
  {
   "cell_type": "code",
   "execution_count": 130,
   "id": "29875a41",
   "metadata": {},
   "outputs": [
    {
     "data": {
      "text/plain": [
       "[['people', 'watch'],\n",
       " ['campusx', 'watch'],\n",
       " ['watch', 'campusx'],\n",
       " ['people', 'write'],\n",
       " ['campusx', 'write'],\n",
       " ['write', 'comment']]"
      ]
     },
     "execution_count": 130,
     "metadata": {},
     "output_type": "execute_result"
    }
   ],
   "source": [
    "vocabulary"
   ]
  },
  {
   "cell_type": "code",
   "execution_count": 131,
   "id": "a00241e0",
   "metadata": {},
   "outputs": [],
   "source": [
    "def bigrams(text):\n",
    "    res = list(map(list, zip(text, text[1:])))\n",
    "    vector=[]\n",
    "    for words in vocabulary:\n",
    "        if words in res:\n",
    "            vector.append(1)\n",
    "        else:\n",
    "            vector.append(0)\n",
    "    return vector\n",
    "            "
   ]
  },
  {
   "cell_type": "code",
   "execution_count": 132,
   "id": "179fef56",
   "metadata": {},
   "outputs": [],
   "source": [
    "data['sentences'] = data['sentences'].apply(bigrams)"
   ]
  },
  {
   "cell_type": "code",
   "execution_count": 133,
   "id": "a41929c8",
   "metadata": {},
   "outputs": [
    {
     "data": {
      "text/html": [
       "<div>\n",
       "<style scoped>\n",
       "    .dataframe tbody tr th:only-of-type {\n",
       "        vertical-align: middle;\n",
       "    }\n",
       "\n",
       "    .dataframe tbody tr th {\n",
       "        vertical-align: top;\n",
       "    }\n",
       "\n",
       "    .dataframe thead th {\n",
       "        text-align: right;\n",
       "    }\n",
       "</style>\n",
       "<table border=\"1\" class=\"dataframe\">\n",
       "  <thead>\n",
       "    <tr style=\"text-align: right;\">\n",
       "      <th></th>\n",
       "      <th>sentences</th>\n",
       "      <th>values</th>\n",
       "    </tr>\n",
       "  </thead>\n",
       "  <tbody>\n",
       "    <tr>\n",
       "      <th>0</th>\n",
       "      <td>[1, 0, 1, 0, 0, 0]</td>\n",
       "      <td>1</td>\n",
       "    </tr>\n",
       "    <tr>\n",
       "      <th>1</th>\n",
       "      <td>[0, 1, 1, 0, 0, 0]</td>\n",
       "      <td>1</td>\n",
       "    </tr>\n",
       "    <tr>\n",
       "      <th>2</th>\n",
       "      <td>[0, 0, 0, 1, 0, 1]</td>\n",
       "      <td>0</td>\n",
       "    </tr>\n",
       "    <tr>\n",
       "      <th>3</th>\n",
       "      <td>[0, 0, 0, 0, 1, 1]</td>\n",
       "      <td>0</td>\n",
       "    </tr>\n",
       "  </tbody>\n",
       "</table>\n",
       "</div>"
      ],
      "text/plain": [
       "            sentences  values\n",
       "0  [1, 0, 1, 0, 0, 0]       1\n",
       "1  [0, 1, 1, 0, 0, 0]       1\n",
       "2  [0, 0, 0, 1, 0, 1]       0\n",
       "3  [0, 0, 0, 0, 1, 1]       0"
      ]
     },
     "execution_count": 133,
     "metadata": {},
     "output_type": "execute_result"
    }
   ],
   "source": [
    "data"
   ]
  },
  {
   "cell_type": "markdown",
   "id": "8775483d",
   "metadata": {},
   "source": [
    "# Count Vectorizer - N grams"
   ]
  },
  {
   "cell_type": "code",
   "execution_count": 134,
   "id": "ee7ff5d2",
   "metadata": {},
   "outputs": [],
   "source": [
    "from sklearn.feature_extraction.text import CountVectorizer"
   ]
  },
  {
   "cell_type": "code",
   "execution_count": 135,
   "id": "a3dc5554",
   "metadata": {},
   "outputs": [
    {
     "data": {
      "text/html": [
       "<div>\n",
       "<style scoped>\n",
       "    .dataframe tbody tr th:only-of-type {\n",
       "        vertical-align: middle;\n",
       "    }\n",
       "\n",
       "    .dataframe tbody tr th {\n",
       "        vertical-align: top;\n",
       "    }\n",
       "\n",
       "    .dataframe thead th {\n",
       "        text-align: right;\n",
       "    }\n",
       "</style>\n",
       "<table border=\"1\" class=\"dataframe\">\n",
       "  <thead>\n",
       "    <tr style=\"text-align: right;\">\n",
       "      <th></th>\n",
       "      <th>sentences</th>\n",
       "      <th>values</th>\n",
       "    </tr>\n",
       "  </thead>\n",
       "  <tbody>\n",
       "    <tr>\n",
       "      <th>0</th>\n",
       "      <td>people watching campusx</td>\n",
       "      <td>1</td>\n",
       "    </tr>\n",
       "    <tr>\n",
       "      <th>1</th>\n",
       "      <td>campusx watching campusx</td>\n",
       "      <td>1</td>\n",
       "    </tr>\n",
       "    <tr>\n",
       "      <th>2</th>\n",
       "      <td>people writing comment</td>\n",
       "      <td>0</td>\n",
       "    </tr>\n",
       "    <tr>\n",
       "      <th>3</th>\n",
       "      <td>campusx writing comment</td>\n",
       "      <td>0</td>\n",
       "    </tr>\n",
       "  </tbody>\n",
       "</table>\n",
       "</div>"
      ],
      "text/plain": [
       "                  sentences  values\n",
       "0   people watching campusx       1\n",
       "1  campusx watching campusx       1\n",
       "2    people writing comment       0\n",
       "3   campusx writing comment       0"
      ]
     },
     "execution_count": 135,
     "metadata": {},
     "output_type": "execute_result"
    }
   ],
   "source": [
    "data2"
   ]
  },
  {
   "cell_type": "markdown",
   "id": "22ae7596",
   "metadata": {},
   "source": [
    "### Bag of Words where - unigrams used"
   ]
  },
  {
   "cell_type": "code",
   "execution_count": 136,
   "id": "19ea3a1a",
   "metadata": {},
   "outputs": [],
   "source": [
    "cv = CountVectorizer(ngram_range=(1,1))\n",
    "bow = cv.fit_transform(data2['sentences'])"
   ]
  },
  {
   "cell_type": "code",
   "execution_count": 137,
   "id": "830274d5",
   "metadata": {},
   "outputs": [
    {
     "data": {
      "text/plain": [
       "{'people': 2, 'watching': 3, 'campusx': 0, 'writing': 4, 'comment': 1}"
      ]
     },
     "execution_count": 137,
     "metadata": {},
     "output_type": "execute_result"
    }
   ],
   "source": [
    "cv.vocabulary_"
   ]
  },
  {
   "cell_type": "markdown",
   "id": "86217fb4",
   "metadata": {},
   "source": [
    "### Bigrams"
   ]
  },
  {
   "cell_type": "code",
   "execution_count": 139,
   "id": "963705c6",
   "metadata": {},
   "outputs": [],
   "source": [
    "cv = CountVectorizer(ngram_range=(2,2))\n",
    "bow = cv.fit_transform(data2['sentences'])"
   ]
  },
  {
   "cell_type": "code",
   "execution_count": 140,
   "id": "7b7b29cd",
   "metadata": {},
   "outputs": [
    {
     "data": {
      "text/plain": [
       "{'people watching': 2,\n",
       " 'watching campusx': 4,\n",
       " 'campusx watching': 0,\n",
       " 'people writing': 3,\n",
       " 'writing comment': 5,\n",
       " 'campusx writing': 1}"
      ]
     },
     "execution_count": 140,
     "metadata": {},
     "output_type": "execute_result"
    }
   ],
   "source": [
    "cv.vocabulary_"
   ]
  },
  {
   "cell_type": "code",
   "execution_count": 143,
   "id": "0b5119a2",
   "metadata": {},
   "outputs": [
    {
     "data": {
      "text/plain": [
       "array([[0, 0, 1, 0, 1, 0],\n",
       "       [1, 0, 0, 0, 1, 0],\n",
       "       [0, 0, 0, 1, 0, 1],\n",
       "       [0, 1, 0, 0, 0, 1]], dtype=int64)"
      ]
     },
     "execution_count": 143,
     "metadata": {},
     "output_type": "execute_result"
    }
   ],
   "source": [
    "bow.toarray()"
   ]
  },
  {
   "cell_type": "code",
   "execution_count": null,
   "id": "1b0cba58",
   "metadata": {},
   "outputs": [],
   "source": []
  }
 ],
 "metadata": {
  "kernelspec": {
   "display_name": "Python 3 (ipykernel)",
   "language": "python",
   "name": "python3"
  },
  "language_info": {
   "codemirror_mode": {
    "name": "ipython",
    "version": 3
   },
   "file_extension": ".py",
   "mimetype": "text/x-python",
   "name": "python",
   "nbconvert_exporter": "python",
   "pygments_lexer": "ipython3",
   "version": "3.9.7"
  }
 },
 "nbformat": 4,
 "nbformat_minor": 5
}
