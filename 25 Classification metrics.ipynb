{
 "cells": [
  {
   "cell_type": "code",
   "execution_count": 76,
   "id": "41d79235",
   "metadata": {},
   "outputs": [],
   "source": [
    "import pandas as pd\n",
    "import numpy as np\n",
    "import matplotlib.pyplot as plt\n",
    "import seaborn as sns\n",
    "from sklearn.linear_model import LogisticRegression\n",
    "from sklearn.tree import DecisionTreeClassifier\n",
    "from sklearn.model_selection import train_test_split\n",
    "from sklearn.model_selection import cross_val_score\n",
    "from sklearn.metrics import accuracy_score, confusion_matrix, recall_score, precision_score,f1_score, roc_auc_score,roc_curve,classification_report\n",
    "%matplotlib inline"
   ]
  },
  {
   "cell_type": "code",
   "execution_count": 42,
   "id": "c2c80fd5",
   "metadata": {},
   "outputs": [
    {
     "data": {
      "text/html": [
       "<div>\n",
       "<style scoped>\n",
       "    .dataframe tbody tr th:only-of-type {\n",
       "        vertical-align: middle;\n",
       "    }\n",
       "\n",
       "    .dataframe tbody tr th {\n",
       "        vertical-align: top;\n",
       "    }\n",
       "\n",
       "    .dataframe thead th {\n",
       "        text-align: right;\n",
       "    }\n",
       "</style>\n",
       "<table border=\"1\" class=\"dataframe\">\n",
       "  <thead>\n",
       "    <tr style=\"text-align: right;\">\n",
       "      <th></th>\n",
       "      <th>age</th>\n",
       "      <th>sex</th>\n",
       "      <th>cp</th>\n",
       "      <th>trestbps</th>\n",
       "      <th>chol</th>\n",
       "      <th>fbs</th>\n",
       "      <th>restecg</th>\n",
       "      <th>thalach</th>\n",
       "      <th>exang</th>\n",
       "      <th>oldpeak</th>\n",
       "      <th>slope</th>\n",
       "      <th>ca</th>\n",
       "      <th>thal</th>\n",
       "      <th>target</th>\n",
       "    </tr>\n",
       "  </thead>\n",
       "  <tbody>\n",
       "    <tr>\n",
       "      <th>0</th>\n",
       "      <td>63</td>\n",
       "      <td>1</td>\n",
       "      <td>3</td>\n",
       "      <td>145</td>\n",
       "      <td>233</td>\n",
       "      <td>1</td>\n",
       "      <td>0</td>\n",
       "      <td>150</td>\n",
       "      <td>0</td>\n",
       "      <td>2.3</td>\n",
       "      <td>0</td>\n",
       "      <td>0</td>\n",
       "      <td>1</td>\n",
       "      <td>1</td>\n",
       "    </tr>\n",
       "    <tr>\n",
       "      <th>1</th>\n",
       "      <td>37</td>\n",
       "      <td>1</td>\n",
       "      <td>2</td>\n",
       "      <td>130</td>\n",
       "      <td>250</td>\n",
       "      <td>0</td>\n",
       "      <td>1</td>\n",
       "      <td>187</td>\n",
       "      <td>0</td>\n",
       "      <td>3.5</td>\n",
       "      <td>0</td>\n",
       "      <td>0</td>\n",
       "      <td>2</td>\n",
       "      <td>1</td>\n",
       "    </tr>\n",
       "    <tr>\n",
       "      <th>2</th>\n",
       "      <td>41</td>\n",
       "      <td>0</td>\n",
       "      <td>1</td>\n",
       "      <td>130</td>\n",
       "      <td>204</td>\n",
       "      <td>0</td>\n",
       "      <td>0</td>\n",
       "      <td>172</td>\n",
       "      <td>0</td>\n",
       "      <td>1.4</td>\n",
       "      <td>2</td>\n",
       "      <td>0</td>\n",
       "      <td>2</td>\n",
       "      <td>1</td>\n",
       "    </tr>\n",
       "    <tr>\n",
       "      <th>3</th>\n",
       "      <td>56</td>\n",
       "      <td>1</td>\n",
       "      <td>1</td>\n",
       "      <td>120</td>\n",
       "      <td>236</td>\n",
       "      <td>0</td>\n",
       "      <td>1</td>\n",
       "      <td>178</td>\n",
       "      <td>0</td>\n",
       "      <td>0.8</td>\n",
       "      <td>2</td>\n",
       "      <td>0</td>\n",
       "      <td>2</td>\n",
       "      <td>1</td>\n",
       "    </tr>\n",
       "    <tr>\n",
       "      <th>4</th>\n",
       "      <td>57</td>\n",
       "      <td>0</td>\n",
       "      <td>0</td>\n",
       "      <td>120</td>\n",
       "      <td>354</td>\n",
       "      <td>0</td>\n",
       "      <td>1</td>\n",
       "      <td>163</td>\n",
       "      <td>1</td>\n",
       "      <td>0.6</td>\n",
       "      <td>2</td>\n",
       "      <td>0</td>\n",
       "      <td>2</td>\n",
       "      <td>1</td>\n",
       "    </tr>\n",
       "  </tbody>\n",
       "</table>\n",
       "</div>"
      ],
      "text/plain": [
       "   age  sex  cp  trestbps  chol  fbs  restecg  thalach  exang  oldpeak  slope  \\\n",
       "0   63    1   3       145   233    1        0      150      0      2.3      0   \n",
       "1   37    1   2       130   250    0        1      187      0      3.5      0   \n",
       "2   41    0   1       130   204    0        0      172      0      1.4      2   \n",
       "3   56    1   1       120   236    0        1      178      0      0.8      2   \n",
       "4   57    0   0       120   354    0        1      163      1      0.6      2   \n",
       "\n",
       "   ca  thal  target  \n",
       "0   0     1       1  \n",
       "1   0     2       1  \n",
       "2   0     2       1  \n",
       "3   0     2       1  \n",
       "4   0     2       1  "
      ]
     },
     "execution_count": 42,
     "metadata": {},
     "output_type": "execute_result"
    }
   ],
   "source": [
    "heart_dis=pd.read_csv(\"data/heart-disease.csv\")\n",
    "heart_dis.head()"
   ]
  },
  {
   "cell_type": "code",
   "execution_count": 43,
   "id": "17f8ec29",
   "metadata": {},
   "outputs": [
    {
     "data": {
      "text/plain": [
       "age         0\n",
       "sex         0\n",
       "cp          0\n",
       "trestbps    0\n",
       "chol        0\n",
       "fbs         0\n",
       "restecg     0\n",
       "thalach     0\n",
       "exang       0\n",
       "oldpeak     0\n",
       "slope       0\n",
       "ca          0\n",
       "thal        0\n",
       "target      0\n",
       "dtype: int64"
      ]
     },
     "execution_count": 43,
     "metadata": {},
     "output_type": "execute_result"
    }
   ],
   "source": [
    "heart_dis.isna().sum()"
   ]
  },
  {
   "cell_type": "code",
   "execution_count": 44,
   "id": "4add738b",
   "metadata": {},
   "outputs": [],
   "source": [
    "X=heart_dis.drop(\"target\",axis=1)\n",
    "y=heart_dis[\"target\"]"
   ]
  },
  {
   "cell_type": "code",
   "execution_count": 45,
   "id": "ec546944",
   "metadata": {},
   "outputs": [
    {
     "name": "stderr",
     "output_type": "stream",
     "text": [
      "C:\\Users\\91700\\Desktop\\sample_project_1\\env\\lib\\site-packages\\sklearn\\linear_model\\_logistic.py:814: ConvergenceWarning: lbfgs failed to converge (status=1):\n",
      "STOP: TOTAL NO. of ITERATIONS REACHED LIMIT.\n",
      "\n",
      "Increase the number of iterations (max_iter) or scale the data as shown in:\n",
      "    https://scikit-learn.org/stable/modules/preprocessing.html\n",
      "Please also refer to the documentation for alternative solver options:\n",
      "    https://scikit-learn.org/stable/modules/linear_model.html#logistic-regression\n",
      "  n_iter_i = _check_optimize_result(\n"
     ]
    },
    {
     "data": {
      "text/plain": [
       "DecisionTreeClassifier()"
      ]
     },
     "execution_count": 45,
     "metadata": {},
     "output_type": "execute_result"
    }
   ],
   "source": [
    "X_train, X_test, y_train, y_test=train_test_split(X,y,test_size=0.2,random_state=2)\n",
    "\n",
    "clf1=LogisticRegression()\n",
    "clf2=DecisionTreeClassifier()\n",
    "\n",
    "clf1.fit(X_train,y_train)\n",
    "clf2.fit(X_train,y_train)"
   ]
  },
  {
   "cell_type": "markdown",
   "id": "6b2bba02",
   "metadata": {},
   "source": [
    "#  Accuracy"
   ]
  },
  {
   "cell_type": "code",
   "execution_count": 46,
   "id": "eac7efc0",
   "metadata": {},
   "outputs": [],
   "source": [
    "y_pred1 = clf1.predict(X_test)\n",
    "y_pred2 = clf2.predict(X_test)"
   ]
  },
  {
   "cell_type": "code",
   "execution_count": 47,
   "id": "d60f252b",
   "metadata": {},
   "outputs": [
    {
     "name": "stdout",
     "output_type": "stream",
     "text": [
      "Accuracy score of LogisticRegression Model 0.9016393442622951\n",
      "Accuracy score of DecisionTree Model 0.8360655737704918\n"
     ]
    }
   ],
   "source": [
    "print('Accuracy score of LogisticRegression Model', accuracy_score(y_test,y_pred1))\n",
    "print('Accuracy score of DecisionTree Model', accuracy_score(y_test,y_pred2))"
   ]
  },
  {
   "cell_type": "markdown",
   "id": "63c3ff03",
   "metadata": {},
   "source": [
    "# Confusion Matrix"
   ]
  },
  {
   "cell_type": "code",
   "execution_count": 62,
   "id": "1842909b",
   "metadata": {
    "scrolled": true
   },
   "outputs": [
    {
     "data": {
      "text/plain": [
       "(array([[26,  6],\n",
       "        [ 0, 29]], dtype=int64),\n",
       " array([[23,  9],\n",
       "        [ 1, 28]], dtype=int64))"
      ]
     },
     "execution_count": 62,
     "metadata": {},
     "output_type": "execute_result"
    }
   ],
   "source": [
    "conf_mat1 = confusion_matrix(y_test,y_pred1)\n",
    "conf_mat2 = confusion_matrix(y_test,y_pred2)\n",
    "conf_mat1 , conf_mat2"
   ]
  },
  {
   "cell_type": "code",
   "execution_count": 59,
   "id": "040675d6",
   "metadata": {},
   "outputs": [],
   "source": [
    "sns.set(font_scale=1.5)\n",
    "def plot_con_mat(conf_mat):\n",
    "    fig,ax=plt.subplots(figsize=(3,3))\n",
    "    ax=sns.heatmap(conf_mat,annot=True,cbar=False)\n",
    "    plt.xlabel(\"Predicted Values\")\n",
    "    plt.ylabel(\"Actual Values\")\n",
    "    bottom, top=ax.get_ylim()\n",
    "    ax.set_ylim(bottom, top)"
   ]
  },
  {
   "cell_type": "code",
   "execution_count": 60,
   "id": "d0565704",
   "metadata": {
    "scrolled": false
   },
   "outputs": [
    {
     "data": {
      "image/png": "[encoded data removed]",
      "text/plain": [
       "<Figure size 216x216 with 1 Axes>"
      ]
     },
     "metadata": {},
     "output_type": "display_data"
    },
    {
     "data": {
      "image/png": "[encoded data removed]",
      "text/plain": [
       "<Figure size 216x216 with 1 Axes>"
      ]
     },
     "metadata": {},
     "output_type": "display_data"
    }
   ],
   "source": [
    "plot_con_mat(conf_mat1)\n",
    "plot_con_mat(conf_mat2)"
   ]
  },
  {
   "cell_type": "markdown",
   "id": "34a6c086",
   "metadata": {},
   "source": [
    "# Precision"
   ]
  },
  {
   "cell_type": "code",
   "execution_count": 52,
   "id": "6e30e1d4",
   "metadata": {},
   "outputs": [
    {
     "name": "stdout",
     "output_type": "stream",
     "text": [
      "Precision score of LogisticRegression Model 0.8285714285714286\n",
      "Precision score of DecisionTree Model 0.7567567567567568\n"
     ]
    }
   ],
   "source": [
    "print('Precision score of LogisticRegression Model', precision_score(y_test,y_pred1))\n",
    "print('Precision score of DecisionTree Model', precision_score(y_test,y_pred2))"
   ]
  },
  {
   "cell_type": "markdown",
   "id": "cf6f2184",
   "metadata": {},
   "source": [
    "# Recall"
   ]
  },
  {
   "cell_type": "code",
   "execution_count": 63,
   "id": "4618d0de",
   "metadata": {},
   "outputs": [
    {
     "name": "stdout",
     "output_type": "stream",
     "text": [
      "Recall score of LogisticRegression Model 1.0\n",
      "Recall score of DecisionTree Model 0.9655172413793104\n"
     ]
    }
   ],
   "source": [
    "print('Recall score of LogisticRegression Model', recall_score(y_test,y_pred1))\n",
    "print('Recall score of DecisionTree Model', recall_score(y_test,y_pred2))"
   ]
  },
  {
   "cell_type": "markdown",
   "id": "ae9b3728",
   "metadata": {},
   "source": [
    "# F1_score"
   ]
  },
  {
   "cell_type": "code",
   "execution_count": 64,
   "id": "198fb36d",
   "metadata": {},
   "outputs": [
    {
     "name": "stdout",
     "output_type": "stream",
     "text": [
      "F1 score of LogisticRegression Model 0.90625\n",
      "F1 score of DecisionTree Model 0.8484848484848485\n"
     ]
    }
   ],
   "source": [
    "print('F1 score of LogisticRegression Model', f1_score(y_test,y_pred1))\n",
    "print('F1 score of DecisionTree Model', f1_score(y_test,y_pred2))"
   ]
  },
  {
   "cell_type": "markdown",
   "id": "38b7de0b",
   "metadata": {},
   "source": [
    "# Roc_Auc_Score"
   ]
  },
  {
   "cell_type": "code",
   "execution_count": 71,
   "id": "eaff8634",
   "metadata": {},
   "outputs": [],
   "source": [
    "y_prob1 = clf1.predict_proba(X_test)\n",
    "y_prob2 = clf2.predict_proba(X_test)\n",
    "y_pos_1 = y_prob1[:,1]\n",
    "y_pos_2 = y_prob2[:,1]"
   ]
  },
  {
   "cell_type": "code",
   "execution_count": 73,
   "id": "4d91bb8f",
   "metadata": {},
   "outputs": [
    {
     "name": "stdout",
     "output_type": "stream",
     "text": [
      "ROC_AUC score of LogisticRegression Model 0.9515086206896551\n",
      "ROC_AUC score of DecisionTree Model 0.8421336206896552\n"
     ]
    }
   ],
   "source": [
    "print('ROC_AUC score of LogisticRegression Model', roc_auc_score(y_test,y_pos_1))\n",
    "print('ROC_AUC score of DecisionTree Model', roc_auc_score(y_test,y_pos_2))"
   ]
  },
  {
   "cell_type": "markdown",
   "id": "3e8ba757",
   "metadata": {},
   "source": [
    "# Roc_curve"
   ]
  },
  {
   "cell_type": "code",
   "execution_count": 74,
   "id": "cac3c5ba",
   "metadata": {},
   "outputs": [],
   "source": [
    "fpr1, tpr1, thresholds1=roc_curve(y_test, y_pos_1)\n",
    "fpr2, tpr2, thresholds2=roc_curve(y_test, y_pos_2)"
   ]
  },
  {
   "cell_type": "code",
   "execution_count": 75,
   "id": "3cfa76ea",
   "metadata": {},
   "outputs": [
    {
     "data": {
      "image/png": "[encoded data removed]",
      "text/plain": [
       "<Figure size 432x288 with 1 Axes>"
      ]
     },
     "metadata": {
      "needs_background": "light"
     },
     "output_type": "display_data"
    }
   ],
   "source": [
    "plt.plot(fpr1, tpr1, color=\"orange\", label=\"ROC_logr\")\n",
    "plt.plot(fpr2, tpr2, color=\"red\", label=\"ROC_DT\")\n",
    "plt.plot([0,1],[0,1],color=\"blue\",linestyle=\"--\",label=\"Guessing\")\n",
    "plt.xlabel(\"False Positive Rates(FPR)\")\n",
    "plt.ylabel(\"True Positive Rates(TPR)\")\n",
    "plt.title(\"ROC curve\")\n",
    "plt.legend()\n",
    "plt.show()"
   ]
  },
  {
   "cell_type": "markdown",
   "id": "6260e109",
   "metadata": {},
   "source": [
    "# Classfication Report"
   ]
  },
  {
   "cell_type": "code",
   "execution_count": 77,
   "id": "01858470",
   "metadata": {
    "scrolled": false
   },
   "outputs": [
    {
     "name": "stdout",
     "output_type": "stream",
     "text": [
      "--------------Classfication Report of LogisticRegression Model ---------------\n",
      "              precision    recall  f1-score   support\n",
      "\n",
      "           0       1.00      0.81      0.90        32\n",
      "           1       0.83      1.00      0.91        29\n",
      "\n",
      "    accuracy                           0.90        61\n",
      "   macro avg       0.91      0.91      0.90        61\n",
      "weighted avg       0.92      0.90      0.90        61\n",
      "\n",
      "--------------Classfication Report of DecisionTree Model ---------------\n",
      "              precision    recall  f1-score   support\n",
      "\n",
      "           0       0.96      0.72      0.82        32\n",
      "           1       0.76      0.97      0.85        29\n",
      "\n",
      "    accuracy                           0.84        61\n",
      "   macro avg       0.86      0.84      0.83        61\n",
      "weighted avg       0.86      0.84      0.83        61\n",
      "\n"
     ]
    }
   ],
   "source": [
    "print('--------------Classfication Report of LogisticRegression Model ---------------')\n",
    "print(classification_report(y_test,y_pred1))\n",
    "print('--------------Classfication Report of DecisionTree Model ---------------')\n",
    "print(classification_report(y_test,y_pred2))"
   ]
  },
  {
   "cell_type": "markdown",
   "id": "21465888",
   "metadata": {},
   "source": []
  }
 ],
 "metadata": {
  "kernelspec": {
   "display_name": "Python 3 (ipykernel)",
   "language": "python",
   "name": "python3"
  },
  "language_info": {
   "codemirror_mode": {
    "name": "ipython",
    "version": 3
   },
   "file_extension": ".py",
   "mimetype": "text/x-python",
   "name": "python",
   "nbconvert_exporter": "python",
   "pygments_lexer": "ipython3",
   "version": "3.9.7"
  }
 },
 "nbformat": 4,
 "nbformat_minor": 5
}
