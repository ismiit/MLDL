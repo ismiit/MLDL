{
 "cells": [
  {
   "cell_type": "code",
   "execution_count": 123,
   "id": "23a4a7a4",
   "metadata": {},
   "outputs": [],
   "source": [
    "import pandas as pd\n",
    "import numpy as np\n",
    "from nltk import word_tokenize\n",
    "from nltk.stem import WordNetLemmatizer"
   ]
  },
  {
   "cell_type": "code",
   "execution_count": 124,
   "id": "540b0774",
   "metadata": {},
   "outputs": [],
   "source": [
    "sentence = ['people watching campusx', 'campusx watching campusx', 'people writing comment', 'campusx writing comment']\n",
    "value  = [1,1,0,0]\n",
    "dic = {'sentences':sentence,\n",
    "       'values':value}\n",
    "data = pd.DataFrame(dic)\n",
    "data2 = data.copy()"
   ]
  },
  {
   "cell_type": "code",
   "execution_count": 125,
   "id": "cacb745a",
   "metadata": {},
   "outputs": [],
   "source": [
    "def tokenize(text):\n",
    "    words = word_tokenize(text)\n",
    "    return words\n",
    "\n",
    "def lemmatizer(token_list):\n",
    "    wnl = WordNetLemmatizer()\n",
    "    return ([wnl.lemmatize(word,'v') for word in token_list])\n",
    "\n",
    "data['sentences'] = data['sentences'].apply(tokenize)\n",
    "data['sentences'] = data['sentences'].apply(lemmatizer)"
   ]
  },
  {
   "cell_type": "code",
   "execution_count": 126,
   "id": "9e9b4c6d",
   "metadata": {},
   "outputs": [
    {
     "data": {
      "text/html": [
       "<div>\n",
       "<style scoped>\n",
       "    .dataframe tbody tr th:only-of-type {\n",
       "        vertical-align: middle;\n",
       "    }\n",
       "\n",
       "    .dataframe tbody tr th {\n",
       "        vertical-align: top;\n",
       "    }\n",
       "\n",
       "    .dataframe thead th {\n",
       "        text-align: right;\n",
       "    }\n",
       "</style>\n",
       "<table border=\"1\" class=\"dataframe\">\n",
       "  <thead>\n",
       "    <tr style=\"text-align: right;\">\n",
       "      <th></th>\n",
       "      <th>sentences</th>\n",
       "      <th>values</th>\n",
       "    </tr>\n",
       "  </thead>\n",
       "  <tbody>\n",
       "    <tr>\n",
       "      <th>0</th>\n",
       "      <td>[people, watch, campusx]</td>\n",
       "      <td>1</td>\n",
       "    </tr>\n",
       "    <tr>\n",
       "      <th>1</th>\n",
       "      <td>[campusx, watch, campusx]</td>\n",
       "      <td>1</td>\n",
       "    </tr>\n",
       "    <tr>\n",
       "      <th>2</th>\n",
       "      <td>[people, write, comment]</td>\n",
       "      <td>0</td>\n",
       "    </tr>\n",
       "    <tr>\n",
       "      <th>3</th>\n",
       "      <td>[campusx, write, comment]</td>\n",
       "      <td>0</td>\n",
       "    </tr>\n",
       "  </tbody>\n",
       "</table>\n",
       "</div>"
      ],
      "text/plain": [
       "                   sentences  values\n",
       "0   [people, watch, campusx]       1\n",
       "1  [campusx, watch, campusx]       1\n",
       "2   [people, write, comment]       0\n",
       "3  [campusx, write, comment]       0"
      ]
     },
     "execution_count": 126,
     "metadata": {},
     "output_type": "execute_result"
    }
   ],
   "source": [
    "data"
   ]
  },
  {
   "cell_type": "code",
   "execution_count": 127,
   "id": "c869499d",
   "metadata": {},
   "outputs": [
    {
     "data": {
      "text/plain": [
       "['people', 'watch', 'campusx']"
      ]
     },
     "execution_count": 127,
     "metadata": {},
     "output_type": "execute_result"
    }
   ],
   "source": [
    "data['sentences'][0]"
   ]
  },
  {
   "cell_type": "code",
   "execution_count": 128,
   "id": "aac619a9",
   "metadata": {},
   "outputs": [],
   "source": [
    "corpus = []\n",
    "for i in range(data.shape[0]):\n",
    "   corpus=corpus+data['sentences'][i]"
   ]
  },
  {
   "cell_type": "code",
   "execution_count": 129,
   "id": "0b1bc7ee",
   "metadata": {},
   "outputs": [],
   "source": [
    "vocabulary = np.unique(corpus)\n",
    "vocabulary = (list(vocabulary))"
   ]
  },
  {
   "cell_type": "code",
   "execution_count": 130,
   "id": "a28309a2",
   "metadata": {},
   "outputs": [
    {
     "data": {
      "text/plain": [
       "['campusx', 'comment', 'people', 'watch', 'write']"
      ]
     },
     "execution_count": 130,
     "metadata": {},
     "output_type": "execute_result"
    }
   ],
   "source": [
    "vocabulary"
   ]
  },
  {
   "cell_type": "code",
   "execution_count": 131,
   "id": "7dd230ec",
   "metadata": {},
   "outputs": [],
   "source": [
    "def BOW(text):\n",
    "    vector=[]\n",
    "    for words in vocabulary:\n",
    "        vector.append(text.count(str(words)))\n",
    "    return(vector)"
   ]
  },
  {
   "cell_type": "code",
   "execution_count": 132,
   "id": "5e540483",
   "metadata": {},
   "outputs": [
    {
     "data": {
      "text/plain": [
       "[2, 0, 0, 1, 0]"
      ]
     },
     "execution_count": 132,
     "metadata": {},
     "output_type": "execute_result"
    }
   ],
   "source": [
    "BOW(['campusx', 'watch', 'campusx'])"
   ]
  },
  {
   "cell_type": "code",
   "execution_count": 133,
   "id": "d76e3688",
   "metadata": {},
   "outputs": [],
   "source": [
    "data['sentences']=data['sentences'].apply(BOW)"
   ]
  },
  {
   "cell_type": "code",
   "execution_count": 134,
   "id": "626a2bb0",
   "metadata": {},
   "outputs": [
    {
     "data": {
      "text/html": [
       "<div>\n",
       "<style scoped>\n",
       "    .dataframe tbody tr th:only-of-type {\n",
       "        vertical-align: middle;\n",
       "    }\n",
       "\n",
       "    .dataframe tbody tr th {\n",
       "        vertical-align: top;\n",
       "    }\n",
       "\n",
       "    .dataframe thead th {\n",
       "        text-align: right;\n",
       "    }\n",
       "</style>\n",
       "<table border=\"1\" class=\"dataframe\">\n",
       "  <thead>\n",
       "    <tr style=\"text-align: right;\">\n",
       "      <th></th>\n",
       "      <th>sentences</th>\n",
       "      <th>values</th>\n",
       "    </tr>\n",
       "  </thead>\n",
       "  <tbody>\n",
       "    <tr>\n",
       "      <th>0</th>\n",
       "      <td>[1, 0, 1, 1, 0]</td>\n",
       "      <td>1</td>\n",
       "    </tr>\n",
       "    <tr>\n",
       "      <th>1</th>\n",
       "      <td>[2, 0, 0, 1, 0]</td>\n",
       "      <td>1</td>\n",
       "    </tr>\n",
       "    <tr>\n",
       "      <th>2</th>\n",
       "      <td>[0, 1, 1, 0, 1]</td>\n",
       "      <td>0</td>\n",
       "    </tr>\n",
       "    <tr>\n",
       "      <th>3</th>\n",
       "      <td>[1, 1, 0, 0, 1]</td>\n",
       "      <td>0</td>\n",
       "    </tr>\n",
       "  </tbody>\n",
       "</table>\n",
       "</div>"
      ],
      "text/plain": [
       "         sentences  values\n",
       "0  [1, 0, 1, 1, 0]       1\n",
       "1  [2, 0, 0, 1, 0]       1\n",
       "2  [0, 1, 1, 0, 1]       0\n",
       "3  [1, 1, 0, 0, 1]       0"
      ]
     },
     "execution_count": 134,
     "metadata": {},
     "output_type": "execute_result"
    }
   ],
   "source": [
    "data"
   ]
  },
  {
   "cell_type": "code",
   "execution_count": 135,
   "id": "3f78eac1",
   "metadata": {},
   "outputs": [
    {
     "data": {
      "text/plain": [
       "[2, 1, 0, 1, 1]"
      ]
     },
     "execution_count": 135,
     "metadata": {},
     "output_type": "execute_result"
    }
   ],
   "source": [
    "BOW(lemmatizer(tokenize(\"campusx writing and watching comment of campusx\")))"
   ]
  },
  {
   "cell_type": "markdown",
   "id": "867f35ad",
   "metadata": {},
   "source": [
    "# Count Vectorizer"
   ]
  },
  {
   "cell_type": "code",
   "execution_count": 136,
   "id": "b571c31f",
   "metadata": {},
   "outputs": [],
   "source": [
    "from sklearn.feature_extraction.text import CountVectorizer"
   ]
  },
  {
   "cell_type": "code",
   "execution_count": 137,
   "id": "68e16d60",
   "metadata": {},
   "outputs": [
    {
     "data": {
      "text/html": [
       "<div>\n",
       "<style scoped>\n",
       "    .dataframe tbody tr th:only-of-type {\n",
       "        vertical-align: middle;\n",
       "    }\n",
       "\n",
       "    .dataframe tbody tr th {\n",
       "        vertical-align: top;\n",
       "    }\n",
       "\n",
       "    .dataframe thead th {\n",
       "        text-align: right;\n",
       "    }\n",
       "</style>\n",
       "<table border=\"1\" class=\"dataframe\">\n",
       "  <thead>\n",
       "    <tr style=\"text-align: right;\">\n",
       "      <th></th>\n",
       "      <th>sentences</th>\n",
       "      <th>values</th>\n",
       "    </tr>\n",
       "  </thead>\n",
       "  <tbody>\n",
       "    <tr>\n",
       "      <th>0</th>\n",
       "      <td>people watching campusx</td>\n",
       "      <td>1</td>\n",
       "    </tr>\n",
       "    <tr>\n",
       "      <th>1</th>\n",
       "      <td>campusx watching campusx</td>\n",
       "      <td>1</td>\n",
       "    </tr>\n",
       "    <tr>\n",
       "      <th>2</th>\n",
       "      <td>people writing comment</td>\n",
       "      <td>0</td>\n",
       "    </tr>\n",
       "    <tr>\n",
       "      <th>3</th>\n",
       "      <td>campusx writing comment</td>\n",
       "      <td>0</td>\n",
       "    </tr>\n",
       "  </tbody>\n",
       "</table>\n",
       "</div>"
      ],
      "text/plain": [
       "                  sentences  values\n",
       "0   people watching campusx       1\n",
       "1  campusx watching campusx       1\n",
       "2    people writing comment       0\n",
       "3   campusx writing comment       0"
      ]
     },
     "execution_count": 137,
     "metadata": {},
     "output_type": "execute_result"
    }
   ],
   "source": [
    "data2"
   ]
  },
  {
   "cell_type": "code",
   "execution_count": 138,
   "id": "ba9083fa",
   "metadata": {},
   "outputs": [],
   "source": [
    "cv = CountVectorizer()\n",
    "bow = cv.fit_transform(data2['sentences'])"
   ]
  },
  {
   "cell_type": "code",
   "execution_count": 139,
   "id": "3d644119",
   "metadata": {},
   "outputs": [
    {
     "data": {
      "text/plain": [
       "dict_keys(['people', 'watching', 'campusx', 'writing', 'comment'])"
      ]
     },
     "execution_count": 139,
     "metadata": {},
     "output_type": "execute_result"
    }
   ],
   "source": [
    "cv.vocabulary_.keys()"
   ]
  },
  {
   "cell_type": "code",
   "execution_count": 140,
   "id": "980b233d",
   "metadata": {},
   "outputs": [
    {
     "data": {
      "text/plain": [
       "array([[1, 0, 1, 1, 0],\n",
       "       [2, 0, 0, 1, 0],\n",
       "       [0, 1, 1, 0, 1],\n",
       "       [1, 1, 0, 0, 1]], dtype=int64)"
      ]
     },
     "execution_count": 140,
     "metadata": {},
     "output_type": "execute_result"
    }
   ],
   "source": [
    "bow.toarray()"
   ]
  },
  {
   "cell_type": "code",
   "execution_count": 141,
   "id": "e6ba97e5",
   "metadata": {},
   "outputs": [
    {
     "data": {
      "text/plain": [
       "array([[2, 1, 0, 1, 1]], dtype=int64)"
      ]
     },
     "execution_count": 141,
     "metadata": {},
     "output_type": "execute_result"
    }
   ],
   "source": [
    "cv.transform([\"campusx writing and watching comment of campusx\"]).toarray()"
   ]
  },
  {
   "cell_type": "code",
   "execution_count": null,
   "id": "d3e1ab07",
   "metadata": {},
   "outputs": [],
   "source": []
  },
  {
   "cell_type": "code",
   "execution_count": null,
   "id": "c238eeb3",
   "metadata": {},
   "outputs": [],
   "source": []
  }
 ],
 "metadata": {
  "kernelspec": {
   "display_name": "Python 3 (ipykernel)",
   "language": "python",
   "name": "python3"
  },
  "language_info": {
   "codemirror_mode": {
    "name": "ipython",
    "version": 3
   },
   "file_extension": ".py",
   "mimetype": "text/x-python",
   "name": "python",
   "nbconvert_exporter": "python",
   "pygments_lexer": "ipython3",
   "version": "3.9.7"
  }
 },
 "nbformat": 4,
 "nbformat_minor": 5
}
