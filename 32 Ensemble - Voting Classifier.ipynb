{
 "cells": [
  {
   "cell_type": "markdown",
   "id": "6a1641e4",
   "metadata": {},
   "source": [
    "# Different Algorithms"
   ]
  },
  {
   "cell_type": "code",
   "execution_count": 20,
   "id": "1232078d",
   "metadata": {},
   "outputs": [],
   "source": [
    "import numpy as np\n",
    "import pandas as pd\n",
    "import matplotlib.pyplot as plt\n",
    "import seaborn as sns\n",
    "\n",
    "from sklearn.linear_model import LogisticRegression\n",
    "from sklearn.tree import DecisionTreeClassifier\n",
    "from sklearn.neighbors import KNeighborsClassifier\n",
    "from sklearn.naive_bayes import GaussianNB, MultinomialNB, BernoulliNB\n",
    "from sklearn.svm import SVC\n",
    "from sklearn.ensemble import RandomForestClassifier\n",
    "from sklearn.ensemble import VotingClassifier\n",
    "\n",
    "from sklearn.model_selection import train_test_split\n",
    "from sklearn.model_selection import cross_val_score\n",
    "from sklearn.metrics import classification_report\n",
    "from sklearn.preprocessing import StandardScaler"
   ]
  },
  {
   "cell_type": "code",
   "execution_count": 21,
   "id": "ef4778b7",
   "metadata": {},
   "outputs": [
    {
     "data": {
      "text/html": [
       "<div>\n",
       "<style scoped>\n",
       "    .dataframe tbody tr th:only-of-type {\n",
       "        vertical-align: middle;\n",
       "    }\n",
       "\n",
       "    .dataframe tbody tr th {\n",
       "        vertical-align: top;\n",
       "    }\n",
       "\n",
       "    .dataframe thead th {\n",
       "        text-align: right;\n",
       "    }\n",
       "</style>\n",
       "<table border=\"1\" class=\"dataframe\">\n",
       "  <thead>\n",
       "    <tr style=\"text-align: right;\">\n",
       "      <th></th>\n",
       "      <th>Gender</th>\n",
       "      <th>Age</th>\n",
       "      <th>EstimatedSalary</th>\n",
       "      <th>Purchased</th>\n",
       "    </tr>\n",
       "  </thead>\n",
       "  <tbody>\n",
       "    <tr>\n",
       "      <th>0</th>\n",
       "      <td>Male</td>\n",
       "      <td>19</td>\n",
       "      <td>19000</td>\n",
       "      <td>0</td>\n",
       "    </tr>\n",
       "    <tr>\n",
       "      <th>1</th>\n",
       "      <td>Male</td>\n",
       "      <td>35</td>\n",
       "      <td>20000</td>\n",
       "      <td>0</td>\n",
       "    </tr>\n",
       "    <tr>\n",
       "      <th>2</th>\n",
       "      <td>Female</td>\n",
       "      <td>26</td>\n",
       "      <td>43000</td>\n",
       "      <td>0</td>\n",
       "    </tr>\n",
       "    <tr>\n",
       "      <th>3</th>\n",
       "      <td>Female</td>\n",
       "      <td>27</td>\n",
       "      <td>57000</td>\n",
       "      <td>0</td>\n",
       "    </tr>\n",
       "    <tr>\n",
       "      <th>4</th>\n",
       "      <td>Male</td>\n",
       "      <td>19</td>\n",
       "      <td>76000</td>\n",
       "      <td>0</td>\n",
       "    </tr>\n",
       "  </tbody>\n",
       "</table>\n",
       "</div>"
      ],
      "text/plain": [
       "   Gender  Age  EstimatedSalary  Purchased\n",
       "0    Male   19            19000          0\n",
       "1    Male   35            20000          0\n",
       "2  Female   26            43000          0\n",
       "3  Female   27            57000          0\n",
       "4    Male   19            76000          0"
      ]
     },
     "execution_count": 21,
     "metadata": {},
     "output_type": "execute_result"
    }
   ],
   "source": [
    "data = pd.read_csv('data/Social_Network_Ads.csv')\n",
    "data.drop('User ID',axis=1,inplace=True)\n",
    "data.head()"
   ]
  },
  {
   "cell_type": "code",
   "execution_count": 22,
   "id": "a973bea0",
   "metadata": {},
   "outputs": [
    {
     "name": "stderr",
     "output_type": "stream",
     "text": [
      "C:\\Users\\91700\\AppData\\Local\\Temp/ipykernel_14820/2937971491.py:3: SettingWithCopyWarning: \n",
      "A value is trying to be set on a copy of a slice from a DataFrame\n",
      "\n",
      "See the caveats in the documentation: https://pandas.pydata.org/pandas-docs/stable/user_guide/indexing.html#returning-a-view-versus-a-copy\n",
      "  data['Gender'][i] = 1\n",
      "C:\\Users\\91700\\AppData\\Local\\Temp/ipykernel_14820/2937971491.py:5: SettingWithCopyWarning: \n",
      "A value is trying to be set on a copy of a slice from a DataFrame\n",
      "\n",
      "See the caveats in the documentation: https://pandas.pydata.org/pandas-docs/stable/user_guide/indexing.html#returning-a-view-versus-a-copy\n",
      "  data['Gender'][i] = 0\n"
     ]
    },
    {
     "data": {
      "text/html": [
       "<div>\n",
       "<style scoped>\n",
       "    .dataframe tbody tr th:only-of-type {\n",
       "        vertical-align: middle;\n",
       "    }\n",
       "\n",
       "    .dataframe tbody tr th {\n",
       "        vertical-align: top;\n",
       "    }\n",
       "\n",
       "    .dataframe thead th {\n",
       "        text-align: right;\n",
       "    }\n",
       "</style>\n",
       "<table border=\"1\" class=\"dataframe\">\n",
       "  <thead>\n",
       "    <tr style=\"text-align: right;\">\n",
       "      <th></th>\n",
       "      <th>Gender</th>\n",
       "      <th>Age</th>\n",
       "      <th>EstimatedSalary</th>\n",
       "      <th>Purchased</th>\n",
       "    </tr>\n",
       "  </thead>\n",
       "  <tbody>\n",
       "    <tr>\n",
       "      <th>0</th>\n",
       "      <td>1</td>\n",
       "      <td>19</td>\n",
       "      <td>19000</td>\n",
       "      <td>0</td>\n",
       "    </tr>\n",
       "    <tr>\n",
       "      <th>1</th>\n",
       "      <td>1</td>\n",
       "      <td>35</td>\n",
       "      <td>20000</td>\n",
       "      <td>0</td>\n",
       "    </tr>\n",
       "    <tr>\n",
       "      <th>2</th>\n",
       "      <td>0</td>\n",
       "      <td>26</td>\n",
       "      <td>43000</td>\n",
       "      <td>0</td>\n",
       "    </tr>\n",
       "    <tr>\n",
       "      <th>3</th>\n",
       "      <td>0</td>\n",
       "      <td>27</td>\n",
       "      <td>57000</td>\n",
       "      <td>0</td>\n",
       "    </tr>\n",
       "    <tr>\n",
       "      <th>4</th>\n",
       "      <td>1</td>\n",
       "      <td>19</td>\n",
       "      <td>76000</td>\n",
       "      <td>0</td>\n",
       "    </tr>\n",
       "  </tbody>\n",
       "</table>\n",
       "</div>"
      ],
      "text/plain": [
       "  Gender  Age  EstimatedSalary  Purchased\n",
       "0      1   19            19000          0\n",
       "1      1   35            20000          0\n",
       "2      0   26            43000          0\n",
       "3      0   27            57000          0\n",
       "4      1   19            76000          0"
      ]
     },
     "execution_count": 22,
     "metadata": {},
     "output_type": "execute_result"
    }
   ],
   "source": [
    "for i in range(data.shape[0]):\n",
    "    if(data['Gender'][i]=='Male'):\n",
    "        data['Gender'][i] = 1\n",
    "    else:\n",
    "        data['Gender'][i] = 0\n",
    "\n",
    "data.head()"
   ]
  },
  {
   "cell_type": "code",
   "execution_count": 23,
   "id": "48a94cc4",
   "metadata": {},
   "outputs": [],
   "source": [
    "X = data.drop('Purchased',axis=1)\n",
    "y = data['Purchased']\n",
    "X_train, X_test, y_train, y_test = train_test_split(X,y,test_size = 0.2, random_state = 2) "
   ]
  },
  {
   "cell_type": "code",
   "execution_count": 24,
   "id": "8588990b",
   "metadata": {},
   "outputs": [],
   "source": [
    "scaler = StandardScaler()\n",
    "X_train2 = scaler.fit_transform(X_train)\n",
    "X_test2 = scaler.transform(X_test)\n",
    "X2 = scaler.fit_transform(X)"
   ]
  },
  {
   "cell_type": "code",
   "execution_count": 25,
   "id": "fd3f505e",
   "metadata": {},
   "outputs": [],
   "source": [
    "lr = LogisticRegression()\n",
    "dt = DecisionTreeClassifier()\n",
    "knn = KNeighborsClassifier()\n",
    "gnb = GaussianNB()\n",
    "svm = SVC(probability=True)"
   ]
  },
  {
   "cell_type": "code",
   "execution_count": 26,
   "id": "126cafbe",
   "metadata": {},
   "outputs": [],
   "source": [
    "estimator_list = [('lr',lr),('dt',dt),('knn',knn),('gnb',gnb),('svm',svm)]"
   ]
  },
  {
   "cell_type": "code",
   "execution_count": 27,
   "id": "2358b336",
   "metadata": {},
   "outputs": [],
   "source": [
    "vt_clf_hard = VotingClassifier(estimators=estimator_list, voting='hard' )\n",
    "vt_clf_soft = VotingClassifier(estimators=estimator_list, voting='soft' )"
   ]
  },
  {
   "cell_type": "code",
   "execution_count": 28,
   "id": "81d97e91",
   "metadata": {},
   "outputs": [],
   "source": [
    "model_list = [lr,dt,knn,gnb,svm,vt_clf_hard,vt_clf_soft]"
   ]
  },
  {
   "cell_type": "code",
   "execution_count": 29,
   "id": "b3eb2c58",
   "metadata": {},
   "outputs": [],
   "source": [
    "def cross_validate(model,X,y):\n",
    "    cv_score = cross_val_score(model,X,y,cv=10,scoring='accuracy')\n",
    "    print('model ::::::   ', model)\n",
    "    print('cross validated score === ',cv_score.mean()*100)"
   ]
  },
  {
   "cell_type": "code",
   "execution_count": 30,
   "id": "09102d6a",
   "metadata": {
    "scrolled": false
   },
   "outputs": [
    {
     "name": "stdout",
     "output_type": "stream",
     "text": [
      "model ::::::    LogisticRegression()\n",
      "cross validated score ===  82.25\n",
      "model ::::::    DecisionTreeClassifier()\n",
      "cross validated score ===  83.99999999999999\n",
      "model ::::::    KNeighborsClassifier()\n",
      "cross validated score ===  90.75\n",
      "model ::::::    GaussianNB()\n",
      "cross validated score ===  87.5\n",
      "model ::::::    SVC(probability=True)\n",
      "cross validated score ===  90.5\n",
      "model ::::::    VotingClassifier(estimators=[('lr', LogisticRegression()),\n",
      "                             ('dt', DecisionTreeClassifier()),\n",
      "                             ('knn', KNeighborsClassifier()),\n",
      "                             ('gnb', GaussianNB()),\n",
      "                             ('svm', SVC(probability=True))])\n",
      "cross validated score ===  88.00000000000001\n",
      "model ::::::    VotingClassifier(estimators=[('lr', LogisticRegression()),\n",
      "                             ('dt', DecisionTreeClassifier()),\n",
      "                             ('knn', KNeighborsClassifier()),\n",
      "                             ('gnb', GaussianNB()),\n",
      "                             ('svm', SVC(probability=True))],\n",
      "                 voting='soft')\n",
      "cross validated score ===  88.00000000000001\n"
     ]
    }
   ],
   "source": [
    "for model in model_list:\n",
    "    cross_validate(model,X2,y)"
   ]
  },
  {
   "cell_type": "markdown",
   "id": "065b5320",
   "metadata": {},
   "source": [
    "# Same Algorithm"
   ]
  },
  {
   "cell_type": "code",
   "execution_count": 31,
   "id": "317bef2f",
   "metadata": {},
   "outputs": [],
   "source": [
    "svm1 = SVC(probability=True,C=1.0 )\n",
    "svm2 = SVC(probability=True,C=5.0 )\n",
    "svm3 = SVC(probability=True,C=20.0 )\n",
    "svm4 = SVC(probability=True,C=50.0 )\n",
    "svm5 = SVC(probability=True,C=100.0 )"
   ]
  },
  {
   "cell_type": "code",
   "execution_count": 32,
   "id": "cf84aef8",
   "metadata": {},
   "outputs": [],
   "source": [
    "estimator_list2 = [('m1',svm1),('m2',svm2),('m3',svm3),('m4',svm4),('m5',svm5)]"
   ]
  },
  {
   "cell_type": "code",
   "execution_count": 33,
   "id": "ed12b650",
   "metadata": {},
   "outputs": [],
   "source": [
    "vt_clf_hard2 = VotingClassifier(estimators=estimator_list, voting='hard' )\n",
    "vt_clf_soft2 = VotingClassifier(estimators=estimator_list, voting='soft' )"
   ]
  },
  {
   "cell_type": "code",
   "execution_count": 34,
   "id": "4f6066d2",
   "metadata": {},
   "outputs": [],
   "source": [
    "model_list2 = [lr,dt,knn,gnb,svm,vt_clf_hard2,vt_clf_soft2]"
   ]
  },
  {
   "cell_type": "code",
   "execution_count": 35,
   "id": "38c57b2d",
   "metadata": {
    "scrolled": false
   },
   "outputs": [
    {
     "name": "stdout",
     "output_type": "stream",
     "text": [
      "model ::::::    LogisticRegression()\n",
      "cross validated score ===  82.25\n",
      "model ::::::    DecisionTreeClassifier()\n",
      "cross validated score ===  83.5\n",
      "model ::::::    KNeighborsClassifier()\n",
      "cross validated score ===  90.75\n",
      "model ::::::    GaussianNB()\n",
      "cross validated score ===  87.5\n",
      "model ::::::    SVC(probability=True)\n",
      "cross validated score ===  90.5\n",
      "model ::::::    VotingClassifier(estimators=[('lr', LogisticRegression()),\n",
      "                             ('dt', DecisionTreeClassifier()),\n",
      "                             ('knn', KNeighborsClassifier()),\n",
      "                             ('gnb', GaussianNB()),\n",
      "                             ('svm', SVC(probability=True))])\n",
      "cross validated score ===  88.00000000000001\n",
      "model ::::::    VotingClassifier(estimators=[('lr', LogisticRegression()),\n",
      "                             ('dt', DecisionTreeClassifier()),\n",
      "                             ('knn', KNeighborsClassifier()),\n",
      "                             ('gnb', GaussianNB()),\n",
      "                             ('svm', SVC(probability=True))],\n",
      "                 voting='soft')\n",
      "cross validated score ===  87.75\n"
     ]
    }
   ],
   "source": [
    "for model in model_list2:\n",
    "    cross_validate(model,X2,y)"
   ]
  },
  {
   "cell_type": "markdown",
   "id": "b4091444",
   "metadata": {},
   "source": [
    "#  Tuning Weights of each algorithm"
   ]
  },
  {
   "cell_type": "code",
   "execution_count": 36,
   "id": "faf65af2",
   "metadata": {
    "scrolled": false
   },
   "outputs": [],
   "source": [
    "#for i in range(1,6):\n",
    "#    for j in range(1,6):\n",
    " #       for k in range(1,6):\n",
    "  #          for l in range(1,6):\n",
    "   #             for m in range(1,6):\n",
    "    #                vt_clf = VotingClassifier(estimators=estimator_list, voting='soft',weights=[i,j,k,l,m] ,n_jobs=-1)\n",
    "     #               cv_score = cross_val_score(vt_clf,X2,y,cv=10,scoring='accuracy')\n",
    "      #              x = np.mean(cv_score)*100\n",
    "       #             if x>=88.1:\n",
    "        #                print('for i={},j={},k={},l={},m={}'.format(i,j,k,l,m),x)"
   ]
  },
  {
   "cell_type": "code",
   "execution_count": null,
   "id": "198aae75",
   "metadata": {},
   "outputs": [],
   "source": []
  }
 ],
 "metadata": {
  "kernelspec": {
   "display_name": "Python 3 (ipykernel)",
   "language": "python",
   "name": "python3"
  },
  "language_info": {
   "codemirror_mode": {
    "name": "ipython",
    "version": 3
   },
   "file_extension": ".py",
   "mimetype": "text/x-python",
   "name": "python",
   "nbconvert_exporter": "python",
   "pygments_lexer": "ipython3",
   "version": "3.9.7"
  }
 },
 "nbformat": 4,
 "nbformat_minor": 5
}
