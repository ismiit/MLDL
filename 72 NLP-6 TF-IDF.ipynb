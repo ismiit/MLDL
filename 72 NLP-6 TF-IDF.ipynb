{
 "cells": [
  {
   "cell_type": "code",
   "execution_count": 107,
   "id": "1627a59b",
   "metadata": {},
   "outputs": [],
   "source": [
    "import pandas as pd\n",
    "import numpy as np\n",
    "from nltk import word_tokenize\n",
    "from nltk.stem import WordNetLemmatizer"
   ]
  },
  {
   "cell_type": "code",
   "execution_count": 108,
   "id": "23851338",
   "metadata": {},
   "outputs": [],
   "source": [
    "sentence = ['people watching campusx', 'campusx watching campusx', 'people writing comment', 'campusx writing comment']\n",
    "value  = [1,1,0,0]\n",
    "dic = {'sentences':sentence,\n",
    "       'values':value}\n",
    "data = pd.DataFrame(dic)\n",
    "data2 = data.copy()"
   ]
  },
  {
   "cell_type": "code",
   "execution_count": 109,
   "id": "5dcc31ef",
   "metadata": {},
   "outputs": [],
   "source": [
    "def tokenize(text):\n",
    "    words = word_tokenize(text)\n",
    "    return words\n",
    "\n",
    "def lemmatizer(token_list):\n",
    "    wnl = WordNetLemmatizer()\n",
    "    return ([wnl.lemmatize(word,'v') for word in token_list])\n",
    "\n",
    "data['sentences'] = data['sentences'].apply(tokenize)\n",
    "data['sentences'] = data['sentences'].apply(lemmatizer)"
   ]
  },
  {
   "cell_type": "code",
   "execution_count": 110,
   "id": "94d8ad11",
   "metadata": {},
   "outputs": [
    {
     "data": {
      "text/html": [
       "<div>\n",
       "<style scoped>\n",
       "    .dataframe tbody tr th:only-of-type {\n",
       "        vertical-align: middle;\n",
       "    }\n",
       "\n",
       "    .dataframe tbody tr th {\n",
       "        vertical-align: top;\n",
       "    }\n",
       "\n",
       "    .dataframe thead th {\n",
       "        text-align: right;\n",
       "    }\n",
       "</style>\n",
       "<table border=\"1\" class=\"dataframe\">\n",
       "  <thead>\n",
       "    <tr style=\"text-align: right;\">\n",
       "      <th></th>\n",
       "      <th>sentences</th>\n",
       "      <th>values</th>\n",
       "    </tr>\n",
       "  </thead>\n",
       "  <tbody>\n",
       "    <tr>\n",
       "      <th>0</th>\n",
       "      <td>[people, watch, campusx]</td>\n",
       "      <td>1</td>\n",
       "    </tr>\n",
       "    <tr>\n",
       "      <th>1</th>\n",
       "      <td>[campusx, watch, campusx]</td>\n",
       "      <td>1</td>\n",
       "    </tr>\n",
       "    <tr>\n",
       "      <th>2</th>\n",
       "      <td>[people, write, comment]</td>\n",
       "      <td>0</td>\n",
       "    </tr>\n",
       "    <tr>\n",
       "      <th>3</th>\n",
       "      <td>[campusx, write, comment]</td>\n",
       "      <td>0</td>\n",
       "    </tr>\n",
       "  </tbody>\n",
       "</table>\n",
       "</div>"
      ],
      "text/plain": [
       "                   sentences  values\n",
       "0   [people, watch, campusx]       1\n",
       "1  [campusx, watch, campusx]       1\n",
       "2   [people, write, comment]       0\n",
       "3  [campusx, write, comment]       0"
      ]
     },
     "execution_count": 110,
     "metadata": {},
     "output_type": "execute_result"
    }
   ],
   "source": [
    "data"
   ]
  },
  {
   "cell_type": "code",
   "execution_count": 111,
   "id": "6433f5b3",
   "metadata": {},
   "outputs": [
    {
     "data": {
      "text/plain": [
       "['people',\n",
       " 'watch',\n",
       " 'campusx',\n",
       " 'campusx',\n",
       " 'watch',\n",
       " 'campusx',\n",
       " 'people',\n",
       " 'write',\n",
       " 'comment',\n",
       " 'campusx',\n",
       " 'write',\n",
       " 'comment']"
      ]
     },
     "execution_count": 111,
     "metadata": {},
     "output_type": "execute_result"
    }
   ],
   "source": [
    "corpus = []\n",
    "for i in range(data.shape[0]):\n",
    "    corpus = corpus + data['sentences'][i]\n",
    "corpus"
   ]
  },
  {
   "cell_type": "code",
   "execution_count": 112,
   "id": "b53d8df1",
   "metadata": {},
   "outputs": [
    {
     "data": {
      "text/plain": [
       "['campusx', 'comment', 'people', 'watch', 'write']"
      ]
     },
     "execution_count": 112,
     "metadata": {},
     "output_type": "execute_result"
    }
   ],
   "source": [
    "vocabulary = list(np.unique(corpus))\n",
    "vocabulary"
   ]
  },
  {
   "cell_type": "code",
   "execution_count": 113,
   "id": "6ed7dae5",
   "metadata": {},
   "outputs": [
    {
     "data": {
      "text/plain": [
       "['people', 'write', 'comment']"
      ]
     },
     "execution_count": 113,
     "metadata": {},
     "output_type": "execute_result"
    }
   ],
   "source": [
    "data['sentences'][2]"
   ]
  },
  {
   "cell_type": "code",
   "execution_count": 114,
   "id": "f2f7d66b",
   "metadata": {},
   "outputs": [],
   "source": [
    "def idf(text):\n",
    "    count_of_term = 0.000001\n",
    "    number_of_docs = data.shape[0]\n",
    "        \n",
    "    for i in range(number_of_docs):\n",
    "        if text in data['sentences'][i]:\n",
    "            count_of_term+=1\n",
    "    idf = (np.log(number_of_docs/count_of_term))+1\n",
    "    return idf\n",
    "    \n",
    "def tf(text,doc):\n",
    "    number_of_terms = len(doc)\n",
    "    count_of_term = doc.count(text)\n",
    "        \n",
    "    tf = count_of_term/number_of_terms\n",
    "    return tf"
   ]
  },
  {
   "cell_type": "code",
   "execution_count": 115,
   "id": "dbc12cc3",
   "metadata": {},
   "outputs": [],
   "source": [
    "def tf_idf(doc):\n",
    "    vector = []\n",
    "    for text in vocabulary:\n",
    "        tfs = tf(text,doc)\n",
    "        idfs = idf(text)\n",
    "        tfidf = np.round((tfs*idfs),3)\n",
    "        vector.append(tfidf)\n",
    "    return vector"
   ]
  },
  {
   "cell_type": "code",
   "execution_count": 116,
   "id": "a55c132c",
   "metadata": {},
   "outputs": [
    {
     "data": {
      "text/plain": [
       "1.2876817391185031"
      ]
     },
     "execution_count": 116,
     "metadata": {},
     "output_type": "execute_result"
    }
   ],
   "source": [
    "idf('campusx')"
   ]
  },
  {
   "cell_type": "code",
   "execution_count": 117,
   "id": "be733d5f",
   "metadata": {
    "scrolled": false
   },
   "outputs": [
    {
     "data": {
      "text/plain": [
       "[0.429, 0.0, 0.564, 0.564, 0.0]"
      ]
     },
     "execution_count": 117,
     "metadata": {},
     "output_type": "execute_result"
    }
   ],
   "source": [
    "tf_idf(data['sentences'][0])"
   ]
  },
  {
   "cell_type": "code",
   "execution_count": 118,
   "id": "87b3bce9",
   "metadata": {},
   "outputs": [],
   "source": [
    "data['sentences'] = data['sentences'].apply(tf_idf)"
   ]
  },
  {
   "cell_type": "code",
   "execution_count": 119,
   "id": "01a69cbe",
   "metadata": {},
   "outputs": [
    {
     "data": {
      "text/html": [
       "<div>\n",
       "<style scoped>\n",
       "    .dataframe tbody tr th:only-of-type {\n",
       "        vertical-align: middle;\n",
       "    }\n",
       "\n",
       "    .dataframe tbody tr th {\n",
       "        vertical-align: top;\n",
       "    }\n",
       "\n",
       "    .dataframe thead th {\n",
       "        text-align: right;\n",
       "    }\n",
       "</style>\n",
       "<table border=\"1\" class=\"dataframe\">\n",
       "  <thead>\n",
       "    <tr style=\"text-align: right;\">\n",
       "      <th></th>\n",
       "      <th>sentences</th>\n",
       "      <th>values</th>\n",
       "    </tr>\n",
       "  </thead>\n",
       "  <tbody>\n",
       "    <tr>\n",
       "      <th>0</th>\n",
       "      <td>[0.429, 0.0, 0.564, 0.564, 0.0]</td>\n",
       "      <td>1</td>\n",
       "    </tr>\n",
       "    <tr>\n",
       "      <th>1</th>\n",
       "      <td>[0.858, 0.0, 0.0, 0.564, 0.0]</td>\n",
       "      <td>1</td>\n",
       "    </tr>\n",
       "    <tr>\n",
       "      <th>2</th>\n",
       "      <td>[0.0, 0.564, 0.564, 0.0, 0.564]</td>\n",
       "      <td>0</td>\n",
       "    </tr>\n",
       "    <tr>\n",
       "      <th>3</th>\n",
       "      <td>[0.429, 0.564, 0.0, 0.0, 0.564]</td>\n",
       "      <td>0</td>\n",
       "    </tr>\n",
       "  </tbody>\n",
       "</table>\n",
       "</div>"
      ],
      "text/plain": [
       "                         sentences  values\n",
       "0  [0.429, 0.0, 0.564, 0.564, 0.0]       1\n",
       "1    [0.858, 0.0, 0.0, 0.564, 0.0]       1\n",
       "2  [0.0, 0.564, 0.564, 0.0, 0.564]       0\n",
       "3  [0.429, 0.564, 0.0, 0.0, 0.564]       0"
      ]
     },
     "execution_count": 119,
     "metadata": {},
     "output_type": "execute_result"
    }
   ],
   "source": [
    "data"
   ]
  },
  {
   "cell_type": "markdown",
   "id": "6f634061",
   "metadata": {},
   "source": [
    "# TF-IDF Vectorizer"
   ]
  },
  {
   "cell_type": "code",
   "execution_count": 120,
   "id": "d0e5fe1d",
   "metadata": {},
   "outputs": [],
   "source": [
    "from sklearn.feature_extraction.text import TfidfVectorizer"
   ]
  },
  {
   "cell_type": "code",
   "execution_count": 121,
   "id": "8bc4199e",
   "metadata": {},
   "outputs": [
    {
     "data": {
      "text/html": [
       "<div>\n",
       "<style scoped>\n",
       "    .dataframe tbody tr th:only-of-type {\n",
       "        vertical-align: middle;\n",
       "    }\n",
       "\n",
       "    .dataframe tbody tr th {\n",
       "        vertical-align: top;\n",
       "    }\n",
       "\n",
       "    .dataframe thead th {\n",
       "        text-align: right;\n",
       "    }\n",
       "</style>\n",
       "<table border=\"1\" class=\"dataframe\">\n",
       "  <thead>\n",
       "    <tr style=\"text-align: right;\">\n",
       "      <th></th>\n",
       "      <th>sentences</th>\n",
       "      <th>values</th>\n",
       "    </tr>\n",
       "  </thead>\n",
       "  <tbody>\n",
       "    <tr>\n",
       "      <th>0</th>\n",
       "      <td>people watching campusx</td>\n",
       "      <td>1</td>\n",
       "    </tr>\n",
       "    <tr>\n",
       "      <th>1</th>\n",
       "      <td>campusx watching campusx</td>\n",
       "      <td>1</td>\n",
       "    </tr>\n",
       "    <tr>\n",
       "      <th>2</th>\n",
       "      <td>people writing comment</td>\n",
       "      <td>0</td>\n",
       "    </tr>\n",
       "    <tr>\n",
       "      <th>3</th>\n",
       "      <td>campusx writing comment</td>\n",
       "      <td>0</td>\n",
       "    </tr>\n",
       "  </tbody>\n",
       "</table>\n",
       "</div>"
      ],
      "text/plain": [
       "                  sentences  values\n",
       "0   people watching campusx       1\n",
       "1  campusx watching campusx       1\n",
       "2    people writing comment       0\n",
       "3   campusx writing comment       0"
      ]
     },
     "execution_count": 121,
     "metadata": {},
     "output_type": "execute_result"
    }
   ],
   "source": [
    "data2"
   ]
  },
  {
   "cell_type": "code",
   "execution_count": 122,
   "id": "96208137",
   "metadata": {},
   "outputs": [],
   "source": [
    "tidf = TfidfVectorizer()\n",
    "fitter = tidf.fit_transform(data2['sentences']).toarray()"
   ]
  },
  {
   "cell_type": "code",
   "execution_count": 123,
   "id": "0a3128fb",
   "metadata": {},
   "outputs": [
    {
     "data": {
      "text/plain": [
       "array([[0.49681612, 0.        , 0.61366674, 0.61366674, 0.        ],\n",
       "       [0.8508161 , 0.        , 0.        , 0.52546357, 0.        ],\n",
       "       [0.        , 0.57735027, 0.57735027, 0.        , 0.57735027],\n",
       "       [0.49681612, 0.61366674, 0.        , 0.        , 0.61366674]])"
      ]
     },
     "execution_count": 123,
     "metadata": {},
     "output_type": "execute_result"
    }
   ],
   "source": [
    "fitter"
   ]
  },
  {
   "cell_type": "code",
   "execution_count": 124,
   "id": "a13f84c3",
   "metadata": {},
   "outputs": [
    {
     "name": "stdout",
     "output_type": "stream",
     "text": [
      "[1.22314355 1.51082562 1.51082562 1.51082562 1.51082562]\n",
      "['campusx' 'comment' 'people' 'watching' 'writing']\n"
     ]
    }
   ],
   "source": [
    "print(tidf.idf_)\n",
    "print(tidf.get_feature_names_out())"
   ]
  },
  {
   "cell_type": "code",
   "execution_count": null,
   "id": "165318ae",
   "metadata": {},
   "outputs": [],
   "source": []
  }
 ],
 "metadata": {
  "kernelspec": {
   "display_name": "Python 3 (ipykernel)",
   "language": "python",
   "name": "python3"
  },
  "language_info": {
   "codemirror_mode": {
    "name": "ipython",
    "version": 3
   },
   "file_extension": ".py",
   "mimetype": "text/x-python",
   "name": "python",
   "nbconvert_exporter": "python",
   "pygments_lexer": "ipython3",
   "version": "3.9.7"
  }
 },
 "nbformat": 4,
 "nbformat_minor": 5
}
