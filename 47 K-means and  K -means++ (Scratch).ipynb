{
 "cells": [
  {
   "cell_type": "code",
   "execution_count": 395,
   "id": "9289dd63",
   "metadata": {},
   "outputs": [],
   "source": [
    "import pandas as pd\n",
    "import numpy as np\n",
    "import random as rd\n",
    "import matplotlib.pyplot as plt"
   ]
  },
  {
   "cell_type": "code",
   "execution_count": 396,
   "id": "d77d60c9",
   "metadata": {},
   "outputs": [
    {
     "data": {
      "text/html": [
       "<div>\n",
       "<style scoped>\n",
       "    .dataframe tbody tr th:only-of-type {\n",
       "        vertical-align: middle;\n",
       "    }\n",
       "\n",
       "    .dataframe tbody tr th {\n",
       "        vertical-align: top;\n",
       "    }\n",
       "\n",
       "    .dataframe thead th {\n",
       "        text-align: right;\n",
       "    }\n",
       "</style>\n",
       "<table border=\"1\" class=\"dataframe\">\n",
       "  <thead>\n",
       "    <tr style=\"text-align: right;\">\n",
       "      <th></th>\n",
       "      <th>Gender</th>\n",
       "      <th>Height</th>\n",
       "      <th>Weight</th>\n",
       "      <th>Index</th>\n",
       "    </tr>\n",
       "  </thead>\n",
       "  <tbody>\n",
       "    <tr>\n",
       "      <th>0</th>\n",
       "      <td>Male</td>\n",
       "      <td>174</td>\n",
       "      <td>96</td>\n",
       "      <td>4</td>\n",
       "    </tr>\n",
       "    <tr>\n",
       "      <th>1</th>\n",
       "      <td>Male</td>\n",
       "      <td>189</td>\n",
       "      <td>87</td>\n",
       "      <td>2</td>\n",
       "    </tr>\n",
       "    <tr>\n",
       "      <th>2</th>\n",
       "      <td>Female</td>\n",
       "      <td>185</td>\n",
       "      <td>110</td>\n",
       "      <td>4</td>\n",
       "    </tr>\n",
       "    <tr>\n",
       "      <th>3</th>\n",
       "      <td>Female</td>\n",
       "      <td>195</td>\n",
       "      <td>104</td>\n",
       "      <td>3</td>\n",
       "    </tr>\n",
       "    <tr>\n",
       "      <th>4</th>\n",
       "      <td>Male</td>\n",
       "      <td>149</td>\n",
       "      <td>61</td>\n",
       "      <td>3</td>\n",
       "    </tr>\n",
       "  </tbody>\n",
       "</table>\n",
       "</div>"
      ],
      "text/plain": [
       "   Gender  Height  Weight  Index\n",
       "0    Male     174      96      4\n",
       "1    Male     189      87      2\n",
       "2  Female     185     110      4\n",
       "3  Female     195     104      3\n",
       "4    Male     149      61      3"
      ]
     },
     "execution_count": 396,
     "metadata": {},
     "output_type": "execute_result"
    }
   ],
   "source": [
    "data = pd.read_csv('data/500_Person_Gender_Height_Weight_Index.csv')\n",
    "data.head()"
   ]
  },
  {
   "cell_type": "code",
   "execution_count": 397,
   "id": "e338f09f",
   "metadata": {},
   "outputs": [
    {
     "data": {
      "text/html": [
       "<div>\n",
       "<style scoped>\n",
       "    .dataframe tbody tr th:only-of-type {\n",
       "        vertical-align: middle;\n",
       "    }\n",
       "\n",
       "    .dataframe tbody tr th {\n",
       "        vertical-align: top;\n",
       "    }\n",
       "\n",
       "    .dataframe thead th {\n",
       "        text-align: right;\n",
       "    }\n",
       "</style>\n",
       "<table border=\"1\" class=\"dataframe\">\n",
       "  <thead>\n",
       "    <tr style=\"text-align: right;\">\n",
       "      <th></th>\n",
       "      <th>Height</th>\n",
       "      <th>Weight</th>\n",
       "    </tr>\n",
       "  </thead>\n",
       "  <tbody>\n",
       "    <tr>\n",
       "      <th>0</th>\n",
       "      <td>174</td>\n",
       "      <td>96</td>\n",
       "    </tr>\n",
       "    <tr>\n",
       "      <th>1</th>\n",
       "      <td>189</td>\n",
       "      <td>87</td>\n",
       "    </tr>\n",
       "    <tr>\n",
       "      <th>2</th>\n",
       "      <td>185</td>\n",
       "      <td>110</td>\n",
       "    </tr>\n",
       "    <tr>\n",
       "      <th>3</th>\n",
       "      <td>195</td>\n",
       "      <td>104</td>\n",
       "    </tr>\n",
       "    <tr>\n",
       "      <th>4</th>\n",
       "      <td>149</td>\n",
       "      <td>61</td>\n",
       "    </tr>\n",
       "  </tbody>\n",
       "</table>\n",
       "</div>"
      ],
      "text/plain": [
       "   Height  Weight\n",
       "0     174      96\n",
       "1     189      87\n",
       "2     185     110\n",
       "3     195     104\n",
       "4     149      61"
      ]
     },
     "execution_count": 397,
     "metadata": {},
     "output_type": "execute_result"
    }
   ],
   "source": [
    "X = data.iloc[:,1:3]\n",
    "X.head()"
   ]
  },
  {
   "cell_type": "markdown",
   "id": "40224f9f",
   "metadata": {},
   "source": [
    "# K - Means"
   ]
  },
  {
   "cell_type": "markdown",
   "id": "482e559e",
   "metadata": {},
   "source": [
    "## Step 1 : Get Random Centroids"
   ]
  },
  {
   "cell_type": "code",
   "execution_count": 398,
   "id": "e2fd44e3",
   "metadata": {},
   "outputs": [
    {
     "data": {
      "text/plain": [
       "<matplotlib.collections.PathCollection at 0x276238ebb80>"
      ]
     },
     "execution_count": 398,
     "metadata": {},
     "output_type": "execute_result"
    },
    {
     "data": {
      "image/png": "[encoded data removed]",
      "text/plain": [
       "<Figure size 432x288 with 1 Axes>"
      ]
     },
     "metadata": {
      "needs_background": "light"
     },
     "output_type": "display_data"
    }
   ],
   "source": [
    "def get_random_centroids(X, k):\n",
    "    cent =(X.sample(n = k))\n",
    "    return cent\n",
    "centroids = np.array(get_rand_centroids(X, k = 3))\n",
    "X = np.array(X)\n",
    "plt.scatter(X[:,0],X[:,1],color='y')\n",
    "plt.scatter(centroids[:,0],centroids[:,1],color='black',marker='^')"
   ]
  },
  {
   "cell_type": "code",
   "execution_count": 399,
   "id": "ac79d9b3",
   "metadata": {},
   "outputs": [],
   "source": [
    "X2 = data.iloc[:,1:3].values"
   ]
  },
  {
   "cell_type": "code",
   "execution_count": 400,
   "id": "6993d79f",
   "metadata": {},
   "outputs": [
    {
     "data": {
      "text/html": [
       "<div>\n",
       "<style scoped>\n",
       "    .dataframe tbody tr th:only-of-type {\n",
       "        vertical-align: middle;\n",
       "    }\n",
       "\n",
       "    .dataframe tbody tr th {\n",
       "        vertical-align: top;\n",
       "    }\n",
       "\n",
       "    .dataframe thead th {\n",
       "        text-align: right;\n",
       "    }\n",
       "</style>\n",
       "<table border=\"1\" class=\"dataframe\">\n",
       "  <thead>\n",
       "    <tr style=\"text-align: right;\">\n",
       "      <th></th>\n",
       "      <th>Height</th>\n",
       "      <th>Weight</th>\n",
       "    </tr>\n",
       "  </thead>\n",
       "  <tbody>\n",
       "    <tr>\n",
       "      <th>0</th>\n",
       "      <td>174</td>\n",
       "      <td>96</td>\n",
       "    </tr>\n",
       "    <tr>\n",
       "      <th>1</th>\n",
       "      <td>189</td>\n",
       "      <td>87</td>\n",
       "    </tr>\n",
       "    <tr>\n",
       "      <th>2</th>\n",
       "      <td>185</td>\n",
       "      <td>110</td>\n",
       "    </tr>\n",
       "    <tr>\n",
       "      <th>3</th>\n",
       "      <td>195</td>\n",
       "      <td>104</td>\n",
       "    </tr>\n",
       "    <tr>\n",
       "      <th>4</th>\n",
       "      <td>149</td>\n",
       "      <td>61</td>\n",
       "    </tr>\n",
       "  </tbody>\n",
       "</table>\n",
       "</div>"
      ],
      "text/plain": [
       "   Height  Weight\n",
       "0     174      96\n",
       "1     189      87\n",
       "2     185     110\n",
       "3     195     104\n",
       "4     149      61"
      ]
     },
     "execution_count": 400,
     "metadata": {},
     "output_type": "execute_result"
    }
   ],
   "source": [
    "X = data.iloc[:,1:3]\n",
    "X.head()"
   ]
  },
  {
   "cell_type": "markdown",
   "id": "e6be4fc1",
   "metadata": {},
   "source": [
    "### step 2 : Assign Clusters\n",
    "### step 3 : Move centroid\n",
    "### step 4 : if current centroid == previous centroid stop"
   ]
  },
  {
   "cell_type": "code",
   "execution_count": 401,
   "id": "ecfeb604",
   "metadata": {},
   "outputs": [],
   "source": [
    "class K_means:\n",
    "    \n",
    "    def __init__(self,n_clusters,max_iter):\n",
    "        self.n_clusters = n_clusters\n",
    "        self.max_iter = max_iter\n",
    "        self.centroids = None\n",
    "        \n",
    "      \n",
    "    def fit_predict(self,X):\n",
    "        index = rd.sample(range(0,X.shape[0]),self.n_clusters)\n",
    "        self.centroids = np.array(X[index])\n",
    "        for i in range(self.max_iter):\n",
    "            cg = self.find_cluster(X)\n",
    "        return cg\n",
    "    \n",
    "    def find_cluster(self,X):\n",
    "        eucl_dist = []\n",
    "        cluster = []\n",
    "        for row in X:\n",
    "            for cent in self.centroids :\n",
    "                di = row - cent\n",
    "                eud = np.sqrt(np.dot(di,di))\n",
    "                eucl_dist.append(eud)\n",
    "            min_dist = min(eucl_dist)\n",
    "            pos = eucl_dist.index(min_dist)\n",
    "            cluster.append(pos)\n",
    "            eucl_dist.clear()\n",
    "            \n",
    "        return np.array(cluster) "
   ]
  },
  {
   "cell_type": "code",
   "execution_count": 402,
   "id": "c99e6431",
   "metadata": {},
   "outputs": [],
   "source": [
    "#centroids = np.array(get_rand_centroids(X, k = 4))\n",
    "km = K_means(n_clusters=4,max_iter=100)\n",
    "labels = km.fit_predict(np.array(X))"
   ]
  },
  {
   "cell_type": "code",
   "execution_count": 403,
   "id": "07f86f9c",
   "metadata": {},
   "outputs": [],
   "source": [
    "dicts = {\n",
    "    'height':X.iloc[:,0],\n",
    "    'weight':X.iloc[:,1],\n",
    "    'cluster':labels}\n",
    "cluster_data = pd.DataFrame(dicts)"
   ]
  },
  {
   "cell_type": "code",
   "execution_count": 404,
   "id": "dae08df3",
   "metadata": {},
   "outputs": [
    {
     "data": {
      "text/html": [
       "<div>\n",
       "<style scoped>\n",
       "    .dataframe tbody tr th:only-of-type {\n",
       "        vertical-align: middle;\n",
       "    }\n",
       "\n",
       "    .dataframe tbody tr th {\n",
       "        vertical-align: top;\n",
       "    }\n",
       "\n",
       "    .dataframe thead th {\n",
       "        text-align: right;\n",
       "    }\n",
       "</style>\n",
       "<table border=\"1\" class=\"dataframe\">\n",
       "  <thead>\n",
       "    <tr style=\"text-align: right;\">\n",
       "      <th></th>\n",
       "      <th>height</th>\n",
       "      <th>weight</th>\n",
       "      <th>cluster</th>\n",
       "    </tr>\n",
       "  </thead>\n",
       "  <tbody>\n",
       "    <tr>\n",
       "      <th>378</th>\n",
       "      <td>154</td>\n",
       "      <td>96</td>\n",
       "      <td>1</td>\n",
       "    </tr>\n",
       "    <tr>\n",
       "      <th>93</th>\n",
       "      <td>177</td>\n",
       "      <td>61</td>\n",
       "      <td>2</td>\n",
       "    </tr>\n",
       "    <tr>\n",
       "      <th>146</th>\n",
       "      <td>194</td>\n",
       "      <td>106</td>\n",
       "      <td>2</td>\n",
       "    </tr>\n",
       "    <tr>\n",
       "      <th>472</th>\n",
       "      <td>178</td>\n",
       "      <td>65</td>\n",
       "      <td>2</td>\n",
       "    </tr>\n",
       "    <tr>\n",
       "      <th>388</th>\n",
       "      <td>157</td>\n",
       "      <td>66</td>\n",
       "      <td>1</td>\n",
       "    </tr>\n",
       "  </tbody>\n",
       "</table>\n",
       "</div>"
      ],
      "text/plain": [
       "     height  weight  cluster\n",
       "378     154      96        1\n",
       "93      177      61        2\n",
       "146     194     106        2\n",
       "472     178      65        2\n",
       "388     157      66        1"
      ]
     },
     "execution_count": 404,
     "metadata": {},
     "output_type": "execute_result"
    }
   ],
   "source": [
    "df.sample(5)"
   ]
  },
  {
   "cell_type": "code",
   "execution_count": 405,
   "id": "3b16de67",
   "metadata": {},
   "outputs": [
    {
     "data": {
      "text/plain": [
       "array([ 96,  87, 104,  61, 104,  92,  90, 103,  81,  80, 101,  51,  79,\n",
       "       107,  97,  67,  64,  95,  80,  81, 108,  56,  76,  72, 105,  89,\n",
       "        92,  70,  88,  83,  96,  59,  82,  51,  80,  75, 100, 104,  90,\n",
       "        75, 105, 104,  96,  69, 105, 106,  66,  70,  90,  96,  60,  57,\n",
       "       104, 108,  87,  96,  79,  54,  85,  79,  98,  52,  60, 103,  84,\n",
       "       102, 105,  99,  76, 101,  78, 106,  67,  80, 102,  94, 100,  74,\n",
       "        97,  73,  80,  84,  95,  85, 100, 105,  94, 108,  74,  93,  89,\n",
       "       104,  87,  99,  96,  67,  84,  86, 109,  82,  90,  70,  78,  86,\n",
       "        81,  78,  81,  65, 110,  85,  61,  98,  90,  89,  70,  58, 104,\n",
       "        52,  84,  86, 103,  57,  83,  94,  80,  75,  94, 107,  74,  52,\n",
       "       100,  74, 105,  68,  83,  88,  76,  92,  82,  81,  88,  67,  99,\n",
       "        95, 104,  66,  54,  92,  85,  71, 102,  71,  68,  62,  56,  57,\n",
       "        71,  92,  83, 106,  58,  60,  83,  88,  51,  90, 103,  80,  94,\n",
       "        67,  62,  63,  95,  91,  96,  87,  83,  66,  50,  58,  70,  76,\n",
       "        87,  71,  96,  61, 104, 107,  70, 101, 103,  98,  64, 107,  77,\n",
       "        95,  79,  97,  62,  73,  70, 101,  90,  79,  77,  83,  81,  80,\n",
       "        99,  65,  79,  64,  55, 107, 108,  86,  85, 109,  80,  59,  98,\n",
       "        95], dtype=int64)"
      ]
     },
     "execution_count": 405,
     "metadata": {},
     "output_type": "execute_result"
    }
   ],
   "source": [
    "X2[labels==0,1]"
   ]
  },
  {
   "cell_type": "code",
   "execution_count": 406,
   "id": "b538e779",
   "metadata": {
    "scrolled": true
   },
   "outputs": [
    {
     "data": {
      "image/png": "[encoded data removed]",
      "text/plain": [
       "<Figure size 432x288 with 1 Axes>"
      ]
     },
     "metadata": {
      "needs_background": "light"
     },
     "output_type": "display_data"
    }
   ],
   "source": [
    "color = ['yellow','green','red','blue']\n",
    "marker = ['*','^','o','x']\n",
    "for i in range(len(color)):\n",
    "    plt.scatter(X2[labels==i,0],X2[labels==i,1],color =color[i],marker=marker[i])\n",
    "    plt.scatter(X2[labels==i,0].mean(),X2[labels==i,1].mean(),color='black',marker='s')"
   ]
  },
  {
   "cell_type": "markdown",
   "id": "e523048a",
   "metadata": {},
   "source": [
    "# K-means++"
   ]
  },
  {
   "cell_type": "code",
   "execution_count": 431,
   "id": "460c3fb2",
   "metadata": {},
   "outputs": [],
   "source": [
    "def kpp_centroids(X,k):\n",
    "    centroids = X.sample()\n",
    "    i=1\n",
    "    d = []\n",
    "    while i!=k:\n",
    "        max_d = [0,0]\n",
    "        for c,r in centroids.iterrows():\n",
    "            dt = np.sqrt((X['Height']-r['Height'])**2+(X['Weight']-r['Weight'])**2)\n",
    "            if max(dt)>max(max_d):\n",
    "                max_d = dt\n",
    "        X = pd.concat([X,max_d],axis=1)\n",
    "        idt = X.iloc[:,i+1].idxmax()\n",
    "        print(idt)\n",
    "        max_coor = pd.DataFrame(X.iloc[idt][[\"Height\", \"Weight\"]]).T\n",
    "        centroids = pd.concat([centroids,max_coor])\n",
    "        X = X.drop(idt)\n",
    "        i+=1\n",
    "    return centroids\n",
    "        "
   ]
  },
  {
   "cell_type": "code",
   "execution_count": 432,
   "id": "bebef219",
   "metadata": {},
   "outputs": [
    {
     "data": {
      "text/html": [
       "<div>\n",
       "<style scoped>\n",
       "    .dataframe tbody tr th:only-of-type {\n",
       "        vertical-align: middle;\n",
       "    }\n",
       "\n",
       "    .dataframe tbody tr th {\n",
       "        vertical-align: top;\n",
       "    }\n",
       "\n",
       "    .dataframe thead th {\n",
       "        text-align: right;\n",
       "    }\n",
       "</style>\n",
       "<table border=\"1\" class=\"dataframe\">\n",
       "  <thead>\n",
       "    <tr style=\"text-align: right;\">\n",
       "      <th></th>\n",
       "      <th>Height</th>\n",
       "      <th>Weight</th>\n",
       "    </tr>\n",
       "  </thead>\n",
       "  <tbody>\n",
       "    <tr>\n",
       "      <th>0</th>\n",
       "      <td>174</td>\n",
       "      <td>96</td>\n",
       "    </tr>\n",
       "    <tr>\n",
       "      <th>1</th>\n",
       "      <td>189</td>\n",
       "      <td>87</td>\n",
       "    </tr>\n",
       "    <tr>\n",
       "      <th>2</th>\n",
       "      <td>185</td>\n",
       "      <td>110</td>\n",
       "    </tr>\n",
       "    <tr>\n",
       "      <th>3</th>\n",
       "      <td>195</td>\n",
       "      <td>104</td>\n",
       "    </tr>\n",
       "    <tr>\n",
       "      <th>4</th>\n",
       "      <td>149</td>\n",
       "      <td>61</td>\n",
       "    </tr>\n",
       "  </tbody>\n",
       "</table>\n",
       "</div>"
      ],
      "text/plain": [
       "   Height  Weight\n",
       "0     174      96\n",
       "1     189      87\n",
       "2     185     110\n",
       "3     195     104\n",
       "4     149      61"
      ]
     },
     "execution_count": 432,
     "metadata": {},
     "output_type": "execute_result"
    }
   ],
   "source": [
    "X = data.iloc[:,1:3]\n",
    "X.head()"
   ]
  },
  {
   "cell_type": "code",
   "execution_count": 433,
   "id": "e4f547a8",
   "metadata": {},
   "outputs": [
    {
     "name": "stdout",
     "output_type": "stream",
     "text": [
      "213\n",
      "151\n",
      "100\n",
      "389\n"
     ]
    },
    {
     "data": {
      "text/html": [
       "<div>\n",
       "<style scoped>\n",
       "    .dataframe tbody tr th:only-of-type {\n",
       "        vertical-align: middle;\n",
       "    }\n",
       "\n",
       "    .dataframe tbody tr th {\n",
       "        vertical-align: top;\n",
       "    }\n",
       "\n",
       "    .dataframe thead th {\n",
       "        text-align: right;\n",
       "    }\n",
       "</style>\n",
       "<table border=\"1\" class=\"dataframe\">\n",
       "  <thead>\n",
       "    <tr style=\"text-align: right;\">\n",
       "      <th></th>\n",
       "      <th>Height</th>\n",
       "      <th>Weight</th>\n",
       "    </tr>\n",
       "  </thead>\n",
       "  <tbody>\n",
       "    <tr>\n",
       "      <th>226</th>\n",
       "      <td>166.0</td>\n",
       "      <td>70.0</td>\n",
       "    </tr>\n",
       "    <tr>\n",
       "      <th>213</th>\n",
       "      <td>196.0</td>\n",
       "      <td>159.0</td>\n",
       "    </tr>\n",
       "    <tr>\n",
       "      <th>151</th>\n",
       "      <td>140.0</td>\n",
       "      <td>52.0</td>\n",
       "    </tr>\n",
       "    <tr>\n",
       "      <th>100</th>\n",
       "      <td>199.0</td>\n",
       "      <td>156.0</td>\n",
       "    </tr>\n",
       "    <tr>\n",
       "      <th>392</th>\n",
       "      <td>183.0</td>\n",
       "      <td>76.0</td>\n",
       "    </tr>\n",
       "  </tbody>\n",
       "</table>\n",
       "</div>"
      ],
      "text/plain": [
       "     Height  Weight\n",
       "226   166.0    70.0\n",
       "213   196.0   159.0\n",
       "151   140.0    52.0\n",
       "100   199.0   156.0\n",
       "392   183.0    76.0"
      ]
     },
     "execution_count": 433,
     "metadata": {},
     "output_type": "execute_result"
    }
   ],
   "source": [
    "kpp_centroids(X,5)"
   ]
  },
  {
   "cell_type": "code",
   "execution_count": 430,
   "id": "aea7fb0c",
   "metadata": {
    "scrolled": false
   },
   "outputs": [
    {
     "name": "stdout",
     "output_type": "stream",
     "text": [
      "     Height  Weight          0\n",
      "0       174      96  66.128662\n",
      "1       189      87  80.529498\n",
      "2       185     110  58.821765\n",
      "3       195     104  69.656299\n",
      "4       149      61  97.020616\n",
      "..      ...     ...        ...\n",
      "495     150     153   5.099020\n",
      "496     184     121  49.578221\n",
      "497     141     136  24.166092\n",
      "498     150      95  63.007936\n",
      "499     173     131  34.828150\n",
      "\n",
      "[500 rows x 3 columns]\n",
      "     Height  Weight          0           0\n",
      "0       174      96  66.128662   51.884487\n",
      "1       189      87  80.529498   38.078866\n",
      "2       185     110  58.821765   61.392182\n",
      "3       195     104  69.656299   54.083269\n",
      "4       149      61  97.020616   50.219518\n",
      "..      ...     ...        ...         ...\n",
      "495     150     153   5.099020  113.635382\n",
      "496     184     121  49.578221   72.367120\n",
      "497     141     136  24.166092  103.174609\n",
      "498     150      95  63.007936   65.795137\n",
      "499     173     131  34.828150   84.770278\n",
      "\n",
      "[499 rows x 4 columns]\n",
      "     Height  Weight          0           0           0\n",
      "0       174      96  66.128662   51.884487   51.884487\n",
      "1       189      87  80.529498   38.078866   38.078866\n",
      "2       185     110  58.821765   61.392182   61.392182\n",
      "3       195     104  69.656299   54.083269   54.083269\n",
      "4       149      61  97.020616   50.219518   50.219518\n",
      "..      ...     ...        ...         ...         ...\n",
      "495     150     153   5.099020  113.635382  113.635382\n",
      "496     184     121  49.578221   72.367120   72.367120\n",
      "497     141     136  24.166092  103.174609  103.174609\n",
      "498     150      95  63.007936   65.795137   65.795137\n",
      "499     173     131  34.828150   84.770278   84.770278\n",
      "\n",
      "[498 rows x 5 columns]\n",
      "     Height  Weight          0           0           0           0\n",
      "0       174      96  66.128662   51.884487   51.884487   51.884487\n",
      "1       189      87  80.529498   38.078866   38.078866   38.078866\n",
      "2       185     110  58.821765   61.392182   61.392182   61.392182\n",
      "3       195     104  69.656299   54.083269   54.083269   54.083269\n",
      "4       149      61  97.020616   50.219518   50.219518   50.219518\n",
      "..      ...     ...        ...         ...         ...         ...\n",
      "495     150     153   5.099020  113.635382  113.635382  113.635382\n",
      "496     184     121  49.578221   72.367120   72.367120   72.367120\n",
      "497     141     136  24.166092  103.174609  103.174609  103.174609\n",
      "498     150      95  63.007936   65.795137   65.795137   65.795137\n",
      "499     173     131  34.828150   84.770278   84.770278   84.770278\n",
      "\n",
      "[497 rows x 6 columns]\n"
     ]
    },
    {
     "data": {
      "text/html": [
       "<div>\n",
       "<style scoped>\n",
       "    .dataframe tbody tr th:only-of-type {\n",
       "        vertical-align: middle;\n",
       "    }\n",
       "\n",
       "    .dataframe tbody tr th {\n",
       "        vertical-align: top;\n",
       "    }\n",
       "\n",
       "    .dataframe thead th {\n",
       "        text-align: right;\n",
       "    }\n",
       "</style>\n",
       "<table border=\"1\" class=\"dataframe\">\n",
       "  <thead>\n",
       "    <tr style=\"text-align: right;\">\n",
       "      <th></th>\n",
       "      <th>Height</th>\n",
       "      <th>Weight</th>\n",
       "    </tr>\n",
       "  </thead>\n",
       "  <tbody>\n",
       "    <tr>\n",
       "      <th>362</th>\n",
       "      <td>151.0</td>\n",
       "      <td>158.0</td>\n",
       "    </tr>\n",
       "    <tr>\n",
       "      <th>85</th>\n",
       "      <td>198.0</td>\n",
       "      <td>50.0</td>\n",
       "    </tr>\n",
       "    <tr>\n",
       "      <th>248</th>\n",
       "      <td>188.0</td>\n",
       "      <td>90.0</td>\n",
       "    </tr>\n",
       "    <tr>\n",
       "      <th>205</th>\n",
       "      <td>150.0</td>\n",
       "      <td>87.0</td>\n",
       "    </tr>\n",
       "    <tr>\n",
       "      <th>112</th>\n",
       "      <td>190.0</td>\n",
       "      <td>135.0</td>\n",
       "    </tr>\n",
       "  </tbody>\n",
       "</table>\n",
       "</div>"
      ],
      "text/plain": [
       "     Height  Weight\n",
       "362   151.0   158.0\n",
       "85    198.0    50.0\n",
       "248   188.0    90.0\n",
       "205   150.0    87.0\n",
       "112   190.0   135.0"
      ]
     },
     "execution_count": 430,
     "metadata": {},
     "output_type": "execute_result"
    }
   ],
   "source": [
    "kpp_centroids(X,5)"
   ]
  },
  {
   "cell_type": "code",
   "execution_count": 423,
   "id": "3b97a7f7",
   "metadata": {},
   "outputs": [],
   "source": [
    "def get_kmeans_pp_centroids(X1,k = 5):\n",
    "    centroids = X1.sample()\n",
    "    print(centroids)\n",
    "    i = 1\n",
    "    dist = []\n",
    "    while i != k:\n",
    "        max_dist = [0,0]\n",
    "        #go through the centroids\n",
    "        for index, row in centroids.iterrows():\n",
    "            #calculate distance of every centroid with every other data point \n",
    "            d = np.sqrt((X1[\"Height\"] - row[\"Height\"])**2 +(X1[\"Weight\"] - row[\"Weight\"])**2)\n",
    "            #check which centroid has a max distance with another point\n",
    "            if max(d) > max(max_dist):\n",
    "                max_dist = d\n",
    "            \n",
    "        X1 = pd.concat([X1, max_dist], axis = 1)\n",
    "        idx = X1.iloc[:,i+1].idxmax()\n",
    "        max_coor = pd.DataFrame(X1.iloc[idx][[\"Height\", \"Weight\"]]).T\n",
    "        centroids = pd.concat([centroids,max_coor])\n",
    "        X1 = X1.drop(idx)\n",
    "        i+=1\n",
    "    return centroids"
   ]
  },
  {
   "cell_type": "code",
   "execution_count": null,
   "id": "f9357d98",
   "metadata": {},
   "outputs": [],
   "source": []
  },
  {
   "cell_type": "code",
   "execution_count": null,
   "id": "b937a1a4",
   "metadata": {},
   "outputs": [],
   "source": []
  },
  {
   "cell_type": "code",
   "execution_count": null,
   "id": "2db024c3",
   "metadata": {},
   "outputs": [],
   "source": []
  },
  {
   "cell_type": "code",
   "execution_count": null,
   "id": "feb288ff",
   "metadata": {},
   "outputs": [],
   "source": []
  }
 ],
 "metadata": {
  "kernelspec": {
   "display_name": "Python 3 (ipykernel)",
   "language": "python",
   "name": "python3"
  },
  "language_info": {
   "codemirror_mode": {
    "name": "ipython",
    "version": 3
   },
   "file_extension": ".py",
   "mimetype": "text/x-python",
   "name": "python",
   "nbconvert_exporter": "python",
   "pygments_lexer": "ipython3",
   "version": "3.9.7"
  }
 },
 "nbformat": 4,
 "nbformat_minor": 5
}
