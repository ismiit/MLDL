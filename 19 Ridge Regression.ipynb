{
 "cells": [
  {
   "cell_type": "markdown",
   "id": "3e01e6f9",
   "metadata": {},
   "source": [
    " # using *Sklearn* (2D data)"
   ]
  },
  {
   "cell_type": "code",
   "execution_count": 19,
   "id": "31e3a524",
   "metadata": {},
   "outputs": [],
   "source": [
    "import numpy as np\n",
    "import pandas as pd\n",
    "import matplotlib.pyplot as plt\n",
    "from sklearn.model_selection import train_test_split\n",
    "from sklearn.datasets import make_regression\n",
    "from sklearn.metrics import r2_score\n",
    "from sklearn.linear_model import Ridge"
   ]
  },
  {
   "cell_type": "code",
   "execution_count": 20,
   "id": "4e79b1be",
   "metadata": {},
   "outputs": [],
   "source": [
    "X , y = make_regression(n_samples=100, n_features=1, n_informative=1, n_targets=1, random_state=13, noise=20)"
   ]
  },
  {
   "cell_type": "code",
   "execution_count": 21,
   "id": "426cb58f",
   "metadata": {
    "scrolled": true
   },
   "outputs": [
    {
     "data": {
      "text/plain": [
       "<matplotlib.collections.PathCollection at 0x15ac40d5970>"
      ]
     },
     "execution_count": 21,
     "metadata": {},
     "output_type": "execute_result"
    },
    {
     "data": {
      "image/png": "[encoded data removed]",
      "text/plain": [
       "<Figure size 432x288 with 1 Axes>"
      ]
     },
     "metadata": {
      "needs_background": "light"
     },
     "output_type": "display_data"
    }
   ],
   "source": [
    "plt.scatter(X,y)"
   ]
  },
  {
   "cell_type": "code",
   "execution_count": 22,
   "id": "023843a3",
   "metadata": {},
   "outputs": [],
   "source": [
    "X_train, X_test, y_train, y_test = train_test_split(X,y,test_size=0.2, random_state=2)"
   ]
  },
  {
   "cell_type": "code",
   "execution_count": 71,
   "id": "828eeae7",
   "metadata": {},
   "outputs": [],
   "source": [
    "def ridgechecker(alpha_val):\n",
    "    lr = Ridge(alpha_val)\n",
    "    lr.fit(X_train,y_train)\n",
    "    y_pred = lr.predict(X_test)\n",
    "    print('-----using scikit learn-----')\n",
    "    print('alpha === ',alpha_val)\n",
    "    print('r2_score ::: ',r2_score(y_test,y_pred)*100)  \n",
    "    print('slope ::: ',lr.coef_)\n",
    "    print('intercept :::',lr.intercept_)"
   ]
  },
  {
   "cell_type": "code",
   "execution_count": 72,
   "id": "810c5122",
   "metadata": {},
   "outputs": [
    {
     "name": "stdout",
     "output_type": "stream",
     "text": [
      "-----using scikit learn-----\n",
      "alpha ===  0.1\n",
      "r2_score :::  63.468014107728024\n",
      "slope :::  [28.08885585]\n",
      "intercept ::: -2.269134546759879\n"
     ]
    }
   ],
   "source": [
    "ridgechecker(0.1)"
   ]
  },
  {
   "cell_type": "code",
   "execution_count": 73,
   "id": "2cc05041",
   "metadata": {},
   "outputs": [
    {
     "data": {
      "text/plain": [
       "<matplotlib.collections.PathCollection at 0x15ac417a550>"
      ]
     },
     "execution_count": 73,
     "metadata": {},
     "output_type": "execute_result"
    },
    {
     "data": {
      "image/png": "[encoded data removed]",
      "text/plain": [
       "<Figure size 432x288 with 1 Axes>"
      ]
     },
     "metadata": {
      "needs_background": "light"
     },
     "output_type": "display_data"
    }
   ],
   "source": [
    "plt.plot(X_test,lr.predict(X_test), color= 'red')\n",
    "plt.scatter(X_train,y_train)"
   ]
  },
  {
   "cell_type": "markdown",
   "id": "c5bb9840",
   "metadata": {},
   "source": [
    " # using *Formulation* (2D data)"
   ]
  },
  {
   "cell_type": "code",
   "execution_count": 74,
   "id": "236f4918",
   "metadata": {},
   "outputs": [],
   "source": [
    "class RidgeRegression:\n",
    "    \n",
    "    def __init__(self,alpha):\n",
    "        self.alp = alpha\n",
    "        self.m = 1\n",
    "        self.b = 0\n",
    "    \n",
    "    def fit(self, X_train, y_train):\n",
    "        num = 0\n",
    "        den = 0\n",
    "        X_bar = np.mean(X_train)\n",
    "        y_bar = np.mean(y_train)\n",
    "        for i in range(X_train.shape[0]):\n",
    "            num = num + ((X_train[i] - X_bar) * (y_train[i] - y_bar))\n",
    "            den = den + ((X_train[i] - X_bar) * (X_train[i] - X_bar))\n",
    "            \n",
    "        self.m = num / (den + self.alp)\n",
    "        self.b = y_bar - (self.m * X_bar)\n",
    "        \n",
    "    def predict(self, X_test):\n",
    "        y_pred = (self.m * X_test) + self.b\n",
    "        return y_pred"
   ]
  },
  {
   "cell_type": "code",
   "execution_count": 75,
   "id": "67d6fffb",
   "metadata": {},
   "outputs": [],
   "source": [
    "def ridgechecker2(alpha_val):\n",
    "    lrf = RidgeRegression(alpha_val)\n",
    "    lrf.fit(X_train, y_train)\n",
    "    y_pred = lrf.predict(X_test)\n",
    "    print('-----using formulation-----')\n",
    "    print('alpha === ',alpha_val)\n",
    "    print('r2_score ::: ',r2_score(y_test,y_pred)*100)  \n",
    "    print('slope ::: ',lrf.m)\n",
    "    print('intercept :::',lrf.b)"
   ]
  },
  {
   "cell_type": "code",
   "execution_count": 76,
   "id": "e20a23a0",
   "metadata": {},
   "outputs": [
    {
     "name": "stdout",
     "output_type": "stream",
     "text": [
      "-----using formulation-----\n",
      "alpha ===  0.1\n",
      "r2_score :::  63.468014107727996\n",
      "slope :::  [28.08885585]\n",
      "intercept ::: [-2.26913455]\n",
      "-----using scikit learn-----\n",
      "alpha ===  0.1\n",
      "r2_score :::  63.468014107728024\n",
      "slope :::  [28.08885585]\n",
      "intercept ::: -2.269134546759879\n"
     ]
    }
   ],
   "source": [
    "ridgechecker2(0.1)\n",
    "ridgechecker(0.1)"
   ]
  },
  {
   "cell_type": "markdown",
   "id": "b1cf8e6b",
   "metadata": {},
   "source": [
    " # using *Sklearn* (n-D data)"
   ]
  },
  {
   "cell_type": "code",
   "execution_count": 77,
   "id": "6539a8a4",
   "metadata": {},
   "outputs": [],
   "source": [
    "import numpy as np\n",
    "import pandas as pd\n",
    "import matplotlib.pyplot as plt\n",
    "from sklearn.model_selection import train_test_split\n",
    "from sklearn.datasets import load_diabetes\n",
    "from sklearn.metrics import r2_score\n",
    "from sklearn.linear_model import Ridge"
   ]
  },
  {
   "cell_type": "code",
   "execution_count": 78,
   "id": "a7b167f3",
   "metadata": {},
   "outputs": [],
   "source": [
    "X,y = load_diabetes(return_X_y=True) "
   ]
  },
  {
   "cell_type": "code",
   "execution_count": 89,
   "id": "4ec6dcd2",
   "metadata": {},
   "outputs": [],
   "source": [
    "X_train, X_test, y_train, y_test = train_test_split(X,y,test_size=0.2,random_state=2)"
   ]
  },
  {
   "cell_type": "code",
   "execution_count": 98,
   "id": "af8287f0",
   "metadata": {},
   "outputs": [],
   "source": [
    "def ndridgechecker(alpha_val):\n",
    "    lr = Ridge(alpha_val, solver='cholesky')\n",
    "    lr.fit(X_train,y_train)\n",
    "    y_pred = lr.predict(X_test)\n",
    "    print('-----using scikit learn-----')\n",
    "    print('alpha === ',alpha_val)\n",
    "    print('r2_score ::: ',r2_score(y_test,y_pred)*100)  \n",
    "    print('slope ::: ',lr.coef_)\n",
    "    print('intercept :::',lr.intercept_)"
   ]
  },
  {
   "cell_type": "code",
   "execution_count": 99,
   "id": "18fca576",
   "metadata": {},
   "outputs": [
    {
     "name": "stdout",
     "output_type": "stream",
     "text": [
      "-----using scikit learn-----\n",
      "alpha ===  0.1\n",
      "r2_score :::  45.19973816947851\n",
      "slope :::  [   6.64275308 -172.24216584  485.52387163  314.68212174  -72.93932312\n",
      "  -80.59005344 -174.46651489   83.61665316  484.36328537   73.58415414]\n",
      "intercept ::: 151.92548050708137\n"
     ]
    }
   ],
   "source": [
    "ndridgechecker(0.1)"
   ]
  },
  {
   "cell_type": "markdown",
   "id": "db87a0a5",
   "metadata": {},
   "source": [
    "   # using *Formulation* (n-D data)"
   ]
  },
  {
   "cell_type": "code",
   "execution_count": 114,
   "id": "1408b1d8",
   "metadata": {},
   "outputs": [],
   "source": [
    "class ndRidgeRegression:\n",
    "    \n",
    "    def __init__(self,alpha):\n",
    "        self.m = 1\n",
    "        self.b = 0\n",
    "        self.alp = alpha\n",
    "    \n",
    "    def fit(self, X_train, y_train):\n",
    "        X_train = np.insert(X_train, 0, 1, axis=1)\n",
    "        Id_mat = np.identity(X_train.shape[1])\n",
    "        Id_mat[0][0] = 0  # according to documentation the first value of identity matrix is intialised to zero\n",
    "        fxn = np.linalg.inv(np.dot(X_train.T,X_train) + (self.alp * Id_mat)).dot(X_train.T).dot(y_train)\n",
    "        self.b = fxn[0]\n",
    "        self.m = fxn[1:]\n",
    "    \n",
    "    def predict(self,X_test):\n",
    "        y_pred = np.dot( X_test,self.m ) + self.b\n",
    "        return y_pred"
   ]
  },
  {
   "cell_type": "code",
   "execution_count": 115,
   "id": "6850a1e7",
   "metadata": {},
   "outputs": [],
   "source": [
    "def ndridgechecker2(alpha_val):\n",
    "    lrf = ndRidgeRegression(alpha_val)\n",
    "    lrf.fit(X_train, y_train)\n",
    "    y_pred = lrf.predict(X_test)\n",
    "    print('-----using formulation-----')\n",
    "    print('alpha === ',alpha_val)\n",
    "    print('r2_score ::: ',r2_score(y_test,y_pred)*100)  \n",
    "    print('slope ::: ',lrf.m)\n",
    "    print('intercept :::',lrf.b)"
   ]
  },
  {
   "cell_type": "code",
   "execution_count": 116,
   "id": "7f4277e1",
   "metadata": {},
   "outputs": [
    {
     "name": "stdout",
     "output_type": "stream",
     "text": [
      "-----using formulation-----\n",
      "alpha ===  0.1\n",
      "r2_score :::  45.19973816947851\n",
      "slope :::  [   6.64275308 -172.24216584  485.52387163  314.68212174  -72.93932312\n",
      "  -80.59005344 -174.46651489   83.61665316  484.36328537   73.58415414]\n",
      "intercept ::: 151.9254805070814\n",
      "-----using scikit learn-----\n",
      "alpha ===  0.1\n",
      "r2_score :::  45.19973816947851\n",
      "slope :::  [   6.64275308 -172.24216584  485.52387163  314.68212174  -72.93932312\n",
      "  -80.59005344 -174.46651489   83.61665316  484.36328537   73.58415414]\n",
      "intercept ::: 151.92548050708137\n"
     ]
    }
   ],
   "source": [
    "ndridgechecker2(0.1)\n",
    "ndridgechecker(0.1)"
   ]
  },
  {
   "cell_type": "code",
   "execution_count": null,
   "id": "bd461e5d",
   "metadata": {},
   "outputs": [],
   "source": []
  }
 ],
 "metadata": {
  "kernelspec": {
   "display_name": "Python 3 (ipykernel)",
   "language": "python",
   "name": "python3"
  },
  "language_info": {
   "codemirror_mode": {
    "name": "ipython",
    "version": 3
   },
   "file_extension": ".py",
   "mimetype": "text/x-python",
   "name": "python",
   "nbconvert_exporter": "python",
   "pygments_lexer": "ipython3",
   "version": "3.9.7"
  }
 },
 "nbformat": 4,
 "nbformat_minor": 5
}
