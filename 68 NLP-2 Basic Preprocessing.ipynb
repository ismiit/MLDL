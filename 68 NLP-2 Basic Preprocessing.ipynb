{
 "cells": [
  {
   "cell_type": "code",
   "execution_count": 80,
   "id": "60e5ead9",
   "metadata": {},
   "outputs": [],
   "source": [
    "import nltk\n",
    "import pandas as pd\n",
    "import numpy as np\n",
    "import requests\n",
    "import string as st\n",
    "import matplotlib.pyplot as plt\n",
    "import re \n",
    "import spacy\n",
    "from textblob import TextBlob\n",
    "\n",
    "from nltk.tokenize import sent_tokenize,word_tokenize\n",
    "from nltk import pos_tag\n",
    "from nltk.corpus import stopwords\n",
    "from nltk.stem import PorterStemmer, LancasterStemmer, SnowballStemmer\n",
    "from nltk.stem import WordNetLemmatizer"
   ]
  },
  {
   "cell_type": "code",
   "execution_count": 81,
   "id": "19100939",
   "metadata": {},
   "outputs": [
    {
     "name": "stdout",
     "output_type": "stream",
     "text": [
      "<Response [200]>\n"
     ]
    }
   ],
   "source": [
    "response = requests.get('https://api.themoviedb.org/3/movie/top_rated?api_key=8265bd1679663a7ea12ac168da84d2e8&language=en-US&page=471')\n",
    "print(response)"
   ]
  },
  {
   "cell_type": "code",
   "execution_count": 82,
   "id": "74fc6d74",
   "metadata": {},
   "outputs": [
    {
     "data": {
      "text/plain": [
       "[{'adult': False,\n",
       "  'backdrop_path': '/3p7iRqn4nZLaY2Wue7nZTDPXF.jpg',\n",
       "  'genre_ids': [28, 80, 18, 53],\n",
       "  'id': 70586,\n",
       "  'original_language': 'en',\n",
       "  'original_title': 'Setup',\n",
       "  'overview': 'A group of friends plan out a detailed heist that turns deadly when one betrays the other by taking off with the goods. Taking matters into his own hands, Sonny seeks out his revenge teaming up with the most dangerous mob boss in town to get back what is rightfully his. When he finally comes face to face with his longtime friend he will be forced to make a life changing choice.',\n",
       "  'popularity': 12.858,\n",
       "  'poster_path': '/h74bol6GYG6eyXIAZVGmQBraI8c.jpg',\n",
       "  'release_date': '2011-10-17',\n",
       "  'title': 'Setup',\n",
       "  'video': False,\n",
       "  'vote_average': 5,\n",
       "  'vote_count': 341},\n",
       " {'adult': False,\n",
       "  'backdrop_path': '/jb2JDamfehPdKxJ7s1nt2VJWCJZ.jpg',\n",
       "  'genre_ids': [27],\n",
       "  'id': 14564,\n",
       "  'original_language': 'en',\n",
       "  'original_title': 'Rings',\n",
       "  'overview': 'Julia becomes worried about her boyfriend, Holt when he explores the dark urban legend of a mysterious videotape said to kill the watcher seven days after viewing. She sacrifices herself to save her boyfriend and in doing so makes a horrifying discovery: there is a \"movie within the movie\" that no one has ever seen before.',\n",
       "  'popularity': 33.735,\n",
       "  'poster_path': '/5FoczK6tDFzC9OyHiMMNIeNspek.jpg',\n",
       "  'release_date': '2017-02-01',\n",
       "  'title': 'Rings',\n",
       "  'video': False,\n",
       "  'vote_average': 5,\n",
       "  'vote_count': 2197},\n",
       " {'adult': False,\n",
       "  'backdrop_path': '/ymDpExuqGJIqJO8sje4NgK4PM3I.jpg',\n",
       "  'genre_ids': [27, 53],\n",
       "  'id': 10283,\n",
       "  'original_language': 'en',\n",
       "  'original_title': 'Friday the 13th Part VIII: Jason Takes Manhattan',\n",
       "  'overview': \"A group of students on a graduation cruise bound for Manhattan soon realize they've got a stowaway aboard the ship: serial killer Jason Voorhees.\",\n",
       "  'popularity': 34.768,\n",
       "  'poster_path': '/cLayZ5bgMfKqpEEoBg6tg88Th7W.jpg',\n",
       "  'release_date': '1989-07-28',\n",
       "  'title': 'Friday the 13th Part VIII: Jason Takes Manhattan',\n",
       "  'video': False,\n",
       "  'vote_average': 5,\n",
       "  'vote_count': 727},\n",
       " {'adult': False,\n",
       "  'backdrop_path': '/qbTelIYzMR5DzZqcoHEAnFtBqvL.jpg',\n",
       "  'genre_ids': [27],\n",
       "  'id': 297160,\n",
       "  'original_language': 'en',\n",
       "  'original_title': 'XX',\n",
       "  'overview': 'This all-female horror anthology features four dark tales from four fiercely talented women.',\n",
       "  'popularity': 9.708,\n",
       "  'poster_path': '/drcIFTEIBnWI4G3OQt6rXOI8hf4.jpg',\n",
       "  'release_date': '2017-02-17',\n",
       "  'title': 'XX',\n",
       "  'video': False,\n",
       "  'vote_average': 5,\n",
       "  'vote_count': 345},\n",
       " {'adult': False,\n",
       "  'backdrop_path': '/sJEcInnWer58nvYEbZmrx5eAQ7R.jpg',\n",
       "  'genre_ids': [53, 27, 18, 9648],\n",
       "  'id': 8968,\n",
       "  'original_language': 'en',\n",
       "  'original_title': 'Boogeyman',\n",
       "  'overview': \"Every culture has one – the horrible monster fueling young children's nightmares. But for Tim, the Boogeyman still lives in his memories as a creature that devoured his father 16 years earlier. Is the Boogeyman real? Or did Tim make him up to explain why his father abandoned his family?\",\n",
       "  'popularity': 12.211,\n",
       "  'poster_path': '/5KffN0UcuAKJdUAcOvZ21OrqXc8.jpg',\n",
       "  'release_date': '2005-02-04',\n",
       "  'title': 'Boogeyman',\n",
       "  'video': False,\n",
       "  'vote_average': 5,\n",
       "  'vote_count': 575},\n",
       " {'adult': False,\n",
       "  'backdrop_path': '/bgkaza8dqo2nuwbPkmkHfgm1KTY.jpg',\n",
       "  'genre_ids': [35, 10749],\n",
       "  'id': 13257,\n",
       "  'original_language': 'en',\n",
       "  'original_title': 'Mr. Woodcock',\n",
       "  'overview': \"Taken aback by his mother's wedding announcement, a young man returns home in an effort to stop her from marrying his old high school gym teacher, a man who made high school hell for generations of students.\",\n",
       "  'popularity': 7.933,\n",
       "  'poster_path': '/tNOovj6N2C5scr0KgND0aKT2kkd.jpg',\n",
       "  'release_date': '2007-09-14',\n",
       "  'title': 'Mr. Woodcock',\n",
       "  'video': False,\n",
       "  'vote_average': 5,\n",
       "  'vote_count': 342},\n",
       " {'adult': False,\n",
       "  'backdrop_path': '/cvapxIaJbC5f7duzu4vqP6ZLKJo.jpg',\n",
       "  'genre_ids': [27, 53],\n",
       "  'id': 299245,\n",
       "  'original_language': 'en',\n",
       "  'original_title': 'The Gallows',\n",
       "  'overview': '20 years after a horrific accident during a small town school play, students at the school resurrect the failed show in a misguided attempt to honor the anniversary of the tragedy - but soon discover that some things are better left alone.',\n",
       "  'popularity': 24.861,\n",
       "  'poster_path': '/4oBk2DsYRO0VuloOX52ROmz2QhU.jpg',\n",
       "  'release_date': '2015-07-10',\n",
       "  'title': 'The Gallows',\n",
       "  'video': False,\n",
       "  'vote_average': 5,\n",
       "  'vote_count': 805},\n",
       " {'adult': False,\n",
       "  'backdrop_path': '/obP94bLjEXGFWQumzkKlBb9Fmzi.jpg',\n",
       "  'genre_ids': [35],\n",
       "  'id': 68637,\n",
       "  'original_language': 'fr',\n",
       "  'original_title': \"L'Élève Ducobu\",\n",
       "  'overview': \"Ducoboo is a very inventive dunce and joker, he is very resourceful at finding new ways to copy from his neighbor, to cheat or to defy the teacher's authority.\",\n",
       "  'popularity': 6.841,\n",
       "  'poster_path': '/y3oAeNkThiarXvICtl5A3FGQN3N.jpg',\n",
       "  'release_date': '2011-06-22',\n",
       "  'title': 'Ducoboo',\n",
       "  'video': False,\n",
       "  'vote_average': 4.9,\n",
       "  'vote_count': 346},\n",
       " {'adult': False,\n",
       "  'backdrop_path': '/ew0fG39bgaF2HkXcJZ2xITwjJQ8.jpg',\n",
       "  'genre_ids': [27, 53],\n",
       "  'id': 42941,\n",
       "  'original_language': 'en',\n",
       "  'original_title': '30 Days of Night: Dark Days',\n",
       "  'overview': 'After surviving the incidents in Barrow, Alaska, Stella Olemaun relocates to Los Angeles, where she intentionally attracts the attention of the local vampire population in order to avenge the death of her husband, Eben.',\n",
       "  'popularity': 22.974,\n",
       "  'poster_path': '/bXHaXVGncI2WKUrNRYDyTyj3ymR.jpg',\n",
       "  'release_date': '2010-10-04',\n",
       "  'title': '30 Days of Night: Dark Days',\n",
       "  'video': False,\n",
       "  'vote_average': 4.9,\n",
       "  'vote_count': 380},\n",
       " {'adult': False,\n",
       "  'backdrop_path': '/c4BuO90Sat7DidhrPm4PQLuqJtC.jpg',\n",
       "  'genre_ids': [12, 35],\n",
       "  'id': 33624,\n",
       "  'original_language': 'fr',\n",
       "  'original_title': 'Double zéro',\n",
       "  'overview': 'Ben and Bill are the two worst, completely useless agents - real losers. But who else would you send on a super-difficult top-secret mission? The French have just sold a new high-power M51 rocket to the Russians for crazy money. Unfortunately for them, the rocket was hijacked before they could get it of their hands. However, not just any fool is up to neutralizing this threat, but only the craziest and most stupid of them can cope with such a task.',\n",
       "  'popularity': 9.757,\n",
       "  'poster_path': '/vCPKGHTiuxg3y7JsWfN0ScoWAQ4.jpg',\n",
       "  'release_date': '2004-06-16',\n",
       "  'title': 'Double zéro',\n",
       "  'video': False,\n",
       "  'vote_average': 4.9,\n",
       "  'vote_count': 245},\n",
       " {'adult': False,\n",
       "  'backdrop_path': '/u4QBchp2LtJBc9LJdn210T76pHO.jpg',\n",
       "  'genre_ids': [12, 27, 9648, 53],\n",
       "  'id': 185460,\n",
       "  'original_language': 'en',\n",
       "  'original_title': 'Willow Creek',\n",
       "  'overview': 'A young couple ventures into the woods to capture footage of the elusive Bigfoot.',\n",
       "  'popularity': 9.582,\n",
       "  'poster_path': '/8pP4tEeM7R6G4MSyxhFblwCja1P.jpg',\n",
       "  'release_date': '2013-05-02',\n",
       "  'title': 'Willow Creek',\n",
       "  'video': False,\n",
       "  'vote_average': 4.9,\n",
       "  'vote_count': 227},\n",
       " {'adult': False,\n",
       "  'backdrop_path': '/jyzuK6OgWzibgAblJzxANUHSZ2x.jpg',\n",
       "  'genre_ids': [28, 12, 35, 10751, 14, 878],\n",
       "  'id': 14623,\n",
       "  'original_language': 'en',\n",
       "  'original_title': 'Thunderbirds',\n",
       "  'overview': \"Dangerous missions are the bread and butter of the Thunderbirds, a high-tech secret force employed by the government. Led by Jeff Tracy (Bill Paxton), the Thunderbirds are at the top of their game, but their nemesis, The Hood (Ben Kingsley), has landed on their island and is attempting a coup by using the team's rescue vehicles. He'll soon discover that the Thunderbirds won't go down.\",\n",
       "  'popularity': 13.368,\n",
       "  'poster_path': '/1jH0vADEIvuRlkvJzLUW5nVO96d.jpg',\n",
       "  'release_date': '2004-07-23',\n",
       "  'title': 'Thunderbirds',\n",
       "  'video': False,\n",
       "  'vote_average': 4.9,\n",
       "  'vote_count': 234},\n",
       " {'adult': False,\n",
       "  'backdrop_path': '/fDLV4j53M7tVipbKZdJD1weibGi.jpg',\n",
       "  'genre_ids': [28, 53],\n",
       "  'id': 3177,\n",
       "  'original_language': 'ja',\n",
       "  'original_title': 'バトル・ロワイアルII 鎮魂歌',\n",
       "  'overview': 'It\\'s three years after the events of the original Battle Royale, and Shuya Nanahara is now an internationally-known terrorist determined to bring down the government. His terrorist group, Wild Seven, stages an attack that levels several buildings in Tokyo on Christmas Day, killing 8000 people. In order for the government to study the benefits of \"teamwork\", the new students work in pairs, with their collars electronically linked so that if one of them is killed, the other dies as well. They must kill Nanahara in three days - or die.',\n",
       "  'popularity': 12.091,\n",
       "  'poster_path': '/jLGtajjV1SAGqNtHrfaB09SrkBX.jpg',\n",
       "  'release_date': '2003-07-05',\n",
       "  'title': 'Battle Royale II: Requiem',\n",
       "  'video': False,\n",
       "  'vote_average': 4.9,\n",
       "  'vote_count': 334},\n",
       " {'adult': False,\n",
       "  'backdrop_path': '/M1w7Uk6Bs4sCXqEqsVFMZc200E.jpg',\n",
       "  'genre_ids': [53, 28, 878],\n",
       "  'id': 269173,\n",
       "  'original_language': 'en',\n",
       "  'original_title': 'The Anomaly',\n",
       "  'overview': 'A former soldier is taken captive and awakens in the back of a van where he learns that he only has less than 10 minutes to figure out how he got there.',\n",
       "  'popularity': 21.683,\n",
       "  'poster_path': '/zqeHMxO2UZmrRiRJLLxyGog3PdC.jpg',\n",
       "  'release_date': '2014-06-19',\n",
       "  'title': 'The Anomaly',\n",
       "  'video': False,\n",
       "  'vote_average': 4.9,\n",
       "  'vote_count': 273},\n",
       " {'adult': False,\n",
       "  'backdrop_path': '/9yL5iOq5sLZdZOemXvSLBIw3elj.jpg',\n",
       "  'genre_ids': [27, 53, 9648],\n",
       "  'id': 11246,\n",
       "  'original_language': 'en',\n",
       "  'original_title': 'Hellraiser: Hellseeker',\n",
       "  'overview': \"Kirsty Cotten is now all grown up and married. Her memory of the events that took place back at her parent's home and the mental institution have dimmed, but she is still traumatized. A fatal car crash kills Kirsty. Now, her husband finds himself in a strange world full of sexy women, greed and murder, making him believe that he is in hell.\",\n",
       "  'popularity': 15.141,\n",
       "  'poster_path': '/c0rgSl2d6j0dL10OM0zKXm6a8Dk.jpg',\n",
       "  'release_date': '2002-10-15',\n",
       "  'title': 'Hellraiser: Hellseeker',\n",
       "  'video': False,\n",
       "  'vote_average': 4.9,\n",
       "  'vote_count': 229},\n",
       " {'adult': False,\n",
       "  'backdrop_path': '/3ZSgAF7SfJp96sqyKnBb1R6aAK2.jpg',\n",
       "  'genre_ids': [35, 10749],\n",
       "  'id': 2830,\n",
       "  'original_language': 'en',\n",
       "  'original_title': \"My Boss's Daughter\",\n",
       "  'overview': \"When a young man agrees to housesit for his boss, he thinks it'll be the perfect opportunity to get close to the woman he desperately has a crush on – his boss's daughter. But he doesn't plan on the long line of other houseguests that try to keep him from his mission. And he also has to deal with the daughter's older brother, who's on the run from local drug dealers.\",\n",
       "  'popularity': 11.26,\n",
       "  'poster_path': '/eZsFXr3m0shC5HH7SRlZouiuQVH.jpg',\n",
       "  'release_date': '2003-08-21',\n",
       "  'title': \"My Boss's Daughter\",\n",
       "  'video': False,\n",
       "  'vote_average': 4.9,\n",
       "  'vote_count': 560},\n",
       " {'adult': False,\n",
       "  'backdrop_path': '/p2Zdt99YSZsQumY1HYZBF1PXbKI.jpg',\n",
       "  'genre_ids': [878, 27, 14, 53],\n",
       "  'id': 10384,\n",
       "  'original_language': 'en',\n",
       "  'original_title': 'Supernova',\n",
       "  'overview': 'Set in the 22nd century, when a battered salvage ship sends out a distress signal, the seasoned crew of the rescue hospital ship Nova-17 responds. What they find is a black hole--that threatens to destroy both ships--and a mysterious survivor whose body quickly mutates into a monstrous and deadly form.',\n",
       "  'popularity': 17.359,\n",
       "  'poster_path': '/AmHGUjhgXnOYRYrF2ZYMtzfwxPe.jpg',\n",
       "  'release_date': '2000-01-14',\n",
       "  'title': 'Supernova',\n",
       "  'video': False,\n",
       "  'vote_average': 4.9,\n",
       "  'vote_count': 273},\n",
       " {'adult': False,\n",
       "  'backdrop_path': '/kNGW6f47HUk0hISjj1AvXoLNL3L.jpg',\n",
       "  'genre_ids': [28, 878, 27, 9648],\n",
       "  'id': 520901,\n",
       "  'original_language': 'en',\n",
       "  'original_title': 'Doom: Annihilation',\n",
       "  'overview': \"A group of UAC Marines responds to a distress call from a top-secret scientific base on Phobos, a Martian moon, only to discover it's been overrun by demons.\",\n",
       "  'popularity': 27.854,\n",
       "  'poster_path': '/7EGElXVSNnqcPjuhXPd6UVUX1rD.jpg',\n",
       "  'release_date': '2019-09-30',\n",
       "  'title': 'Doom: Annihilation',\n",
       "  'video': False,\n",
       "  'vote_average': 4.9,\n",
       "  'vote_count': 295},\n",
       " {'adult': False,\n",
       "  'backdrop_path': '/AwWMcB5lFPLe8nZVXrBqPdHQ26.jpg',\n",
       "  'genre_ids': [10751, 35, 14],\n",
       "  'id': 35169,\n",
       "  'original_language': 'en',\n",
       "  'original_title': 'Furry Vengeance',\n",
       "  'overview': 'When real estate developer Dan Sanders finalizes plans to level a swath of pristine Oregon forest to make way for a soulless housing subdivision, a band of woodland creatures rises up to throw a monkey wrench into the greedy scheme. Just how much mischief from the furry critters can the businessman take before he calls it quits?',\n",
       "  'popularity': 12.542,\n",
       "  'poster_path': '/vR8BBTRxU2xu0FvrTTio8CvCwi3.jpg',\n",
       "  'release_date': '2010-04-02',\n",
       "  'title': 'Furry Vengeance',\n",
       "  'video': False,\n",
       "  'vote_average': 4.9,\n",
       "  'vote_count': 481},\n",
       " {'adult': False,\n",
       "  'backdrop_path': '/cGUxPXVZF5n5P09dnlhWC8bLVp7.jpg',\n",
       "  'genre_ids': [18, 53],\n",
       "  'id': 505225,\n",
       "  'original_language': 'en',\n",
       "  'original_title': 'The Last Thing He Wanted',\n",
       "  'overview': 'At the turning point of the Iran-Contra affair, Elena McMahon, a fearless investigative journalist covering the 1984 US presidential campaign, puts herself in danger when she abandons her assigned task in order to fulfill the last wish of her ailing father, a mysterious man whose past activities she barely knows.',\n",
       "  'popularity': 16.503,\n",
       "  'poster_path': '/gItrnbEbMBbUrdIkFz8kgS2gkt.jpg',\n",
       "  'release_date': '2020-02-14',\n",
       "  'title': 'The Last Thing He Wanted',\n",
       "  'video': False,\n",
       "  'vote_average': 4.9,\n",
       "  'vote_count': 385}]"
      ]
     },
     "execution_count": 82,
     "metadata": {},
     "output_type": "execute_result"
    }
   ],
   "source": [
    "response.json()['results']"
   ]
  },
  {
   "cell_type": "code",
   "execution_count": 83,
   "id": "3559353c",
   "metadata": {},
   "outputs": [],
   "source": [
    "data1 = pd.DataFrame()"
   ]
  },
  {
   "cell_type": "code",
   "execution_count": 84,
   "id": "46b3fadb",
   "metadata": {},
   "outputs": [],
   "source": [
    "for i in range(1,486):\n",
    "    response = requests.get('https://api.themoviedb.org/3/movie/top_rated?api_key=8265bd1679663a7ea12ac168da84d2e8&language=en-US&page={}'.format(i))\n",
    "    temp_df = response.json()['results']\n",
    "    data1 = data1.append(temp_df,ignore_index=True)"
   ]
  },
  {
   "cell_type": "code",
   "execution_count": 85,
   "id": "be540282",
   "metadata": {},
   "outputs": [
    {
     "data": {
      "text/plain": [
       "(9684, 14)"
      ]
     },
     "execution_count": 85,
     "metadata": {},
     "output_type": "execute_result"
    }
   ],
   "source": [
    "data1.shape"
   ]
  },
  {
   "cell_type": "code",
   "execution_count": 86,
   "id": "e3851697",
   "metadata": {},
   "outputs": [
    {
     "data": {
      "text/html": [
       "<div>\n",
       "<style scoped>\n",
       "    .dataframe tbody tr th:only-of-type {\n",
       "        vertical-align: middle;\n",
       "    }\n",
       "\n",
       "    .dataframe tbody tr th {\n",
       "        vertical-align: top;\n",
       "    }\n",
       "\n",
       "    .dataframe thead th {\n",
       "        text-align: right;\n",
       "    }\n",
       "</style>\n",
       "<table border=\"1\" class=\"dataframe\">\n",
       "  <thead>\n",
       "    <tr style=\"text-align: right;\">\n",
       "      <th></th>\n",
       "      <th>adult</th>\n",
       "      <th>backdrop_path</th>\n",
       "      <th>genre_ids</th>\n",
       "      <th>id</th>\n",
       "      <th>original_language</th>\n",
       "      <th>original_title</th>\n",
       "      <th>overview</th>\n",
       "      <th>popularity</th>\n",
       "      <th>poster_path</th>\n",
       "      <th>release_date</th>\n",
       "      <th>title</th>\n",
       "      <th>video</th>\n",
       "      <th>vote_average</th>\n",
       "      <th>vote_count</th>\n",
       "    </tr>\n",
       "  </thead>\n",
       "  <tbody>\n",
       "    <tr>\n",
       "      <th>0</th>\n",
       "      <td>False</td>\n",
       "      <td>/5hNcsnMkwU2LknLoru73c76el3z.jpg</td>\n",
       "      <td>[35, 18, 10749]</td>\n",
       "      <td>19404</td>\n",
       "      <td>hi</td>\n",
       "      <td>दिलवाले दुल्हनिया ले जायेंगे</td>\n",
       "      <td>Raj is a rich, carefree, happy-go-lucky second...</td>\n",
       "      <td>29.869</td>\n",
       "      <td>/2CAL2433ZeIihfX1Hb2139CX0pW.jpg</td>\n",
       "      <td>1995-10-20</td>\n",
       "      <td>Dilwale Dulhania Le Jayenge</td>\n",
       "      <td>False</td>\n",
       "      <td>8.7</td>\n",
       "      <td>3441</td>\n",
       "    </tr>\n",
       "    <tr>\n",
       "      <th>1</th>\n",
       "      <td>False</td>\n",
       "      <td>/wPU78OPN4BYEgWYdXyg0phMee64.jpg</td>\n",
       "      <td>[18, 80]</td>\n",
       "      <td>278</td>\n",
       "      <td>en</td>\n",
       "      <td>The Shawshank Redemption</td>\n",
       "      <td>Framed in the 1940s for the double murder of h...</td>\n",
       "      <td>83.153</td>\n",
       "      <td>/q6y0Go1tsGEsmtFryDOJo3dEmqu.jpg</td>\n",
       "      <td>1994-09-23</td>\n",
       "      <td>The Shawshank Redemption</td>\n",
       "      <td>False</td>\n",
       "      <td>8.7</td>\n",
       "      <td>20823</td>\n",
       "    </tr>\n",
       "    <tr>\n",
       "      <th>2</th>\n",
       "      <td>False</td>\n",
       "      <td>/rSPw7tgCH9c6NqICZef4kZjFOQ5.jpg</td>\n",
       "      <td>[18, 80]</td>\n",
       "      <td>238</td>\n",
       "      <td>en</td>\n",
       "      <td>The Godfather</td>\n",
       "      <td>Spanning the years 1945 to 1955, a chronicle o...</td>\n",
       "      <td>91.658</td>\n",
       "      <td>/eEslKSwcqmiNS6va24Pbxf2UKmJ.jpg</td>\n",
       "      <td>1972-03-14</td>\n",
       "      <td>The Godfather</td>\n",
       "      <td>False</td>\n",
       "      <td>8.7</td>\n",
       "      <td>15538</td>\n",
       "    </tr>\n",
       "    <tr>\n",
       "      <th>3</th>\n",
       "      <td>False</td>\n",
       "      <td>/v5CEt88iDsuoMaW1Q5Msu9UZdEt.jpg</td>\n",
       "      <td>[10749, 18]</td>\n",
       "      <td>730154</td>\n",
       "      <td>ja</td>\n",
       "      <td>きみの瞳が問いかけている</td>\n",
       "      <td>A tragic accident lead to Kaori's blindness, b...</td>\n",
       "      <td>13.026</td>\n",
       "      <td>/cVn8E3Fxbi8HzYYtaSfsblYC4gl.jpg</td>\n",
       "      <td>2020-10-23</td>\n",
       "      <td>Your Eyes Tell</td>\n",
       "      <td>False</td>\n",
       "      <td>8.7</td>\n",
       "      <td>246</td>\n",
       "    </tr>\n",
       "    <tr>\n",
       "      <th>4</th>\n",
       "      <td>False</td>\n",
       "      <td>/loRmRzQXZeqG78TqZuyvSlEQfZb.jpg</td>\n",
       "      <td>[18, 36, 10752]</td>\n",
       "      <td>424</td>\n",
       "      <td>en</td>\n",
       "      <td>Schindler's List</td>\n",
       "      <td>The true story of how businessman Oskar Schind...</td>\n",
       "      <td>54.173</td>\n",
       "      <td>/sF1U4EUQS8YHUYjNl3pMGNIQyr0.jpg</td>\n",
       "      <td>1993-11-30</td>\n",
       "      <td>Schindler's List</td>\n",
       "      <td>False</td>\n",
       "      <td>8.6</td>\n",
       "      <td>12423</td>\n",
       "    </tr>\n",
       "  </tbody>\n",
       "</table>\n",
       "</div>"
      ],
      "text/plain": [
       "   adult                     backdrop_path        genre_ids      id  \\\n",
       "0  False  /5hNcsnMkwU2LknLoru73c76el3z.jpg  [35, 18, 10749]   19404   \n",
       "1  False  /wPU78OPN4BYEgWYdXyg0phMee64.jpg         [18, 80]     278   \n",
       "2  False  /rSPw7tgCH9c6NqICZef4kZjFOQ5.jpg         [18, 80]     238   \n",
       "3  False  /v5CEt88iDsuoMaW1Q5Msu9UZdEt.jpg      [10749, 18]  730154   \n",
       "4  False  /loRmRzQXZeqG78TqZuyvSlEQfZb.jpg  [18, 36, 10752]     424   \n",
       "\n",
       "  original_language                original_title  \\\n",
       "0                hi  दिलवाले दुल्हनिया ले जायेंगे   \n",
       "1                en      The Shawshank Redemption   \n",
       "2                en                 The Godfather   \n",
       "3                ja                  きみの瞳が問いかけている   \n",
       "4                en              Schindler's List   \n",
       "\n",
       "                                            overview  popularity  \\\n",
       "0  Raj is a rich, carefree, happy-go-lucky second...      29.869   \n",
       "1  Framed in the 1940s for the double murder of h...      83.153   \n",
       "2  Spanning the years 1945 to 1955, a chronicle o...      91.658   \n",
       "3  A tragic accident lead to Kaori's blindness, b...      13.026   \n",
       "4  The true story of how businessman Oskar Schind...      54.173   \n",
       "\n",
       "                        poster_path release_date                        title  \\\n",
       "0  /2CAL2433ZeIihfX1Hb2139CX0pW.jpg   1995-10-20  Dilwale Dulhania Le Jayenge   \n",
       "1  /q6y0Go1tsGEsmtFryDOJo3dEmqu.jpg   1994-09-23     The Shawshank Redemption   \n",
       "2  /eEslKSwcqmiNS6va24Pbxf2UKmJ.jpg   1972-03-14                The Godfather   \n",
       "3  /cVn8E3Fxbi8HzYYtaSfsblYC4gl.jpg   2020-10-23               Your Eyes Tell   \n",
       "4  /sF1U4EUQS8YHUYjNl3pMGNIQyr0.jpg   1993-11-30             Schindler's List   \n",
       "\n",
       "   video  vote_average  vote_count  \n",
       "0  False           8.7        3441  \n",
       "1  False           8.7       20823  \n",
       "2  False           8.7       15538  \n",
       "3  False           8.7         246  \n",
       "4  False           8.6       12423  "
      ]
     },
     "execution_count": 86,
     "metadata": {},
     "output_type": "execute_result"
    }
   ],
   "source": [
    "data1.head()"
   ]
  },
  {
   "cell_type": "code",
   "execution_count": 87,
   "id": "ecf11788",
   "metadata": {},
   "outputs": [
    {
     "data": {
      "text/plain": [
       "Index(['adult', 'backdrop_path', 'genre_ids', 'id', 'original_language',\n",
       "       'original_title', 'overview', 'popularity', 'poster_path',\n",
       "       'release_date', 'title', 'video', 'vote_average', 'vote_count'],\n",
       "      dtype='object')"
      ]
     },
     "execution_count": 87,
     "metadata": {},
     "output_type": "execute_result"
    }
   ],
   "source": [
    "data1.columns"
   ]
  },
  {
   "cell_type": "code",
   "execution_count": 88,
   "id": "338da05e",
   "metadata": {},
   "outputs": [],
   "source": [
    "data1.drop(['adult', 'backdrop_path', 'original_language','original_title', 'popularity', 'poster_path',\n",
    "       'release_date', 'video'], inplace=True,axis=1)"
   ]
  },
  {
   "cell_type": "code",
   "execution_count": 89,
   "id": "45b97037",
   "metadata": {},
   "outputs": [],
   "source": [
    "backup = pd.DataFrame()\n",
    "backup = data1.copy()"
   ]
  },
  {
   "cell_type": "code",
   "execution_count": 90,
   "id": "4e353edb",
   "metadata": {},
   "outputs": [],
   "source": [
    "backup.to_csv('data/movie_genre.csv', index=False)"
   ]
  },
  {
   "cell_type": "code",
   "execution_count": 112,
   "id": "2bcbd4a9",
   "metadata": {},
   "outputs": [
    {
     "data": {
      "text/plain": [
       "genre_ids        object\n",
       "id                int64\n",
       "overview         object\n",
       "title            object\n",
       "vote_average    float64\n",
       "vote_count        int64\n",
       "dtype: object"
      ]
     },
     "execution_count": 112,
     "metadata": {},
     "output_type": "execute_result"
    }
   ],
   "source": [
    "data1 = pd.read_csv('data/movie_genre.csv')\n",
    "data1.dtypes"
   ]
  },
  {
   "cell_type": "code",
   "execution_count": 92,
   "id": "0087fdc7",
   "metadata": {},
   "outputs": [
    {
     "data": {
      "text/html": [
       "<div>\n",
       "<style scoped>\n",
       "    .dataframe tbody tr th:only-of-type {\n",
       "        vertical-align: middle;\n",
       "    }\n",
       "\n",
       "    .dataframe tbody tr th {\n",
       "        vertical-align: top;\n",
       "    }\n",
       "\n",
       "    .dataframe thead th {\n",
       "        text-align: right;\n",
       "    }\n",
       "</style>\n",
       "<table border=\"1\" class=\"dataframe\">\n",
       "  <thead>\n",
       "    <tr style=\"text-align: right;\">\n",
       "      <th></th>\n",
       "      <th>genre_ids</th>\n",
       "      <th>id</th>\n",
       "      <th>overview</th>\n",
       "      <th>title</th>\n",
       "      <th>vote_average</th>\n",
       "      <th>vote_count</th>\n",
       "    </tr>\n",
       "  </thead>\n",
       "  <tbody>\n",
       "    <tr>\n",
       "      <th>0</th>\n",
       "      <td>[35, 18, 10749]</td>\n",
       "      <td>19404</td>\n",
       "      <td>Raj is a rich, carefree, happy-go-lucky second...</td>\n",
       "      <td>Dilwale Dulhania Le Jayenge</td>\n",
       "      <td>8.7</td>\n",
       "      <td>3441</td>\n",
       "    </tr>\n",
       "    <tr>\n",
       "      <th>1</th>\n",
       "      <td>[18, 80]</td>\n",
       "      <td>278</td>\n",
       "      <td>Framed in the 1940s for the double murder of h...</td>\n",
       "      <td>The Shawshank Redemption</td>\n",
       "      <td>8.7</td>\n",
       "      <td>20823</td>\n",
       "    </tr>\n",
       "    <tr>\n",
       "      <th>2</th>\n",
       "      <td>[18, 80]</td>\n",
       "      <td>238</td>\n",
       "      <td>Spanning the years 1945 to 1955, a chronicle o...</td>\n",
       "      <td>The Godfather</td>\n",
       "      <td>8.7</td>\n",
       "      <td>15538</td>\n",
       "    </tr>\n",
       "    <tr>\n",
       "      <th>3</th>\n",
       "      <td>[10749, 18]</td>\n",
       "      <td>730154</td>\n",
       "      <td>A tragic accident lead to Kaori's blindness, b...</td>\n",
       "      <td>Your Eyes Tell</td>\n",
       "      <td>8.7</td>\n",
       "      <td>246</td>\n",
       "    </tr>\n",
       "    <tr>\n",
       "      <th>4</th>\n",
       "      <td>[18, 36, 10752]</td>\n",
       "      <td>424</td>\n",
       "      <td>The true story of how businessman Oskar Schind...</td>\n",
       "      <td>Schindler's List</td>\n",
       "      <td>8.6</td>\n",
       "      <td>12423</td>\n",
       "    </tr>\n",
       "  </tbody>\n",
       "</table>\n",
       "</div>"
      ],
      "text/plain": [
       "         genre_ids      id                                           overview  \\\n",
       "0  [35, 18, 10749]   19404  Raj is a rich, carefree, happy-go-lucky second...   \n",
       "1         [18, 80]     278  Framed in the 1940s for the double murder of h...   \n",
       "2         [18, 80]     238  Spanning the years 1945 to 1955, a chronicle o...   \n",
       "3      [10749, 18]  730154  A tragic accident lead to Kaori's blindness, b...   \n",
       "4  [18, 36, 10752]     424  The true story of how businessman Oskar Schind...   \n",
       "\n",
       "                         title  vote_average  vote_count  \n",
       "0  Dilwale Dulhania Le Jayenge           8.7        3441  \n",
       "1     The Shawshank Redemption           8.7       20823  \n",
       "2                The Godfather           8.7       15538  \n",
       "3               Your Eyes Tell           8.7         246  \n",
       "4             Schindler's List           8.6       12423  "
      ]
     },
     "execution_count": 92,
     "metadata": {},
     "output_type": "execute_result"
    }
   ],
   "source": [
    "data1.head()"
   ]
  },
  {
   "cell_type": "code",
   "execution_count": 93,
   "id": "f4b1a3a1",
   "metadata": {},
   "outputs": [
    {
     "data": {
      "text/plain": [
       "<Response [200]>"
      ]
     },
     "execution_count": 93,
     "metadata": {},
     "output_type": "execute_result"
    }
   ],
   "source": [
    "response2 = requests.get('https://api.themoviedb.org/3/genre/movie/list?api_key=8265bd1679663a7ea12ac168da84d2e8&language=en-US')\n",
    "response2"
   ]
  },
  {
   "cell_type": "code",
   "execution_count": 94,
   "id": "1786c208",
   "metadata": {},
   "outputs": [],
   "source": [
    "data2 = response2.json()['genres']"
   ]
  },
  {
   "cell_type": "code",
   "execution_count": 95,
   "id": "42afbb5d",
   "metadata": {},
   "outputs": [],
   "source": [
    "data2 = pd.DataFrame(data2)"
   ]
  },
  {
   "cell_type": "code",
   "execution_count": 96,
   "id": "787c19ff",
   "metadata": {},
   "outputs": [
    {
     "data": {
      "text/html": [
       "<div>\n",
       "<style scoped>\n",
       "    .dataframe tbody tr th:only-of-type {\n",
       "        vertical-align: middle;\n",
       "    }\n",
       "\n",
       "    .dataframe tbody tr th {\n",
       "        vertical-align: top;\n",
       "    }\n",
       "\n",
       "    .dataframe thead th {\n",
       "        text-align: right;\n",
       "    }\n",
       "</style>\n",
       "<table border=\"1\" class=\"dataframe\">\n",
       "  <thead>\n",
       "    <tr style=\"text-align: right;\">\n",
       "      <th></th>\n",
       "      <th>id</th>\n",
       "      <th>name</th>\n",
       "    </tr>\n",
       "  </thead>\n",
       "  <tbody>\n",
       "    <tr>\n",
       "      <th>0</th>\n",
       "      <td>28</td>\n",
       "      <td>Action</td>\n",
       "    </tr>\n",
       "    <tr>\n",
       "      <th>1</th>\n",
       "      <td>12</td>\n",
       "      <td>Adventure</td>\n",
       "    </tr>\n",
       "    <tr>\n",
       "      <th>2</th>\n",
       "      <td>16</td>\n",
       "      <td>Animation</td>\n",
       "    </tr>\n",
       "    <tr>\n",
       "      <th>3</th>\n",
       "      <td>35</td>\n",
       "      <td>Comedy</td>\n",
       "    </tr>\n",
       "    <tr>\n",
       "      <th>4</th>\n",
       "      <td>80</td>\n",
       "      <td>Crime</td>\n",
       "    </tr>\n",
       "  </tbody>\n",
       "</table>\n",
       "</div>"
      ],
      "text/plain": [
       "   id       name\n",
       "0  28     Action\n",
       "1  12  Adventure\n",
       "2  16  Animation\n",
       "3  35     Comedy\n",
       "4  80      Crime"
      ]
     },
     "execution_count": 96,
     "metadata": {},
     "output_type": "execute_result"
    }
   ],
   "source": [
    "data2.head()"
   ]
  },
  {
   "cell_type": "code",
   "execution_count": 97,
   "id": "15334caa",
   "metadata": {},
   "outputs": [
    {
     "data": {
      "text/plain": [
       "(9684, 6)"
      ]
     },
     "execution_count": 97,
     "metadata": {},
     "output_type": "execute_result"
    }
   ],
   "source": [
    "data1.shape"
   ]
  },
  {
   "cell_type": "markdown",
   "id": "d50e58c1",
   "metadata": {},
   "source": [
    "# LowerCase"
   ]
  },
  {
   "cell_type": "code",
   "execution_count": 103,
   "id": "183d83e1",
   "metadata": {},
   "outputs": [],
   "source": [
    "data1['overview'] = data1['overview'].str.lower()"
   ]
  },
  {
   "cell_type": "code",
   "execution_count": 104,
   "id": "4ac66029",
   "metadata": {},
   "outputs": [
    {
     "data": {
      "text/html": [
       "<div>\n",
       "<style scoped>\n",
       "    .dataframe tbody tr th:only-of-type {\n",
       "        vertical-align: middle;\n",
       "    }\n",
       "\n",
       "    .dataframe tbody tr th {\n",
       "        vertical-align: top;\n",
       "    }\n",
       "\n",
       "    .dataframe thead th {\n",
       "        text-align: right;\n",
       "    }\n",
       "</style>\n",
       "<table border=\"1\" class=\"dataframe\">\n",
       "  <thead>\n",
       "    <tr style=\"text-align: right;\">\n",
       "      <th></th>\n",
       "      <th>genre_ids</th>\n",
       "      <th>id</th>\n",
       "      <th>overview</th>\n",
       "      <th>title</th>\n",
       "      <th>vote_average</th>\n",
       "      <th>vote_count</th>\n",
       "    </tr>\n",
       "  </thead>\n",
       "  <tbody>\n",
       "    <tr>\n",
       "      <th>0</th>\n",
       "      <td>[35, 18, 10749]</td>\n",
       "      <td>19404</td>\n",
       "      <td>raj is a rich, carefree, happy-go-lucky second...</td>\n",
       "      <td>Dilwale Dulhania Le Jayenge</td>\n",
       "      <td>8.7</td>\n",
       "      <td>3441</td>\n",
       "    </tr>\n",
       "    <tr>\n",
       "      <th>1</th>\n",
       "      <td>[18, 80]</td>\n",
       "      <td>278</td>\n",
       "      <td>framed in the 1940s for the double murder of h...</td>\n",
       "      <td>The Shawshank Redemption</td>\n",
       "      <td>8.7</td>\n",
       "      <td>20823</td>\n",
       "    </tr>\n",
       "    <tr>\n",
       "      <th>2</th>\n",
       "      <td>[18, 80]</td>\n",
       "      <td>238</td>\n",
       "      <td>spanning the years 1945 to 1955, a chronicle o...</td>\n",
       "      <td>The Godfather</td>\n",
       "      <td>8.7</td>\n",
       "      <td>15538</td>\n",
       "    </tr>\n",
       "    <tr>\n",
       "      <th>3</th>\n",
       "      <td>[10749, 18]</td>\n",
       "      <td>730154</td>\n",
       "      <td>a tragic accident lead to kaori's blindness, b...</td>\n",
       "      <td>Your Eyes Tell</td>\n",
       "      <td>8.7</td>\n",
       "      <td>246</td>\n",
       "    </tr>\n",
       "    <tr>\n",
       "      <th>4</th>\n",
       "      <td>[18, 36, 10752]</td>\n",
       "      <td>424</td>\n",
       "      <td>the true story of how businessman oskar schind...</td>\n",
       "      <td>Schindler's List</td>\n",
       "      <td>8.6</td>\n",
       "      <td>12423</td>\n",
       "    </tr>\n",
       "  </tbody>\n",
       "</table>\n",
       "</div>"
      ],
      "text/plain": [
       "         genre_ids      id                                           overview  \\\n",
       "0  [35, 18, 10749]   19404  raj is a rich, carefree, happy-go-lucky second...   \n",
       "1         [18, 80]     278  framed in the 1940s for the double murder of h...   \n",
       "2         [18, 80]     238  spanning the years 1945 to 1955, a chronicle o...   \n",
       "3      [10749, 18]  730154  a tragic accident lead to kaori's blindness, b...   \n",
       "4  [18, 36, 10752]     424  the true story of how businessman oskar schind...   \n",
       "\n",
       "                         title  vote_average  vote_count  \n",
       "0  Dilwale Dulhania Le Jayenge           8.7        3441  \n",
       "1     The Shawshank Redemption           8.7       20823  \n",
       "2                The Godfather           8.7       15538  \n",
       "3               Your Eyes Tell           8.7         246  \n",
       "4             Schindler's List           8.6       12423  "
      ]
     },
     "execution_count": 104,
     "metadata": {},
     "output_type": "execute_result"
    }
   ],
   "source": [
    "data1.head()"
   ]
  },
  {
   "cell_type": "markdown",
   "id": "63dc51ae",
   "metadata": {},
   "source": [
    "# Html Tags Removal"
   ]
  },
  {
   "cell_type": "code",
   "execution_count": 113,
   "id": "8ed41a00",
   "metadata": {},
   "outputs": [],
   "source": [
    "data1['overview'] = str(data1['overview'])"
   ]
  },
  {
   "cell_type": "code",
   "execution_count": 115,
   "id": "1b8e8e29",
   "metadata": {},
   "outputs": [
    {
     "data": {
      "text/plain": [
       "0       0       Raj is a rich, carefree, happy-go-luck...\n",
       "1       0       Raj is a rich, carefree, happy-go-luck...\n",
       "2       0       Raj is a rich, carefree, happy-go-luck...\n",
       "3       0       Raj is a rich, carefree, happy-go-luck...\n",
       "4       0       Raj is a rich, carefree, happy-go-luck...\n",
       "                              ...                        \n",
       "9679    0       Raj is a rich, carefree, happy-go-luck...\n",
       "9680    0       Raj is a rich, carefree, happy-go-luck...\n",
       "9681    0       Raj is a rich, carefree, happy-go-luck...\n",
       "9682    0       Raj is a rich, carefree, happy-go-luck...\n",
       "9683    0       Raj is a rich, carefree, happy-go-luck...\n",
       "Name: overview, Length: 9684, dtype: object"
      ]
     },
     "execution_count": 115,
     "metadata": {},
     "output_type": "execute_result"
    }
   ],
   "source": [
    "data1['overview']"
   ]
  },
  {
   "cell_type": "code",
   "execution_count": 116,
   "id": "1b2de14f",
   "metadata": {},
   "outputs": [],
   "source": [
    "def tags_remove(text):\n",
    "    pattern = re.compile('<.*?>')\n",
    "    return pattern.sub(r'',text)"
   ]
  },
  {
   "cell_type": "code",
   "execution_count": 117,
   "id": "c5c47243",
   "metadata": {},
   "outputs": [
    {
     "data": {
      "text/plain": [
       "'Sambit is fast asfireboy'"
      ]
     },
     "execution_count": 117,
     "metadata": {},
     "output_type": "execute_result"
    }
   ],
   "source": [
    "te = '<h1><p>Sambit is fast as<b>fire</b><a href='' https://www.kaggle.com/sambitreactml/text-preprocessing/edit>boy</p></h1>'\n",
    "tags_remove(te)"
   ]
  },
  {
   "cell_type": "code",
   "execution_count": 118,
   "id": "d0e831c1",
   "metadata": {},
   "outputs": [],
   "source": [
    "data1['overview']=data1['overview'].apply(tags_remove)"
   ]
  },
  {
   "cell_type": "markdown",
   "id": "08a8eb77",
   "metadata": {},
   "source": [
    "# Urls Removal"
   ]
  },
  {
   "cell_type": "code",
   "execution_count": 119,
   "id": "50b0d130",
   "metadata": {},
   "outputs": [],
   "source": [
    "def url_remove(text):\n",
    "    pattern = re.compile(r'https?://\\S+|www\\.\\S+')\n",
    "    return pattern.sub(r'',text)"
   ]
  },
  {
   "cell_type": "code",
   "execution_count": 120,
   "id": "2a00517e",
   "metadata": {},
   "outputs": [
    {
     "data": {
      "text/plain": [
       "'Sambit is fast as  fire boy'"
      ]
     },
     "execution_count": 120,
     "metadata": {},
     "output_type": "execute_result"
    }
   ],
   "source": [
    "te = 'Sambit is fast as https://www.kaggle.com/sambitreactml/text-preprocessing/edit fire boy'\n",
    "url_remove(te)"
   ]
  },
  {
   "cell_type": "code",
   "execution_count": 121,
   "id": "44f55e26",
   "metadata": {},
   "outputs": [],
   "source": [
    "data1['overview']=data1['overview'].apply(url_remove)"
   ]
  },
  {
   "cell_type": "markdown",
   "id": "312737eb",
   "metadata": {},
   "source": [
    "# Punctuation Removal"
   ]
  },
  {
   "cell_type": "code",
   "execution_count": 122,
   "id": "d65553ce",
   "metadata": {},
   "outputs": [
    {
     "data": {
      "text/plain": [
       "'!\"#$%&\\'()*+,-./:;<=>?@[\\\\]^_`{|}~'"
      ]
     },
     "execution_count": 122,
     "metadata": {},
     "output_type": "execute_result"
    }
   ],
   "source": [
    "punc_list = st.punctuation\n",
    "punc_list"
   ]
  },
  {
   "cell_type": "code",
   "execution_count": 123,
   "id": "9f696a88",
   "metadata": {},
   "outputs": [],
   "source": [
    "def punc_remove(text):\n",
    "    return text.translate(str.maketrans('','',punc_list))"
   ]
  },
  {
   "cell_type": "code",
   "execution_count": 124,
   "id": "c6eb380f",
   "metadata": {},
   "outputs": [],
   "source": [
    "data1['overview']=data1['overview'].apply(punc_remove)"
   ]
  },
  {
   "cell_type": "code",
   "execution_count": 125,
   "id": "829a2b1d",
   "metadata": {},
   "outputs": [
    {
     "data": {
      "text/html": [
       "<div>\n",
       "<style scoped>\n",
       "    .dataframe tbody tr th:only-of-type {\n",
       "        vertical-align: middle;\n",
       "    }\n",
       "\n",
       "    .dataframe tbody tr th {\n",
       "        vertical-align: top;\n",
       "    }\n",
       "\n",
       "    .dataframe thead th {\n",
       "        text-align: right;\n",
       "    }\n",
       "</style>\n",
       "<table border=\"1\" class=\"dataframe\">\n",
       "  <thead>\n",
       "    <tr style=\"text-align: right;\">\n",
       "      <th></th>\n",
       "      <th>genre_ids</th>\n",
       "      <th>id</th>\n",
       "      <th>overview</th>\n",
       "      <th>title</th>\n",
       "      <th>vote_average</th>\n",
       "      <th>vote_count</th>\n",
       "    </tr>\n",
       "  </thead>\n",
       "  <tbody>\n",
       "    <tr>\n",
       "      <th>0</th>\n",
       "      <td>[35, 18, 10749]</td>\n",
       "      <td>19404</td>\n",
       "      <td>0       Raj is a rich carefree happygolucky se...</td>\n",
       "      <td>Dilwale Dulhania Le Jayenge</td>\n",
       "      <td>8.7</td>\n",
       "      <td>3441</td>\n",
       "    </tr>\n",
       "    <tr>\n",
       "      <th>1</th>\n",
       "      <td>[18, 80]</td>\n",
       "      <td>278</td>\n",
       "      <td>0       Raj is a rich carefree happygolucky se...</td>\n",
       "      <td>The Shawshank Redemption</td>\n",
       "      <td>8.7</td>\n",
       "      <td>20823</td>\n",
       "    </tr>\n",
       "    <tr>\n",
       "      <th>2</th>\n",
       "      <td>[18, 80]</td>\n",
       "      <td>238</td>\n",
       "      <td>0       Raj is a rich carefree happygolucky se...</td>\n",
       "      <td>The Godfather</td>\n",
       "      <td>8.7</td>\n",
       "      <td>15538</td>\n",
       "    </tr>\n",
       "    <tr>\n",
       "      <th>3</th>\n",
       "      <td>[10749, 18]</td>\n",
       "      <td>730154</td>\n",
       "      <td>0       Raj is a rich carefree happygolucky se...</td>\n",
       "      <td>Your Eyes Tell</td>\n",
       "      <td>8.7</td>\n",
       "      <td>246</td>\n",
       "    </tr>\n",
       "    <tr>\n",
       "      <th>4</th>\n",
       "      <td>[18, 36, 10752]</td>\n",
       "      <td>424</td>\n",
       "      <td>0       Raj is a rich carefree happygolucky se...</td>\n",
       "      <td>Schindler's List</td>\n",
       "      <td>8.6</td>\n",
       "      <td>12423</td>\n",
       "    </tr>\n",
       "  </tbody>\n",
       "</table>\n",
       "</div>"
      ],
      "text/plain": [
       "         genre_ids      id                                           overview  \\\n",
       "0  [35, 18, 10749]   19404  0       Raj is a rich carefree happygolucky se...   \n",
       "1         [18, 80]     278  0       Raj is a rich carefree happygolucky se...   \n",
       "2         [18, 80]     238  0       Raj is a rich carefree happygolucky se...   \n",
       "3      [10749, 18]  730154  0       Raj is a rich carefree happygolucky se...   \n",
       "4  [18, 36, 10752]     424  0       Raj is a rich carefree happygolucky se...   \n",
       "\n",
       "                         title  vote_average  vote_count  \n",
       "0  Dilwale Dulhania Le Jayenge           8.7        3441  \n",
       "1     The Shawshank Redemption           8.7       20823  \n",
       "2                The Godfather           8.7       15538  \n",
       "3               Your Eyes Tell           8.7         246  \n",
       "4             Schindler's List           8.6       12423  "
      ]
     },
     "execution_count": 125,
     "metadata": {},
     "output_type": "execute_result"
    }
   ],
   "source": [
    "data1.head()"
   ]
  },
  {
   "cell_type": "markdown",
   "id": "9d7a272e",
   "metadata": {},
   "source": [
    "# Spellings correction"
   ]
  },
  {
   "cell_type": "code",
   "execution_count": 126,
   "id": "43bc4ccc",
   "metadata": {},
   "outputs": [],
   "source": [
    "def spell_check(text):\n",
    "    textb = TextBlob(text)\n",
    "    return textb.correct().string"
   ]
  },
  {
   "cell_type": "code",
   "execution_count": 127,
   "id": "7d5edc08",
   "metadata": {},
   "outputs": [
    {
     "data": {
      "text/plain": [
       "'certain conditions during several generations are modified in the same manner.'"
      ]
     },
     "execution_count": 127,
     "metadata": {},
     "output_type": "execute_result"
    }
   ],
   "source": [
    "te = 'ceertain conditionas duriing seveal ggenerations aree moodified in the saame maner.'\n",
    "spell_check(te)"
   ]
  },
  {
   "cell_type": "code",
   "execution_count": 128,
   "id": "765c73e6",
   "metadata": {},
   "outputs": [
    {
     "data": {
      "text/html": [
       "<div>\n",
       "<style scoped>\n",
       "    .dataframe tbody tr th:only-of-type {\n",
       "        vertical-align: middle;\n",
       "    }\n",
       "\n",
       "    .dataframe tbody tr th {\n",
       "        vertical-align: top;\n",
       "    }\n",
       "\n",
       "    .dataframe thead th {\n",
       "        text-align: right;\n",
       "    }\n",
       "</style>\n",
       "<table border=\"1\" class=\"dataframe\">\n",
       "  <thead>\n",
       "    <tr style=\"text-align: right;\">\n",
       "      <th></th>\n",
       "      <th>genre_ids</th>\n",
       "      <th>id</th>\n",
       "      <th>overview</th>\n",
       "      <th>title</th>\n",
       "      <th>vote_average</th>\n",
       "      <th>vote_count</th>\n",
       "    </tr>\n",
       "  </thead>\n",
       "  <tbody>\n",
       "    <tr>\n",
       "      <th>0</th>\n",
       "      <td>[35, 18, 10749]</td>\n",
       "      <td>19404</td>\n",
       "      <td>0       Raj is a rich carefree happygolucky se...</td>\n",
       "      <td>Dilwale Dulhania Le Jayenge</td>\n",
       "      <td>8.7</td>\n",
       "      <td>3441</td>\n",
       "    </tr>\n",
       "    <tr>\n",
       "      <th>1</th>\n",
       "      <td>[18, 80]</td>\n",
       "      <td>278</td>\n",
       "      <td>0       Raj is a rich carefree happygolucky se...</td>\n",
       "      <td>The Shawshank Redemption</td>\n",
       "      <td>8.7</td>\n",
       "      <td>20823</td>\n",
       "    </tr>\n",
       "    <tr>\n",
       "      <th>2</th>\n",
       "      <td>[18, 80]</td>\n",
       "      <td>238</td>\n",
       "      <td>0       Raj is a rich carefree happygolucky se...</td>\n",
       "      <td>The Godfather</td>\n",
       "      <td>8.7</td>\n",
       "      <td>15538</td>\n",
       "    </tr>\n",
       "    <tr>\n",
       "      <th>3</th>\n",
       "      <td>[10749, 18]</td>\n",
       "      <td>730154</td>\n",
       "      <td>0       Raj is a rich carefree happygolucky se...</td>\n",
       "      <td>Your Eyes Tell</td>\n",
       "      <td>8.7</td>\n",
       "      <td>246</td>\n",
       "    </tr>\n",
       "    <tr>\n",
       "      <th>4</th>\n",
       "      <td>[18, 36, 10752]</td>\n",
       "      <td>424</td>\n",
       "      <td>0       Raj is a rich carefree happygolucky se...</td>\n",
       "      <td>Schindler's List</td>\n",
       "      <td>8.6</td>\n",
       "      <td>12423</td>\n",
       "    </tr>\n",
       "  </tbody>\n",
       "</table>\n",
       "</div>"
      ],
      "text/plain": [
       "         genre_ids      id                                           overview  \\\n",
       "0  [35, 18, 10749]   19404  0       Raj is a rich carefree happygolucky se...   \n",
       "1         [18, 80]     278  0       Raj is a rich carefree happygolucky se...   \n",
       "2         [18, 80]     238  0       Raj is a rich carefree happygolucky se...   \n",
       "3      [10749, 18]  730154  0       Raj is a rich carefree happygolucky se...   \n",
       "4  [18, 36, 10752]     424  0       Raj is a rich carefree happygolucky se...   \n",
       "\n",
       "                         title  vote_average  vote_count  \n",
       "0  Dilwale Dulhania Le Jayenge           8.7        3441  \n",
       "1     The Shawshank Redemption           8.7       20823  \n",
       "2                The Godfather           8.7       15538  \n",
       "3               Your Eyes Tell           8.7         246  \n",
       "4             Schindler's List           8.6       12423  "
      ]
     },
     "execution_count": 128,
     "metadata": {},
     "output_type": "execute_result"
    }
   ],
   "source": [
    "data1.head()"
   ]
  },
  {
   "cell_type": "markdown",
   "id": "979bce4c",
   "metadata": {},
   "source": [
    "# Stopwords Removal"
   ]
  },
  {
   "cell_type": "code",
   "execution_count": 129,
   "id": "fa1db93f",
   "metadata": {},
   "outputs": [],
   "source": [
    "def stop_remove(text):\n",
    "    n_text = []\n",
    "    stops = stopwords.words('english')\n",
    "    for word in text.split():\n",
    "        if word in stops:\n",
    "            n_text.append('')\n",
    "        else:\n",
    "            n_text.append(word)\n",
    "    s = n_text[:]\n",
    "    n_text.clear()\n",
    "    return \" \".join(s)"
   ]
  },
  {
   "cell_type": "code",
   "execution_count": 130,
   "id": "e7432996",
   "metadata": {},
   "outputs": [],
   "source": [
    "data1['overview']=data1['overview'].apply(stop_remove)"
   ]
  },
  {
   "cell_type": "code",
   "execution_count": 131,
   "id": "6355bd4d",
   "metadata": {},
   "outputs": [
    {
     "data": {
      "text/html": [
       "<div>\n",
       "<style scoped>\n",
       "    .dataframe tbody tr th:only-of-type {\n",
       "        vertical-align: middle;\n",
       "    }\n",
       "\n",
       "    .dataframe tbody tr th {\n",
       "        vertical-align: top;\n",
       "    }\n",
       "\n",
       "    .dataframe thead th {\n",
       "        text-align: right;\n",
       "    }\n",
       "</style>\n",
       "<table border=\"1\" class=\"dataframe\">\n",
       "  <thead>\n",
       "    <tr style=\"text-align: right;\">\n",
       "      <th></th>\n",
       "      <th>genre_ids</th>\n",
       "      <th>id</th>\n",
       "      <th>overview</th>\n",
       "      <th>title</th>\n",
       "      <th>vote_average</th>\n",
       "      <th>vote_count</th>\n",
       "    </tr>\n",
       "  </thead>\n",
       "  <tbody>\n",
       "    <tr>\n",
       "      <th>0</th>\n",
       "      <td>[35, 18, 10749]</td>\n",
       "      <td>19404</td>\n",
       "      <td>0 Raj   rich carefree happygolucky second 1 Fr...</td>\n",
       "      <td>Dilwale Dulhania Le Jayenge</td>\n",
       "      <td>8.7</td>\n",
       "      <td>3441</td>\n",
       "    </tr>\n",
       "    <tr>\n",
       "      <th>1</th>\n",
       "      <td>[18, 80]</td>\n",
       "      <td>278</td>\n",
       "      <td>0 Raj   rich carefree happygolucky second 1 Fr...</td>\n",
       "      <td>The Shawshank Redemption</td>\n",
       "      <td>8.7</td>\n",
       "      <td>20823</td>\n",
       "    </tr>\n",
       "    <tr>\n",
       "      <th>2</th>\n",
       "      <td>[18, 80]</td>\n",
       "      <td>238</td>\n",
       "      <td>0 Raj   rich carefree happygolucky second 1 Fr...</td>\n",
       "      <td>The Godfather</td>\n",
       "      <td>8.7</td>\n",
       "      <td>15538</td>\n",
       "    </tr>\n",
       "    <tr>\n",
       "      <th>3</th>\n",
       "      <td>[10749, 18]</td>\n",
       "      <td>730154</td>\n",
       "      <td>0 Raj   rich carefree happygolucky second 1 Fr...</td>\n",
       "      <td>Your Eyes Tell</td>\n",
       "      <td>8.7</td>\n",
       "      <td>246</td>\n",
       "    </tr>\n",
       "    <tr>\n",
       "      <th>4</th>\n",
       "      <td>[18, 36, 10752]</td>\n",
       "      <td>424</td>\n",
       "      <td>0 Raj   rich carefree happygolucky second 1 Fr...</td>\n",
       "      <td>Schindler's List</td>\n",
       "      <td>8.6</td>\n",
       "      <td>12423</td>\n",
       "    </tr>\n",
       "  </tbody>\n",
       "</table>\n",
       "</div>"
      ],
      "text/plain": [
       "         genre_ids      id                                           overview  \\\n",
       "0  [35, 18, 10749]   19404  0 Raj   rich carefree happygolucky second 1 Fr...   \n",
       "1         [18, 80]     278  0 Raj   rich carefree happygolucky second 1 Fr...   \n",
       "2         [18, 80]     238  0 Raj   rich carefree happygolucky second 1 Fr...   \n",
       "3      [10749, 18]  730154  0 Raj   rich carefree happygolucky second 1 Fr...   \n",
       "4  [18, 36, 10752]     424  0 Raj   rich carefree happygolucky second 1 Fr...   \n",
       "\n",
       "                         title  vote_average  vote_count  \n",
       "0  Dilwale Dulhania Le Jayenge           8.7        3441  \n",
       "1     The Shawshank Redemption           8.7       20823  \n",
       "2                The Godfather           8.7       15538  \n",
       "3               Your Eyes Tell           8.7         246  \n",
       "4             Schindler's List           8.6       12423  "
      ]
     },
     "execution_count": 131,
     "metadata": {},
     "output_type": "execute_result"
    }
   ],
   "source": [
    "data1.head()"
   ]
  },
  {
   "cell_type": "markdown",
   "id": "227531a0",
   "metadata": {},
   "source": [
    "# Tokenization \n",
    "* word\n",
    "* sentence"
   ]
  },
  {
   "cell_type": "code",
   "execution_count": 132,
   "id": "4d210e5a",
   "metadata": {},
   "outputs": [],
   "source": [
    "te = 'certain conditions in 5km range during several generations are modified in the same manner as in 100$.this is very unfortunate and heartbreaking to see such rises in petrol prices 5$ a day.'"
   ]
  },
  {
   "cell_type": "code",
   "execution_count": 133,
   "id": "c3e45c35",
   "metadata": {},
   "outputs": [
    {
     "data": {
      "text/plain": [
       "['certain conditions in 5km range during several generations are modified in the same manner as in 100$.',\n",
       " 'this is very unfortunate and heartbreaking to see such rises in petrol prices 5$ a day.']"
      ]
     },
     "execution_count": 133,
     "metadata": {},
     "output_type": "execute_result"
    }
   ],
   "source": [
    "sents = sent_tokenize(te)\n",
    "sent"
   ]
  },
  {
   "cell_type": "code",
   "execution_count": 134,
   "id": "40f634f0",
   "metadata": {},
   "outputs": [
    {
     "data": {
      "text/plain": [
       "['certain',\n",
       " 'conditions',\n",
       " 'in',\n",
       " '5km',\n",
       " 'range',\n",
       " 'during',\n",
       " 'several',\n",
       " 'generations',\n",
       " 'are',\n",
       " 'modified',\n",
       " 'in',\n",
       " 'the',\n",
       " 'same',\n",
       " 'manner',\n",
       " 'as',\n",
       " 'in',\n",
       " '100',\n",
       " '$',\n",
       " '.this',\n",
       " 'is',\n",
       " 'very',\n",
       " 'unfortunate',\n",
       " 'and',\n",
       " 'heartbreaking',\n",
       " 'to',\n",
       " 'see',\n",
       " 'such',\n",
       " 'rises',\n",
       " 'in',\n",
       " 'petrol',\n",
       " 'prices',\n",
       " '5',\n",
       " '$',\n",
       " 'a',\n",
       " 'day',\n",
       " '.']"
      ]
     },
     "execution_count": 134,
     "metadata": {},
     "output_type": "execute_result"
    }
   ],
   "source": [
    "words = word_tokenize(te)\n",
    "words"
   ]
  },
  {
   "cell_type": "code",
   "execution_count": 135,
   "id": "126133f2",
   "metadata": {},
   "outputs": [
    {
     "data": {
      "text/plain": [
       "certain conditions in 5km range during several generations are modified in the same manner as in 100$.this is very unfortunate and heartbreaking to see such rises in petrol prices 5$ a day."
      ]
     },
     "execution_count": 135,
     "metadata": {},
     "output_type": "execute_result"
    }
   ],
   "source": [
    "tokenizer = spacy.load('en_core_web_sm')\n",
    "doc = tokenizer(te)\n",
    "doc"
   ]
  },
  {
   "cell_type": "code",
   "execution_count": 136,
   "id": "92d25d84",
   "metadata": {},
   "outputs": [
    {
     "name": "stdout",
     "output_type": "stream",
     "text": [
      "certain\n",
      "conditions\n",
      "in\n",
      "5\n",
      "km\n",
      "range\n",
      "during\n",
      "several\n",
      "generations\n",
      "are\n",
      "modified\n",
      "in\n",
      "the\n",
      "same\n",
      "manner\n",
      "as\n",
      "in\n",
      "100$.this\n",
      "is\n",
      "very\n",
      "unfortunate\n",
      "and\n",
      "heartbreaking\n",
      "to\n",
      "see\n",
      "such\n",
      "rises\n",
      "in\n",
      "petrol\n",
      "prices\n",
      "5\n",
      "$\n",
      "a\n",
      "day\n",
      ".\n"
     ]
    }
   ],
   "source": [
    "for tokens in doc:\n",
    "    print(tokens)"
   ]
  },
  {
   "cell_type": "code",
   "execution_count": 137,
   "id": "ff8b8a63",
   "metadata": {},
   "outputs": [],
   "source": [
    "def tokenization(text):\n",
    "    words = word_tokenize(text)\n",
    "    return words"
   ]
  },
  {
   "cell_type": "code",
   "execution_count": 138,
   "id": "75cbfc19",
   "metadata": {},
   "outputs": [],
   "source": [
    "data1['overview']=data1['overview'].apply(tokenization)"
   ]
  },
  {
   "cell_type": "code",
   "execution_count": 139,
   "id": "58492edb",
   "metadata": {},
   "outputs": [
    {
     "data": {
      "text/html": [
       "<div>\n",
       "<style scoped>\n",
       "    .dataframe tbody tr th:only-of-type {\n",
       "        vertical-align: middle;\n",
       "    }\n",
       "\n",
       "    .dataframe tbody tr th {\n",
       "        vertical-align: top;\n",
       "    }\n",
       "\n",
       "    .dataframe thead th {\n",
       "        text-align: right;\n",
       "    }\n",
       "</style>\n",
       "<table border=\"1\" class=\"dataframe\">\n",
       "  <thead>\n",
       "    <tr style=\"text-align: right;\">\n",
       "      <th></th>\n",
       "      <th>genre_ids</th>\n",
       "      <th>id</th>\n",
       "      <th>overview</th>\n",
       "      <th>title</th>\n",
       "      <th>vote_average</th>\n",
       "      <th>vote_count</th>\n",
       "    </tr>\n",
       "  </thead>\n",
       "  <tbody>\n",
       "    <tr>\n",
       "      <th>0</th>\n",
       "      <td>[35, 18, 10749]</td>\n",
       "      <td>19404</td>\n",
       "      <td>[0, Raj, rich, carefree, happygolucky, second,...</td>\n",
       "      <td>Dilwale Dulhania Le Jayenge</td>\n",
       "      <td>8.7</td>\n",
       "      <td>3441</td>\n",
       "    </tr>\n",
       "    <tr>\n",
       "      <th>1</th>\n",
       "      <td>[18, 80]</td>\n",
       "      <td>278</td>\n",
       "      <td>[0, Raj, rich, carefree, happygolucky, second,...</td>\n",
       "      <td>The Shawshank Redemption</td>\n",
       "      <td>8.7</td>\n",
       "      <td>20823</td>\n",
       "    </tr>\n",
       "    <tr>\n",
       "      <th>2</th>\n",
       "      <td>[18, 80]</td>\n",
       "      <td>238</td>\n",
       "      <td>[0, Raj, rich, carefree, happygolucky, second,...</td>\n",
       "      <td>The Godfather</td>\n",
       "      <td>8.7</td>\n",
       "      <td>15538</td>\n",
       "    </tr>\n",
       "    <tr>\n",
       "      <th>3</th>\n",
       "      <td>[10749, 18]</td>\n",
       "      <td>730154</td>\n",
       "      <td>[0, Raj, rich, carefree, happygolucky, second,...</td>\n",
       "      <td>Your Eyes Tell</td>\n",
       "      <td>8.7</td>\n",
       "      <td>246</td>\n",
       "    </tr>\n",
       "    <tr>\n",
       "      <th>4</th>\n",
       "      <td>[18, 36, 10752]</td>\n",
       "      <td>424</td>\n",
       "      <td>[0, Raj, rich, carefree, happygolucky, second,...</td>\n",
       "      <td>Schindler's List</td>\n",
       "      <td>8.6</td>\n",
       "      <td>12423</td>\n",
       "    </tr>\n",
       "  </tbody>\n",
       "</table>\n",
       "</div>"
      ],
      "text/plain": [
       "         genre_ids      id                                           overview  \\\n",
       "0  [35, 18, 10749]   19404  [0, Raj, rich, carefree, happygolucky, second,...   \n",
       "1         [18, 80]     278  [0, Raj, rich, carefree, happygolucky, second,...   \n",
       "2         [18, 80]     238  [0, Raj, rich, carefree, happygolucky, second,...   \n",
       "3      [10749, 18]  730154  [0, Raj, rich, carefree, happygolucky, second,...   \n",
       "4  [18, 36, 10752]     424  [0, Raj, rich, carefree, happygolucky, second,...   \n",
       "\n",
       "                         title  vote_average  vote_count  \n",
       "0  Dilwale Dulhania Le Jayenge           8.7        3441  \n",
       "1     The Shawshank Redemption           8.7       20823  \n",
       "2                The Godfather           8.7       15538  \n",
       "3               Your Eyes Tell           8.7         246  \n",
       "4             Schindler's List           8.6       12423  "
      ]
     },
     "execution_count": 139,
     "metadata": {},
     "output_type": "execute_result"
    }
   ],
   "source": [
    "data1.head()"
   ]
  },
  {
   "cell_type": "markdown",
   "id": "5fb6179a",
   "metadata": {},
   "source": [
    "# Stemming"
   ]
  },
  {
   "cell_type": "code",
   "execution_count": 140,
   "id": "fd7bba9a",
   "metadata": {},
   "outputs": [],
   "source": [
    "te = 'certain conditions in 5km range during several generations are modified in the same manner as in 100$.this is very unfortunate and heartbreaking to see such rises in petrol prices 5$ a day.'\n"
   ]
  },
  {
   "cell_type": "code",
   "execution_count": 141,
   "id": "77bca55a",
   "metadata": {},
   "outputs": [
    {
     "data": {
      "text/plain": [
       "'certain condit in 5km rang dure sever gener are modifi in the same manner as in 100$.thi is veri unfortun and heartbreak to see such rise in petrol price 5$ a day.'"
      ]
     },
     "execution_count": 141,
     "metadata": {},
     "output_type": "execute_result"
    }
   ],
   "source": [
    "def stemming(text):\n",
    "    stemmer = PorterStemmer()\n",
    "    return \" \".join([stemmer.stem(word) for word in text.split()])\n",
    "\n",
    "stemming(te)"
   ]
  },
  {
   "cell_type": "code",
   "execution_count": 142,
   "id": "197bc81e",
   "metadata": {},
   "outputs": [],
   "source": [
    "def stemming_token(token_list):\n",
    "    lists=[]\n",
    "    stemmer = PorterStemmer()\n",
    "    lists.append([stemmer.stem(word) for word in token_list])\n",
    "    return lists"
   ]
  },
  {
   "cell_type": "code",
   "execution_count": 143,
   "id": "b4602b8e",
   "metadata": {},
   "outputs": [],
   "source": [
    "data1['overview']=data1['overview'].apply(stemming_token)"
   ]
  },
  {
   "cell_type": "code",
   "execution_count": 145,
   "id": "71d2b141",
   "metadata": {},
   "outputs": [
    {
     "data": {
      "text/html": [
       "<div>\n",
       "<style scoped>\n",
       "    .dataframe tbody tr th:only-of-type {\n",
       "        vertical-align: middle;\n",
       "    }\n",
       "\n",
       "    .dataframe tbody tr th {\n",
       "        vertical-align: top;\n",
       "    }\n",
       "\n",
       "    .dataframe thead th {\n",
       "        text-align: right;\n",
       "    }\n",
       "</style>\n",
       "<table border=\"1\" class=\"dataframe\">\n",
       "  <thead>\n",
       "    <tr style=\"text-align: right;\">\n",
       "      <th></th>\n",
       "      <th>genre_ids</th>\n",
       "      <th>id</th>\n",
       "      <th>overview</th>\n",
       "      <th>title</th>\n",
       "      <th>vote_average</th>\n",
       "      <th>vote_count</th>\n",
       "    </tr>\n",
       "  </thead>\n",
       "  <tbody>\n",
       "    <tr>\n",
       "      <th>0</th>\n",
       "      <td>[35, 18, 10749]</td>\n",
       "      <td>19404</td>\n",
       "      <td>[[0, raj, rich, carefre, happygolucki, second,...</td>\n",
       "      <td>Dilwale Dulhania Le Jayenge</td>\n",
       "      <td>8.7</td>\n",
       "      <td>3441</td>\n",
       "    </tr>\n",
       "    <tr>\n",
       "      <th>1</th>\n",
       "      <td>[18, 80]</td>\n",
       "      <td>278</td>\n",
       "      <td>[[0, raj, rich, carefre, happygolucki, second,...</td>\n",
       "      <td>The Shawshank Redemption</td>\n",
       "      <td>8.7</td>\n",
       "      <td>20823</td>\n",
       "    </tr>\n",
       "    <tr>\n",
       "      <th>2</th>\n",
       "      <td>[18, 80]</td>\n",
       "      <td>238</td>\n",
       "      <td>[[0, raj, rich, carefre, happygolucki, second,...</td>\n",
       "      <td>The Godfather</td>\n",
       "      <td>8.7</td>\n",
       "      <td>15538</td>\n",
       "    </tr>\n",
       "    <tr>\n",
       "      <th>3</th>\n",
       "      <td>[10749, 18]</td>\n",
       "      <td>730154</td>\n",
       "      <td>[[0, raj, rich, carefre, happygolucki, second,...</td>\n",
       "      <td>Your Eyes Tell</td>\n",
       "      <td>8.7</td>\n",
       "      <td>246</td>\n",
       "    </tr>\n",
       "    <tr>\n",
       "      <th>4</th>\n",
       "      <td>[18, 36, 10752]</td>\n",
       "      <td>424</td>\n",
       "      <td>[[0, raj, rich, carefre, happygolucki, second,...</td>\n",
       "      <td>Schindler's List</td>\n",
       "      <td>8.6</td>\n",
       "      <td>12423</td>\n",
       "    </tr>\n",
       "  </tbody>\n",
       "</table>\n",
       "</div>"
      ],
      "text/plain": [
       "         genre_ids      id                                           overview  \\\n",
       "0  [35, 18, 10749]   19404  [[0, raj, rich, carefre, happygolucki, second,...   \n",
       "1         [18, 80]     278  [[0, raj, rich, carefre, happygolucki, second,...   \n",
       "2         [18, 80]     238  [[0, raj, rich, carefre, happygolucki, second,...   \n",
       "3      [10749, 18]  730154  [[0, raj, rich, carefre, happygolucki, second,...   \n",
       "4  [18, 36, 10752]     424  [[0, raj, rich, carefre, happygolucki, second,...   \n",
       "\n",
       "                         title  vote_average  vote_count  \n",
       "0  Dilwale Dulhania Le Jayenge           8.7        3441  \n",
       "1     The Shawshank Redemption           8.7       20823  \n",
       "2                The Godfather           8.7       15538  \n",
       "3               Your Eyes Tell           8.7         246  \n",
       "4             Schindler's List           8.6       12423  "
      ]
     },
     "execution_count": 145,
     "metadata": {},
     "output_type": "execute_result"
    }
   ],
   "source": [
    "data1.head()"
   ]
  },
  {
   "cell_type": "code",
   "execution_count": null,
   "id": "353c66a0",
   "metadata": {},
   "outputs": [],
   "source": []
  }
 ],
 "metadata": {
  "kernelspec": {
   "display_name": "Python 3 (ipykernel)",
   "language": "python",
   "name": "python3"
  },
  "language_info": {
   "codemirror_mode": {
    "name": "ipython",
    "version": 3
   },
   "file_extension": ".py",
   "mimetype": "text/x-python",
   "name": "python",
   "nbconvert_exporter": "python",
   "pygments_lexer": "ipython3",
   "version": "3.9.7"
  }
 },
 "nbformat": 4,
 "nbformat_minor": 5
}
