{
 "cells": [
  {
   "cell_type": "markdown",
   "id": "653684e1",
   "metadata": {},
   "source": [
    "# One Hot Encoding"
   ]
  },
  {
   "cell_type": "code",
   "execution_count": 128,
   "id": "3fa50627",
   "metadata": {},
   "outputs": [],
   "source": [
    "import pandas as pd\n",
    "import numpy as np\n",
    "from nltk import word_tokenize\n",
    "from nltk.stem import WordNetLemmatizer"
   ]
  },
  {
   "cell_type": "code",
   "execution_count": 129,
   "id": "c3f6cdab",
   "metadata": {},
   "outputs": [],
   "source": [
    "sentence = ['people watching campusx', 'campusx watching campusx', 'people writeing comment', 'campusx writeing comment']\n",
    "value  = [1,1,0,0]\n",
    "dic = {'sentences':sentence,\n",
    "       'values':value}\n",
    "data = pd.DataFrame(dic)"
   ]
  },
  {
   "cell_type": "code",
   "execution_count": 130,
   "id": "9c1492f7",
   "metadata": {},
   "outputs": [
    {
     "data": {
      "text/html": [
       "<div>\n",
       "<style scoped>\n",
       "    .dataframe tbody tr th:only-of-type {\n",
       "        vertical-align: middle;\n",
       "    }\n",
       "\n",
       "    .dataframe tbody tr th {\n",
       "        vertical-align: top;\n",
       "    }\n",
       "\n",
       "    .dataframe thead th {\n",
       "        text-align: right;\n",
       "    }\n",
       "</style>\n",
       "<table border=\"1\" class=\"dataframe\">\n",
       "  <thead>\n",
       "    <tr style=\"text-align: right;\">\n",
       "      <th></th>\n",
       "      <th>sentences</th>\n",
       "      <th>values</th>\n",
       "    </tr>\n",
       "  </thead>\n",
       "  <tbody>\n",
       "    <tr>\n",
       "      <th>0</th>\n",
       "      <td>people watching campusx</td>\n",
       "      <td>1</td>\n",
       "    </tr>\n",
       "    <tr>\n",
       "      <th>1</th>\n",
       "      <td>campusx watching campusx</td>\n",
       "      <td>1</td>\n",
       "    </tr>\n",
       "    <tr>\n",
       "      <th>2</th>\n",
       "      <td>people writeing comment</td>\n",
       "      <td>0</td>\n",
       "    </tr>\n",
       "    <tr>\n",
       "      <th>3</th>\n",
       "      <td>campusx writeing comment</td>\n",
       "      <td>0</td>\n",
       "    </tr>\n",
       "  </tbody>\n",
       "</table>\n",
       "</div>"
      ],
      "text/plain": [
       "                  sentences  values\n",
       "0   people watching campusx       1\n",
       "1  campusx watching campusx       1\n",
       "2   people writeing comment       0\n",
       "3  campusx writeing comment       0"
      ]
     },
     "execution_count": 130,
     "metadata": {},
     "output_type": "execute_result"
    }
   ],
   "source": [
    "data"
   ]
  },
  {
   "cell_type": "code",
   "execution_count": 131,
   "id": "1f4970ed",
   "metadata": {},
   "outputs": [],
   "source": [
    "def tokenize(text):\n",
    "    words = word_tokenize(text)\n",
    "    return words\n",
    "def lemmatizer(token_list):\n",
    "    wnl = WordNetLemmatizer()\n",
    "    return ([wnl.lemmatize(word,'v') for word in token_list])"
   ]
  },
  {
   "cell_type": "code",
   "execution_count": 132,
   "id": "a8a1441b",
   "metadata": {},
   "outputs": [],
   "source": [
    "data['sentences'] = data['sentences'].apply(tokenize)"
   ]
  },
  {
   "cell_type": "code",
   "execution_count": 133,
   "id": "5253874f",
   "metadata": {},
   "outputs": [],
   "source": [
    "data['sentences'] = data['sentences'].apply(lemmatizer)"
   ]
  },
  {
   "cell_type": "code",
   "execution_count": 134,
   "id": "09570ae7",
   "metadata": {},
   "outputs": [
    {
     "data": {
      "text/html": [
       "<div>\n",
       "<style scoped>\n",
       "    .dataframe tbody tr th:only-of-type {\n",
       "        vertical-align: middle;\n",
       "    }\n",
       "\n",
       "    .dataframe tbody tr th {\n",
       "        vertical-align: top;\n",
       "    }\n",
       "\n",
       "    .dataframe thead th {\n",
       "        text-align: right;\n",
       "    }\n",
       "</style>\n",
       "<table border=\"1\" class=\"dataframe\">\n",
       "  <thead>\n",
       "    <tr style=\"text-align: right;\">\n",
       "      <th></th>\n",
       "      <th>sentences</th>\n",
       "      <th>values</th>\n",
       "    </tr>\n",
       "  </thead>\n",
       "  <tbody>\n",
       "    <tr>\n",
       "      <th>0</th>\n",
       "      <td>[people, watch, campusx]</td>\n",
       "      <td>1</td>\n",
       "    </tr>\n",
       "    <tr>\n",
       "      <th>1</th>\n",
       "      <td>[campusx, watch, campusx]</td>\n",
       "      <td>1</td>\n",
       "    </tr>\n",
       "    <tr>\n",
       "      <th>2</th>\n",
       "      <td>[people, write, comment]</td>\n",
       "      <td>0</td>\n",
       "    </tr>\n",
       "    <tr>\n",
       "      <th>3</th>\n",
       "      <td>[campusx, write, comment]</td>\n",
       "      <td>0</td>\n",
       "    </tr>\n",
       "  </tbody>\n",
       "</table>\n",
       "</div>"
      ],
      "text/plain": [
       "                   sentences  values\n",
       "0   [people, watch, campusx]       1\n",
       "1  [campusx, watch, campusx]       1\n",
       "2   [people, write, comment]       0\n",
       "3  [campusx, write, comment]       0"
      ]
     },
     "execution_count": 134,
     "metadata": {},
     "output_type": "execute_result"
    }
   ],
   "source": [
    "data"
   ]
  },
  {
   "cell_type": "code",
   "execution_count": 135,
   "id": "6035ed2b",
   "metadata": {},
   "outputs": [],
   "source": [
    "corpus = []\n",
    "for i in range(data.shape[0]):\n",
    "   corpus=corpus+data['sentences'][i]"
   ]
  },
  {
   "cell_type": "code",
   "execution_count": 136,
   "id": "2b4fb922",
   "metadata": {},
   "outputs": [
    {
     "data": {
      "text/plain": [
       "['people',\n",
       " 'watch',\n",
       " 'campusx',\n",
       " 'campusx',\n",
       " 'watch',\n",
       " 'campusx',\n",
       " 'people',\n",
       " 'write',\n",
       " 'comment',\n",
       " 'campusx',\n",
       " 'write',\n",
       " 'comment']"
      ]
     },
     "execution_count": 136,
     "metadata": {},
     "output_type": "execute_result"
    }
   ],
   "source": [
    "corpus"
   ]
  },
  {
   "cell_type": "code",
   "execution_count": 137,
   "id": "5500ddce",
   "metadata": {},
   "outputs": [
    {
     "data": {
      "text/plain": [
       "array(['campusx', 'comment', 'people', 'watch', 'write'], dtype='<U7')"
      ]
     },
     "execution_count": 137,
     "metadata": {},
     "output_type": "execute_result"
    }
   ],
   "source": [
    "vocabulary = np.unique(corpus)\n",
    "vocabulary"
   ]
  },
  {
   "cell_type": "code",
   "execution_count": 143,
   "id": "b48b5db1",
   "metadata": {},
   "outputs": [
    {
     "data": {
      "text/plain": [
       "['people', 'watch', 'campusx']"
      ]
     },
     "execution_count": 143,
     "metadata": {},
     "output_type": "execute_result"
    }
   ],
   "source": [
    "data['sentences'][0]"
   ]
  },
  {
   "cell_type": "code",
   "execution_count": 144,
   "id": "a649dcd1",
   "metadata": {},
   "outputs": [],
   "source": [
    "def ohe(text):\n",
    "    new_vec=[]\n",
    "    encoder =[]\n",
    "    for word in text:\n",
    "        vector = []\n",
    "        for words in vocabulary:\n",
    "            vector.append(int(str(words)==str(word)))\n",
    "        encoder.append(vector)\n",
    "    return encoder"
   ]
  },
  {
   "cell_type": "code",
   "execution_count": 146,
   "id": "e355d890",
   "metadata": {},
   "outputs": [
    {
     "data": {
      "text/plain": [
       "[[0, 0, 1, 0, 0], [0, 0, 0, 1, 0], [1, 0, 0, 0, 0]]"
      ]
     },
     "execution_count": 146,
     "metadata": {},
     "output_type": "execute_result"
    }
   ],
   "source": [
    "ohe(['people','watch','campusx'])"
   ]
  },
  {
   "cell_type": "code",
   "execution_count": 147,
   "id": "7be284c2",
   "metadata": {},
   "outputs": [],
   "source": [
    "data['sentences'] = data['sentences'].apply(ohe)    "
   ]
  },
  {
   "cell_type": "code",
   "execution_count": 148,
   "id": "57e01183",
   "metadata": {},
   "outputs": [
    {
     "data": {
      "text/html": [
       "<div>\n",
       "<style scoped>\n",
       "    .dataframe tbody tr th:only-of-type {\n",
       "        vertical-align: middle;\n",
       "    }\n",
       "\n",
       "    .dataframe tbody tr th {\n",
       "        vertical-align: top;\n",
       "    }\n",
       "\n",
       "    .dataframe thead th {\n",
       "        text-align: right;\n",
       "    }\n",
       "</style>\n",
       "<table border=\"1\" class=\"dataframe\">\n",
       "  <thead>\n",
       "    <tr style=\"text-align: right;\">\n",
       "      <th></th>\n",
       "      <th>sentences</th>\n",
       "      <th>values</th>\n",
       "    </tr>\n",
       "  </thead>\n",
       "  <tbody>\n",
       "    <tr>\n",
       "      <th>0</th>\n",
       "      <td>[[0, 0, 1, 0, 0], [0, 0, 0, 1, 0], [1, 0, 0, 0...</td>\n",
       "      <td>1</td>\n",
       "    </tr>\n",
       "    <tr>\n",
       "      <th>1</th>\n",
       "      <td>[[1, 0, 0, 0, 0], [0, 0, 0, 1, 0], [1, 0, 0, 0...</td>\n",
       "      <td>1</td>\n",
       "    </tr>\n",
       "    <tr>\n",
       "      <th>2</th>\n",
       "      <td>[[0, 0, 1, 0, 0], [0, 0, 0, 0, 1], [0, 1, 0, 0...</td>\n",
       "      <td>0</td>\n",
       "    </tr>\n",
       "    <tr>\n",
       "      <th>3</th>\n",
       "      <td>[[1, 0, 0, 0, 0], [0, 0, 0, 0, 1], [0, 1, 0, 0...</td>\n",
       "      <td>0</td>\n",
       "    </tr>\n",
       "  </tbody>\n",
       "</table>\n",
       "</div>"
      ],
      "text/plain": [
       "                                           sentences  values\n",
       "0  [[0, 0, 1, 0, 0], [0, 0, 0, 1, 0], [1, 0, 0, 0...       1\n",
       "1  [[1, 0, 0, 0, 0], [0, 0, 0, 1, 0], [1, 0, 0, 0...       1\n",
       "2  [[0, 0, 1, 0, 0], [0, 0, 0, 0, 1], [0, 1, 0, 0...       0\n",
       "3  [[1, 0, 0, 0, 0], [0, 0, 0, 0, 1], [0, 1, 0, 0...       0"
      ]
     },
     "execution_count": 148,
     "metadata": {},
     "output_type": "execute_result"
    }
   ],
   "source": [
    "data"
   ]
  },
  {
   "cell_type": "code",
   "execution_count": 149,
   "id": "7e276b34",
   "metadata": {},
   "outputs": [
    {
     "data": {
      "text/plain": [
       "[[0, 0, 1, 0, 0], [0, 0, 0, 1, 0], [1, 0, 0, 0, 0]]"
      ]
     },
     "execution_count": 149,
     "metadata": {},
     "output_type": "execute_result"
    }
   ],
   "source": [
    "data['sentences'][0]"
   ]
  },
  {
   "cell_type": "code",
   "execution_count": 150,
   "id": "71d6e692",
   "metadata": {},
   "outputs": [],
   "source": []
  },
  {
   "cell_type": "code",
   "execution_count": null,
   "id": "7d532517",
   "metadata": {},
   "outputs": [],
   "source": []
  }
 ],
 "metadata": {
  "kernelspec": {
   "display_name": "Python 3 (ipykernel)",
   "language": "python",
   "name": "python3"
  },
  "language_info": {
   "codemirror_mode": {
    "name": "ipython",
    "version": 3
   },
   "file_extension": ".py",
   "mimetype": "text/x-python",
   "name": "python",
   "nbconvert_exporter": "python",
   "pygments_lexer": "ipython3",
   "version": "3.9.7"
  }
 },
 "nbformat": 4,
 "nbformat_minor": 5
}
