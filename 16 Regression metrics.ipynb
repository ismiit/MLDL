{
 "cells": [
  {
   "cell_type": "code",
   "execution_count": 3,
   "id": "35ae820d",
   "metadata": {},
   "outputs": [],
   "source": [
    "import numpy as np\n",
    "import pandas as pd\n",
    "import matplotlib.pyplot as plt\n",
    "\n",
    "from sklearn.model_selection import train_test_split\n",
    "from sklearn.model_selection import cross_val_score\n",
    "from sklearn.metrics import mean_absolute_error, mean_squared_error, r2_score\n",
    "from sklearn.linear_model import LinearRegression"
   ]
  },
  {
   "cell_type": "code",
   "execution_count": 4,
   "id": "f1232dd4",
   "metadata": {},
   "outputs": [
    {
     "data": {
      "text/html": [
       "<div>\n",
       "<style scoped>\n",
       "    .dataframe tbody tr th:only-of-type {\n",
       "        vertical-align: middle;\n",
       "    }\n",
       "\n",
       "    .dataframe tbody tr th {\n",
       "        vertical-align: top;\n",
       "    }\n",
       "\n",
       "    .dataframe thead th {\n",
       "        text-align: right;\n",
       "    }\n",
       "</style>\n",
       "<table border=\"1\" class=\"dataframe\">\n",
       "  <thead>\n",
       "    <tr style=\"text-align: right;\">\n",
       "      <th></th>\n",
       "      <th>cgpa</th>\n",
       "      <th>package</th>\n",
       "    </tr>\n",
       "  </thead>\n",
       "  <tbody>\n",
       "    <tr>\n",
       "      <th>0</th>\n",
       "      <td>6.89</td>\n",
       "      <td>3.26</td>\n",
       "    </tr>\n",
       "    <tr>\n",
       "      <th>1</th>\n",
       "      <td>5.12</td>\n",
       "      <td>1.98</td>\n",
       "    </tr>\n",
       "    <tr>\n",
       "      <th>2</th>\n",
       "      <td>7.82</td>\n",
       "      <td>3.25</td>\n",
       "    </tr>\n",
       "    <tr>\n",
       "      <th>3</th>\n",
       "      <td>7.42</td>\n",
       "      <td>3.67</td>\n",
       "    </tr>\n",
       "    <tr>\n",
       "      <th>4</th>\n",
       "      <td>6.94</td>\n",
       "      <td>3.57</td>\n",
       "    </tr>\n",
       "  </tbody>\n",
       "</table>\n",
       "</div>"
      ],
      "text/plain": [
       "   cgpa  package\n",
       "0  6.89     3.26\n",
       "1  5.12     1.98\n",
       "2  7.82     3.25\n",
       "3  7.42     3.67\n",
       "4  6.94     3.57"
      ]
     },
     "execution_count": 4,
     "metadata": {},
     "output_type": "execute_result"
    }
   ],
   "source": [
    "data = pd.read_csv('data/sim_lin_reg.csv')\n",
    "data.head()"
   ]
  },
  {
   "cell_type": "code",
   "execution_count": 5,
   "id": "d5bc1ca6",
   "metadata": {},
   "outputs": [],
   "source": [
    "X = data.iloc[:,0:1]\n",
    "y = data.iloc[:,-1:]\n",
    "X_train,X_test,y_train,y_test = train_test_split(X,y,test_size=0.2,random_state=2)"
   ]
  },
  {
   "cell_type": "code",
   "execution_count": 6,
   "id": "ebad78cc",
   "metadata": {},
   "outputs": [],
   "source": [
    "lr = LinearRegression()\n",
    "lr.fit(X_train,y_train)\n",
    "y_pred = lr.predict(X_test)"
   ]
  },
  {
   "cell_type": "markdown",
   "id": "72f9977a",
   "metadata": {},
   "source": [
    "## Mean Absolute Error"
   ]
  },
  {
   "cell_type": "code",
   "execution_count": 11,
   "id": "03895b7c",
   "metadata": {},
   "outputs": [
    {
     "name": "stdout",
     "output_type": "stream",
     "text": [
      "Mean Absolute Error ==  0.2884710931878175\n"
     ]
    }
   ],
   "source": [
    "mae = mean_absolute_error(y_test,y_pred)\n",
    "print('Mean Absolute Error == ',mae)"
   ]
  },
  {
   "cell_type": "markdown",
   "id": "8f2c471b",
   "metadata": {},
   "source": [
    "## Mean Squared Error"
   ]
  },
  {
   "cell_type": "code",
   "execution_count": 12,
   "id": "c3e24cd2",
   "metadata": {},
   "outputs": [
    {
     "name": "stdout",
     "output_type": "stream",
     "text": [
      "Mean Squared Error ==  0.12129235313495527\n"
     ]
    }
   ],
   "source": [
    "mse = mean_squared_error(y_test,y_pred)\n",
    "print('Mean Squared Error == ',mse)"
   ]
  },
  {
   "cell_type": "markdown",
   "id": "e70284e4",
   "metadata": {},
   "source": [
    "## Root Mean Squared Error"
   ]
  },
  {
   "cell_type": "code",
   "execution_count": 13,
   "id": "29f69483",
   "metadata": {},
   "outputs": [
    {
     "name": "stdout",
     "output_type": "stream",
     "text": [
      "Root Mean Squared Error ==  0.34827051717731616\n"
     ]
    }
   ],
   "source": [
    "rmse = np.sqrt(mean_squared_error(y_test,y_pred))\n",
    "print('Root Mean Squared Error == ',rmse)"
   ]
  },
  {
   "cell_type": "markdown",
   "id": "4cb70568",
   "metadata": {},
   "source": [
    "## R2_score"
   ]
  },
  {
   "cell_type": "code",
   "execution_count": 14,
   "id": "c747c597",
   "metadata": {},
   "outputs": [
    {
     "name": "stdout",
     "output_type": "stream",
     "text": [
      "R2 score ==  0.780730147510384\n"
     ]
    }
   ],
   "source": [
    "r2 = r2_score(y_test,y_pred)\n",
    "print('R2 score == ',r2)"
   ]
  },
  {
   "cell_type": "markdown",
   "id": "0fe5d8c7",
   "metadata": {},
   "source": [
    "## Adjusted R2_score"
   ]
  },
  {
   "cell_type": "code",
   "execution_count": 15,
   "id": "1504b375",
   "metadata": {
    "scrolled": true
   },
   "outputs": [
    {
     "name": "stdout",
     "output_type": "stream",
     "text": [
      "Adjusted R2 score ==  0.7749598882343415\n"
     ]
    }
   ],
   "source": [
    "n = X_test.shape[0]\n",
    "k = X_test.shape[1]\n",
    "adjusted_r2 = 1- (((1-r2)*(n-1))/(n-k-1))\n",
    "print('Adjusted R2 score == ',adjusted_r2)"
   ]
  },
  {
   "cell_type": "code",
   "execution_count": null,
   "id": "955e03c1",
   "metadata": {},
   "outputs": [],
   "source": []
  },
  {
   "cell_type": "code",
   "execution_count": null,
   "id": "35089dc6",
   "metadata": {},
   "outputs": [],
   "source": []
  },
  {
   "cell_type": "code",
   "execution_count": null,
   "id": "6f7a1b50",
   "metadata": {},
   "outputs": [],
   "source": []
  },
  {
   "cell_type": "markdown",
   "id": "6e1b9976",
   "metadata": {},
   "source": [
    "# Practice"
   ]
  },
  {
   "cell_type": "code",
   "execution_count": 1,
   "id": "ff10bc5e",
   "metadata": {},
   "outputs": [],
   "source": [
    "import pandas as pd\n",
    "import numpy as np"
   ]
  },
  {
   "cell_type": "code",
   "execution_count": 7,
   "id": "a35bcc5f",
   "metadata": {},
   "outputs": [],
   "source": [
    "np.random.seed(2)\n",
    "house_prices=pd.read_csv(\"data/HousingData.csv\")"
   ]
  },
  {
   "cell_type": "code",
   "execution_count": 8,
   "id": "1d77a1f0",
   "metadata": {},
   "outputs": [],
   "source": [
    "house_prices[\"CRIM\"].fillna(house_prices[\"CRIM\"].mean(),inplace=True)\n",
    "house_prices[\"ZN\"].fillna(house_prices[\"ZN\"].mean(),inplace=True)\n",
    "house_prices[\"INDUS\"].fillna(house_prices[\"INDUS\"].mean(),inplace=True)\n",
    "house_prices[\"CHAS\"].fillna(house_prices[\"CHAS\"].mean(),inplace=True)\n",
    "house_prices[\"AGE\"].fillna(house_prices[\"AGE\"].mean(),inplace=True)\n",
    "house_prices[\"LSTAT\"].fillna(house_prices[\"LSTAT\"].mean(),inplace=True)"
   ]
  },
  {
   "cell_type": "code",
   "execution_count": 9,
   "id": "bace83c0",
   "metadata": {},
   "outputs": [],
   "source": [
    "np.random.seed(2)\n",
    "X=house_prices.drop(\"MEDV\",axis=1)\n",
    "y=house_prices[\"MEDV\"]"
   ]
  },
  {
   "cell_type": "code",
   "execution_count": 14,
   "id": "cddeaedb",
   "metadata": {},
   "outputs": [
    {
     "name": "stdout",
     "output_type": "stream",
     "text": [
      "R2- SCORE : 87.08%\n"
     ]
    }
   ],
   "source": [
    "np.random.seed(2)\n",
    "from sklearn.model_selection import train_test_split\n",
    "from sklearn.ensemble import RandomForestRegressor\n",
    "X_train, X_test, y_train, y_test=train_test_split(X,\n",
    "                                                  y,\n",
    "                                                  test_size=0.2)\n",
    "reg=RandomForestRegressor()\n",
    "reg.fit(X_train,y_train)\n",
    "y_preds=reg.predict(X_test)\n",
    "r2_score=reg.score(X_test,y_test)\n",
    "print(f\"R2- SCORE : {r2_score*100:.2f}%\")"
   ]
  },
  {
   "cell_type": "code",
   "execution_count": 18,
   "id": "d1311bc3",
   "metadata": {},
   "outputs": [
    {
     "name": "stdout",
     "output_type": "stream",
     "text": [
      "Mean Absolute Error(MAE) :  2.32\n"
     ]
    }
   ],
   "source": [
    "from sklearn.metrics import mean_absolute_error\n",
    "mae= mean_absolute_error(y_test,y_preds)\n",
    "print(f\"Mean Absolute Error(MAE) : {mae : .2f}\")"
   ]
  },
  {
   "cell_type": "code",
   "execution_count": 23,
   "id": "34f7ce02",
   "metadata": {},
   "outputs": [
    {
     "data": {
      "text/plain": [
       "2.3241078431372517"
      ]
     },
     "execution_count": 23,
     "metadata": {},
     "output_type": "execute_result"
    }
   ],
   "source": [
    "df=pd.DataFrame(data={\"Actual Values\":y_test,\n",
    "                      \"Predicted Values\":y_preds})\n",
    "df[\"Differences\"]=df[\"Actual Values\"]-df[\"Predicted Values\"]\n",
    "diff=abs(df[\"Differences\"]).mean()\n",
    "diff    #MEAN ABSOLUTE ERROR"
   ]
  },
  {
   "cell_type": "code",
   "execution_count": 26,
   "id": "0d9910ed",
   "metadata": {},
   "outputs": [
    {
     "name": "stdout",
     "output_type": "stream",
     "text": [
      "Mean Squared Error(MSE) :  10.81\n"
     ]
    }
   ],
   "source": [
    "from sklearn.metrics import mean_squared_error\n",
    "mse=mean_squared_error(y_test,y_preds)\n",
    "print(f\"Mean Squared Error(MSE) : {mse : .2f}\")"
   ]
  },
  {
   "cell_type": "code",
   "execution_count": 27,
   "id": "ad051d0c",
   "metadata": {},
   "outputs": [
    {
     "data": {
      "text/plain": [
       "10.80527655882352"
      ]
     },
     "execution_count": 27,
     "metadata": {},
     "output_type": "execute_result"
    }
   ],
   "source": [
    "df=pd.DataFrame(data={\"Actual Values\":y_test,\n",
    "                      \"Predicted Values\":y_preds})\n",
    "df[\"Differences\"]=df[\"Actual Values\"]-df[\"Predicted Values\"]\n",
    "diff=((df[\"Differences\"])**2).mean()\n",
    "diff  #MEAN SQUARED ERROR"
   ]
  },
  {
   "cell_type": "code",
   "execution_count": 29,
   "id": "a078ec22",
   "metadata": {},
   "outputs": [
    {
     "data": {
      "text/plain": [
       "array([0.77033873, 0.84576532, 0.70889646, 0.44088099, 0.4521411 ])"
      ]
     },
     "execution_count": 29,
     "metadata": {},
     "output_type": "execute_result"
    }
   ],
   "source": [
    "np.random.seed(2)\n",
    "from sklearn.model_selection import cross_val_score\n",
    "cv_r2_score=cross_val_score(reg,X,y,cv=5, scoring=\"r2\")\n",
    "cv_r2_score"
   ]
  },
  {
   "cell_type": "code",
   "execution_count": 35,
   "id": "3c55d12b",
   "metadata": {},
   "outputs": [
    {
     "data": {
      "text/plain": [
       "array([2.10104902, 2.70831683, 3.4410198 , 4.00074257, 3.02434653])"
      ]
     },
     "execution_count": 35,
     "metadata": {},
     "output_type": "execute_result"
    }
   ],
   "source": [
    "np.random.seed(2)\n",
    "cv_mae=cross_val_score(reg,X,y,cv=5, scoring=\"neg_mean_absolute_error\")\n",
    "cv_mae*-1"
   ]
  },
  {
   "cell_type": "code",
   "execution_count": null,
   "id": "942da7b4",
   "metadata": {},
   "outputs": [],
   "source": []
  }
 ],
 "metadata": {
  "kernelspec": {
   "display_name": "Python 3 (ipykernel)",
   "language": "python",
   "name": "python3"
  },
  "language_info": {
   "codemirror_mode": {
    "name": "ipython",
    "version": 3
   },
   "file_extension": ".py",
   "mimetype": "text/x-python",
   "name": "python",
   "nbconvert_exporter": "python",
   "pygments_lexer": "ipython3",
   "version": "3.9.7"
  }
 },
 "nbformat": 4,
 "nbformat_minor": 5
}
